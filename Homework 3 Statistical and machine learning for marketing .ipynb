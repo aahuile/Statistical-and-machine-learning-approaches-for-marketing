{
 "cells": [
  {
   "cell_type": "markdown",
   "metadata": {},
   "source": [
    "## Exercise 3 page 198 chapter 5"
   ]
  },
  {
   "cell_type": "markdown",
   "metadata": {},
   "source": [
    "a) K-fold cross validation divides the dataset into K parts and leaves k-1 parts as the train set and 1 part as the test set. It is used to find the true accuracy of the model. It runs the model and determines its accuracy k times and then makes a summary of this result. The main goal is to reduce the cross validation result, which is the sum of all the mean square errors divided by the amount of folds (k)\n",
    "\n",
    "b)\n",
    "\n",
    "i)Validation set approach\n",
    "\n",
    " Advantages: Unexpensive, easy to implement \n",
    " Disadvantages: Highly unbiased (specially if the dataset is too small)\n",
    "\n",
    "ii) LOOCV \n",
    "\n",
    "Advantages: It always yields the same result and unbiased\n",
    "Disadvantages: Expensive to implement and time consuming. "
   ]
  },
  {
   "cell_type": "markdown",
   "metadata": {},
   "source": [
    "## Exercise 8 page 200 chapter 5"
   ]
  },
  {
   "cell_type": "code",
   "execution_count": 3,
   "metadata": {},
   "outputs": [],
   "source": [
    "#a)\n",
    "\n",
    "set.seed(1)\n",
    "x<-rnorm(100)\n",
    "y<-x-2*x^2+rnorm(100)\n",
    "#n= 100 observations and p=2 features"
   ]
  },
  {
   "cell_type": "code",
   "execution_count": 9,
   "metadata": {},
   "outputs": [
    {
     "data": {
      "image/png": "[encoded data removed]",
      "text/plain": [
       "plot without title"
      ]
     },
     "metadata": {},
     "output_type": "display_data"
    }
   ],
   "source": [
    "#b)\n",
    "plot(x,y)\n",
    "#As it can be observed the relationship is quadratic"
   ]
  },
  {
   "cell_type": "code",
   "execution_count": 18,
   "metadata": {},
   "outputs": [
    {
     "data": {
      "text/html": [
       "<ol class=list-inline>\n",
       "\t<li>7.28816160667281</li>\n",
       "\t<li>7.28474411546929</li>\n",
       "</ol>\n"
      ],
      "text/latex": [
       "\\begin{enumerate*}\n",
       "\\item 7.28816160667281\n",
       "\\item 7.28474411546929\n",
       "\\end{enumerate*}\n"
      ],
      "text/markdown": [
       "1. 7.28816160667281\n",
       "2. 7.28474411546929\n",
       "\n",
       "\n"
      ],
      "text/plain": [
       "[1] 7.288162 7.284744"
      ]
     },
     "metadata": {},
     "output_type": "display_data"
    },
    {
     "data": {
      "text/html": [
       "<ol class=list-inline>\n",
       "\t<li>0.937423637615552</li>\n",
       "\t<li>0.937178917181123</li>\n",
       "</ol>\n"
      ],
      "text/latex": [
       "\\begin{enumerate*}\n",
       "\\item 0.937423637615552\n",
       "\\item 0.937178917181123\n",
       "\\end{enumerate*}\n"
      ],
      "text/markdown": [
       "1. 0.937423637615552\n",
       "2. 0.937178917181123\n",
       "\n",
       "\n"
      ],
      "text/plain": [
       "[1] 0.9374236 0.9371789"
      ]
     },
     "metadata": {},
     "output_type": "display_data"
    },
    {
     "data": {
      "text/html": [
       "<ol class=list-inline>\n",
       "\t<li>0.956621830108939</li>\n",
       "\t<li>0.956253813731321</li>\n",
       "</ol>\n"
      ],
      "text/latex": [
       "\\begin{enumerate*}\n",
       "\\item 0.956621830108939\n",
       "\\item 0.956253813731321\n",
       "\\end{enumerate*}\n"
      ],
      "text/markdown": [
       "1. 0.956621830108939\n",
       "2. 0.956253813731321\n",
       "\n",
       "\n"
      ],
      "text/plain": [
       "[1] 0.9566218 0.9562538"
      ]
     },
     "metadata": {},
     "output_type": "display_data"
    },
    {
     "data": {
      "text/html": [
       "<ol class=list-inline>\n",
       "\t<li>0.953904892744804</li>\n",
       "\t<li>0.953445283156601</li>\n",
       "</ol>\n"
      ],
      "text/latex": [
       "\\begin{enumerate*}\n",
       "\\item 0.953904892744804\n",
       "\\item 0.953445283156601\n",
       "\\end{enumerate*}\n"
      ],
      "text/markdown": [
       "1. 0.953904892744804\n",
       "2. 0.953445283156601\n",
       "\n",
       "\n"
      ],
      "text/plain": [
       "[1] 0.9539049 0.9534453"
      ]
     },
     "metadata": {},
     "output_type": "display_data"
    }
   ],
   "source": [
    "#c)\n",
    "library(\"ISLR\")\n",
    "library(\"boot\")\n",
    "set.seed(123)\n",
    "dataframe <- data.frame(y, x, x2=x^2, x3=x^3, x4=x^4)\n",
    "\n",
    "#first run\n",
    "first_run <- glm(y~x,data=dataframe)\n",
    "cv1 <- cv.glm(dataframe,first_run)\n",
    "cv1$delta\n",
    "#second run\n",
    "second_run <- glm(y~x+x2,data=dataframe)\n",
    "cv2 <- cv.glm(dataframe,second_run)\n",
    "cv2$delta\n",
    "#third run \n",
    "third_run <- glm(y~x+x2+x3,data=dataframe)\n",
    "cv3 <- cv.glm(dataframe,third_run)\n",
    "cv3$delta\n",
    "#fourth run \n",
    "fourth_run <- glm(y~x+x2+x3+x4,data=dataframe)\n",
    "cv4 <- cv.glm(dataframe,fourth_run)\n",
    "cv4$delta\n"
   ]
  },
  {
   "cell_type": "code",
   "execution_count": 19,
   "metadata": {},
   "outputs": [
    {
     "data": {
      "text/html": [
       "<ol class=list-inline>\n",
       "\t<li>7.28816160667281</li>\n",
       "\t<li>7.28474411546929</li>\n",
       "</ol>\n"
      ],
      "text/latex": [
       "\\begin{enumerate*}\n",
       "\\item 7.28816160667281\n",
       "\\item 7.28474411546929\n",
       "\\end{enumerate*}\n"
      ],
      "text/markdown": [
       "1. 7.28816160667281\n",
       "2. 7.28474411546929\n",
       "\n",
       "\n"
      ],
      "text/plain": [
       "[1] 7.288162 7.284744"
      ]
     },
     "metadata": {},
     "output_type": "display_data"
    },
    {
     "data": {
      "text/html": [
       "<ol class=list-inline>\n",
       "\t<li>0.937423637615552</li>\n",
       "\t<li>0.937178917181123</li>\n",
       "</ol>\n"
      ],
      "text/latex": [
       "\\begin{enumerate*}\n",
       "\\item 0.937423637615552\n",
       "\\item 0.937178917181123\n",
       "\\end{enumerate*}\n"
      ],
      "text/markdown": [
       "1. 0.937423637615552\n",
       "2. 0.937178917181123\n",
       "\n",
       "\n"
      ],
      "text/plain": [
       "[1] 0.9374236 0.9371789"
      ]
     },
     "metadata": {},
     "output_type": "display_data"
    },
    {
     "data": {
      "text/html": [
       "<ol class=list-inline>\n",
       "\t<li>0.95662183010894</li>\n",
       "\t<li>0.956253813731321</li>\n",
       "</ol>\n"
      ],
      "text/latex": [
       "\\begin{enumerate*}\n",
       "\\item 0.95662183010894\n",
       "\\item 0.956253813731321\n",
       "\\end{enumerate*}\n"
      ],
      "text/markdown": [
       "1. 0.95662183010894\n",
       "2. 0.956253813731321\n",
       "\n",
       "\n"
      ],
      "text/plain": [
       "[1] 0.9566218 0.9562538"
      ]
     },
     "metadata": {},
     "output_type": "display_data"
    },
    {
     "data": {
      "text/html": [
       "<ol class=list-inline>\n",
       "\t<li>0.953904892744804</li>\n",
       "\t<li>0.953445283156601</li>\n",
       "</ol>\n"
      ],
      "text/latex": [
       "\\begin{enumerate*}\n",
       "\\item 0.953904892744804\n",
       "\\item 0.953445283156601\n",
       "\\end{enumerate*}\n"
      ],
      "text/markdown": [
       "1. 0.953904892744804\n",
       "2. 0.953445283156601\n",
       "\n",
       "\n"
      ],
      "text/plain": [
       "[1] 0.9539049 0.9534453"
      ]
     },
     "metadata": {},
     "output_type": "display_data"
    }
   ],
   "source": [
    "#d) \n",
    "set.seed(125)\n",
    "dataframe <- data.frame(y, x, x2=x^2, x3=x^3, x4=x^4)\n",
    "\n",
    "#first run\n",
    "first_run <- glm(y~x,data=dataframe)\n",
    "cv1 <- cv.glm(dataframe,first_run)\n",
    "cv1$delta\n",
    "#second run\n",
    "second_run <- glm(y~x+x2,data=dataframe)\n",
    "cv2 <- cv.glm(dataframe,second_run)\n",
    "cv2$delta\n",
    "#third run \n",
    "third_run <- glm(y~x+x2+x3,data=dataframe)\n",
    "cv3 <- cv.glm(dataframe,third_run)\n",
    "cv3$delta\n",
    "#fourth run \n",
    "fourth_run <- glm(y~x+x2+x3+x4,data=dataframe)\n",
    "cv4 <- cv.glm(dataframe,fourth_run)\n",
    "cv4$delta\n",
    "\n",
    "#The results are always the same because LOOCV always yields the same results so no randomness is involved"
   ]
  },
  {
   "cell_type": "markdown",
   "metadata": {},
   "source": [
    "e) The smallest error where the second order polynomial and this is totally expectable because the original model was made using a quadratic formula. "
   ]
  },
  {
   "cell_type": "code",
   "execution_count": 21,
   "metadata": {},
   "outputs": [
    {
     "data": {
      "text/plain": [
       "\n",
       "Call:\n",
       "lm(formula = y ~ poly(x, 4))\n",
       "\n",
       "Residuals:\n",
       "    Min      1Q  Median      3Q     Max \n",
       "-2.0550 -0.6212 -0.1567  0.5952  2.2267 \n",
       "\n",
       "Coefficients:\n",
       "             Estimate Std. Error t value Pr(>|t|)    \n",
       "(Intercept)  -1.55002    0.09591 -16.162  < 2e-16 ***\n",
       "poly(x, 4)1   6.18883    0.95905   6.453 4.59e-09 ***\n",
       "poly(x, 4)2 -23.94830    0.95905 -24.971  < 2e-16 ***\n",
       "poly(x, 4)3   0.26411    0.95905   0.275    0.784    \n",
       "poly(x, 4)4   1.25710    0.95905   1.311    0.193    \n",
       "---\n",
       "Signif. codes:  0 '***' 0.001 '**' 0.01 '*' 0.05 '.' 0.1 ' ' 1\n",
       "\n",
       "Residual standard error: 0.9591 on 95 degrees of freedom\n",
       "Multiple R-squared:  0.8753,\tAdjusted R-squared:  0.8701 \n",
       "F-statistic: 166.7 on 4 and 95 DF,  p-value: < 2.2e-16\n"
      ]
     },
     "metadata": {},
     "output_type": "display_data"
    }
   ],
   "source": [
    "#f) \n",
    "total_fit <- lm(y~poly(x,4))\n",
    "summary(total_fit)\n",
    "#only x1 and x2 are statistically significant."
   ]
  },
  {
   "cell_type": "markdown",
   "metadata": {},
   "source": [
    "## Exercise 1 page 259 chapter 6 "
   ]
  },
  {
   "cell_type": "markdown",
   "metadata": {},
   "source": [
    "a) Best subset will have the lowest RSS because it will look at all the combination of the models in order to decide which is best , while the other two models dont have the opportunity to look at all of the possible models, leaving some behind. "
   ]
  },
  {
   "cell_type": "markdown",
   "metadata": {},
   "source": [
    "b) This information is unknown as the behaviour in the test set might be different than in the train set for each of the models."
   ]
  },
  {
   "cell_type": "markdown",
   "metadata": {},
   "source": [
    "c)\n",
    "i)TRUE\n",
    "ii)TRUE\n",
    "iii)FALSE \n",
    "iv)FALSE\n",
    "v)FALSE"
   ]
  },
  {
   "cell_type": "markdown",
   "metadata": {},
   "source": [
    "## Exercise 9 page 263 chapter 6 "
   ]
  },
  {
   "cell_type": "code",
   "execution_count": 28,
   "metadata": {},
   "outputs": [
    {
     "data": {
      "text/html": [
       "<table>\n",
       "<thead><tr><th></th><th scope=col>Private</th><th scope=col>Apps</th><th scope=col>Accept</th><th scope=col>Enroll</th><th scope=col>Top10perc</th><th scope=col>Top25perc</th><th scope=col>F.Undergrad</th><th scope=col>P.Undergrad</th><th scope=col>Outstate</th><th scope=col>Room.Board</th><th scope=col>Books</th><th scope=col>Personal</th><th scope=col>PhD</th><th scope=col>Terminal</th><th scope=col>S.F.Ratio</th><th scope=col>perc.alumni</th><th scope=col>Expend</th><th scope=col>Grad.Rate</th></tr></thead>\n",
       "<tbody>\n",
       "\t<tr><th scope=row>Abilene Christian University</th><td>Yes  </td><td>1660 </td><td>1232 </td><td>721  </td><td>23   </td><td>52   </td><td>2885 </td><td> 537 </td><td> 7440</td><td>3300 </td><td>450  </td><td>2200 </td><td>70   </td><td>78   </td><td>18.1 </td><td>12   </td><td> 7041</td><td>60   </td></tr>\n",
       "\t<tr><th scope=row>Adelphi University</th><td>Yes  </td><td>2186 </td><td>1924 </td><td>512  </td><td>16   </td><td>29   </td><td>2683 </td><td>1227 </td><td>12280</td><td>6450 </td><td>750  </td><td>1500 </td><td>29   </td><td>30   </td><td>12.2 </td><td>16   </td><td>10527</td><td>56   </td></tr>\n",
       "\t<tr><th scope=row>Adrian College</th><td>Yes  </td><td>1428 </td><td>1097 </td><td>336  </td><td>22   </td><td>50   </td><td>1036 </td><td>  99 </td><td>11250</td><td>3750 </td><td>400  </td><td>1165 </td><td>53   </td><td>66   </td><td>12.9 </td><td>30   </td><td> 8735</td><td>54   </td></tr>\n",
       "\t<tr><th scope=row>Agnes Scott College</th><td>Yes  </td><td> 417 </td><td> 349 </td><td>137  </td><td>60   </td><td>89   </td><td> 510 </td><td>  63 </td><td>12960</td><td>5450 </td><td>450  </td><td> 875 </td><td>92   </td><td>97   </td><td> 7.7 </td><td>37   </td><td>19016</td><td>59   </td></tr>\n",
       "\t<tr><th scope=row>Alaska Pacific University</th><td>Yes  </td><td> 193 </td><td> 146 </td><td> 55  </td><td>16   </td><td>44   </td><td> 249 </td><td> 869 </td><td> 7560</td><td>4120 </td><td>800  </td><td>1500 </td><td>76   </td><td>72   </td><td>11.9 </td><td> 2   </td><td>10922</td><td>15   </td></tr>\n",
       "\t<tr><th scope=row>Albertson College</th><td>Yes  </td><td> 587 </td><td> 479 </td><td>158  </td><td>38   </td><td>62   </td><td> 678 </td><td>  41 </td><td>13500</td><td>3335 </td><td>500  </td><td> 675 </td><td>67   </td><td>73   </td><td> 9.4 </td><td>11   </td><td> 9727</td><td>55   </td></tr>\n",
       "</tbody>\n",
       "</table>\n"
      ],
      "text/latex": [
       "\\begin{tabular}{r|llllllllllllllllll}\n",
       "  & Private & Apps & Accept & Enroll & Top10perc & Top25perc & F.Undergrad & P.Undergrad & Outstate & Room.Board & Books & Personal & PhD & Terminal & S.F.Ratio & perc.alumni & Expend & Grad.Rate\\\\\n",
       "\\hline\n",
       "\tAbilene Christian University & Yes   & 1660  & 1232  & 721   & 23    & 52    & 2885  &  537  &  7440 & 3300  & 450   & 2200  & 70    & 78    & 18.1  & 12    &  7041 & 60   \\\\\n",
       "\tAdelphi University & Yes   & 2186  & 1924  & 512   & 16    & 29    & 2683  & 1227  & 12280 & 6450  & 750   & 1500  & 29    & 30    & 12.2  & 16    & 10527 & 56   \\\\\n",
       "\tAdrian College & Yes   & 1428  & 1097  & 336   & 22    & 50    & 1036  &   99  & 11250 & 3750  & 400   & 1165  & 53    & 66    & 12.9  & 30    &  8735 & 54   \\\\\n",
       "\tAgnes Scott College & Yes   &  417  &  349  & 137   & 60    & 89    &  510  &   63  & 12960 & 5450  & 450   &  875  & 92    & 97    &  7.7  & 37    & 19016 & 59   \\\\\n",
       "\tAlaska Pacific University & Yes   &  193  &  146  &  55   & 16    & 44    &  249  &  869  &  7560 & 4120  & 800   & 1500  & 76    & 72    & 11.9  &  2    & 10922 & 15   \\\\\n",
       "\tAlbertson College & Yes   &  587  &  479  & 158   & 38    & 62    &  678  &   41  & 13500 & 3335  & 500   &  675  & 67    & 73    &  9.4  & 11    &  9727 & 55   \\\\\n",
       "\\end{tabular}\n"
      ],
      "text/markdown": [
       "\n",
       "| <!--/--> | Private | Apps | Accept | Enroll | Top10perc | Top25perc | F.Undergrad | P.Undergrad | Outstate | Room.Board | Books | Personal | PhD | Terminal | S.F.Ratio | perc.alumni | Expend | Grad.Rate |\n",
       "|---|---|---|---|---|---|---|---|---|---|---|---|---|---|---|---|---|---|---|\n",
       "| Abilene Christian University | Yes   | 1660  | 1232  | 721   | 23    | 52    | 2885  |  537  |  7440 | 3300  | 450   | 2200  | 70    | 78    | 18.1  | 12    |  7041 | 60    |\n",
       "| Adelphi University | Yes   | 2186  | 1924  | 512   | 16    | 29    | 2683  | 1227  | 12280 | 6450  | 750   | 1500  | 29    | 30    | 12.2  | 16    | 10527 | 56    |\n",
       "| Adrian College | Yes   | 1428  | 1097  | 336   | 22    | 50    | 1036  |   99  | 11250 | 3750  | 400   | 1165  | 53    | 66    | 12.9  | 30    |  8735 | 54    |\n",
       "| Agnes Scott College | Yes   |  417  |  349  | 137   | 60    | 89    |  510  |   63  | 12960 | 5450  | 450   |  875  | 92    | 97    |  7.7  | 37    | 19016 | 59    |\n",
       "| Alaska Pacific University | Yes   |  193  |  146  |  55   | 16    | 44    |  249  |  869  |  7560 | 4120  | 800   | 1500  | 76    | 72    | 11.9  |  2    | 10922 | 15    |\n",
       "| Albertson College | Yes   |  587  |  479  | 158   | 38    | 62    |  678  |   41  | 13500 | 3335  | 500   |  675  | 67    | 73    |  9.4  | 11    |  9727 | 55    |\n",
       "\n"
      ],
      "text/plain": [
       "                             Private Apps Accept Enroll Top10perc Top25perc\n",
       "Abilene Christian University Yes     1660 1232   721    23        52       \n",
       "Adelphi University           Yes     2186 1924   512    16        29       \n",
       "Adrian College               Yes     1428 1097   336    22        50       \n",
       "Agnes Scott College          Yes      417  349   137    60        89       \n",
       "Alaska Pacific University    Yes      193  146    55    16        44       \n",
       "Albertson College            Yes      587  479   158    38        62       \n",
       "                             F.Undergrad P.Undergrad Outstate Room.Board Books\n",
       "Abilene Christian University 2885         537         7440    3300       450  \n",
       "Adelphi University           2683        1227        12280    6450       750  \n",
       "Adrian College               1036          99        11250    3750       400  \n",
       "Agnes Scott College           510          63        12960    5450       450  \n",
       "Alaska Pacific University     249         869         7560    4120       800  \n",
       "Albertson College             678          41        13500    3335       500  \n",
       "                             Personal PhD Terminal S.F.Ratio perc.alumni Expend\n",
       "Abilene Christian University 2200     70  78       18.1      12           7041 \n",
       "Adelphi University           1500     29  30       12.2      16          10527 \n",
       "Adrian College               1165     53  66       12.9      30           8735 \n",
       "Agnes Scott College           875     92  97        7.7      37          19016 \n",
       "Alaska Pacific University    1500     76  72       11.9       2          10922 \n",
       "Albertson College             675     67  73        9.4      11           9727 \n",
       "                             Grad.Rate\n",
       "Abilene Christian University 60       \n",
       "Adelphi University           56       \n",
       "Adrian College               54       \n",
       "Agnes Scott College          59       \n",
       "Alaska Pacific University    15       \n",
       "Albertson College            55       "
      ]
     },
     "metadata": {},
     "output_type": "display_data"
    }
   ],
   "source": [
    "#a) Split data \n",
    "data(College)\n",
    "## 75% of the sample size\n",
    "smp_size <- floor(0.75 * nrow(College))\n",
    "\n",
    "## set the seed to make your partition reproducible\n",
    "set.seed(1297)\n",
    "train_ind <- sample(seq_len(nrow(College)), size = smp_size)\n",
    "\n",
    "train <- College[train_ind, ]\n",
    "test <- College[-train_ind, ]\n",
    "head(College)"
   ]
  },
  {
   "cell_type": "code",
   "execution_count": 30,
   "metadata": {},
   "outputs": [
    {
     "data": {
      "text/html": [
       "909064.496382652"
      ],
      "text/latex": [
       "909064.496382652"
      ],
      "text/markdown": [
       "909064.496382652"
      ],
      "text/plain": [
       "[1] 909064.5"
      ]
     },
     "metadata": {},
     "output_type": "display_data"
    },
    {
     "data": {
      "text/html": [
       "909064.496382652"
      ],
      "text/latex": [
       "909064.496382652"
      ],
      "text/markdown": [
       "909064.496382652"
      ],
      "text/plain": [
       "[1] 909064.5"
      ]
     },
     "metadata": {},
     "output_type": "display_data"
    }
   ],
   "source": [
    "#b)\n",
    "trainmodel <- lm(Apps~., data=train)\n",
    "prediction <- predict(trainmodel, test)\n",
    "(error<- mean((test$Apps - prediction)^2))\n",
    "\n",
    "error"
   ]
  },
  {
   "cell_type": "code",
   "execution_count": 33,
   "metadata": {},
   "outputs": [
    {
     "data": {
      "text/html": [
       "413.250650849701"
      ],
      "text/latex": [
       "413.250650849701"
      ],
      "text/markdown": [
       "413.250650849701"
      ],
      "text/plain": [
       "[1] 413.2507"
      ]
     },
     "metadata": {},
     "output_type": "display_data"
    },
    {
     "data": {
      "text/html": [
       "1090614.3435623"
      ],
      "text/latex": [
       "1090614.3435623"
      ],
      "text/markdown": [
       "1090614.3435623"
      ],
      "text/plain": [
       "[1] 1090614"
      ]
     },
     "metadata": {},
     "output_type": "display_data"
    }
   ],
   "source": [
    "#c) \n",
    "library(glmnet)\n",
    "trainridge <- model.matrix(Apps~., data=train)[,-1]\n",
    "testridge <- model.matrix(Apps~., data=test)[,-1]\n",
    "ridgefit <- cv.glmnet(trainridge, train$Apps, alpha=0)\n",
    "(lambda <- ridgefit$lambda.min)\n",
    "ridge_prediction <- predict(ridgefit, s=lambda, newx=testridge)\n",
    "(ridge_error <- mean((test$Apps - ridge_prediction)^2)) "
   ]
  },
  {
   "cell_type": "code",
   "execution_count": 34,
   "metadata": {},
   "outputs": [
    {
     "data": {
      "text/html": [
       "24.7737255673985"
      ],
      "text/latex": [
       "24.7737255673985"
      ],
      "text/markdown": [
       "24.7737255673985"
      ],
      "text/plain": [
       "[1] 24.77373"
      ]
     },
     "metadata": {},
     "output_type": "display_data"
    },
    {
     "data": {
      "text/html": [
       "919815.364308103"
      ],
      "text/latex": [
       "919815.364308103"
      ],
      "text/markdown": [
       "919815.364308103"
      ],
      "text/plain": [
       "[1] 919815.4"
      ]
     },
     "metadata": {},
     "output_type": "display_data"
    },
    {
     "data": {
      "text/html": [
       "<dl class=dl-horizontal>\n",
       "\t<dt>(Intercept)</dt>\n",
       "\t\t<dd>-586.08093368796</dd>\n",
       "\t<dt>PrivateYes</dt>\n",
       "\t\t<dd>-406.829883873146</dd>\n",
       "\t<dt>Accept</dt>\n",
       "\t\t<dd>1.44956901756398</dd>\n",
       "\t<dt>Enroll</dt>\n",
       "\t\t<dd>-0.178873211204577</dd>\n",
       "\t<dt>Top10perc</dt>\n",
       "\t\t<dd>33.1818930565652</dd>\n",
       "\t<dt>P.Undergrad</dt>\n",
       "\t\t<dd>0.0150586069898878</dd>\n",
       "\t<dt>Outstate</dt>\n",
       "\t\t<dd>-0.0487315356985319</dd>\n",
       "\t<dt>Room.Board</dt>\n",
       "\t\t<dd>0.109789387819963</dd>\n",
       "\t<dt>Personal</dt>\n",
       "\t\t<dd>0.0904179015919241</dd>\n",
       "\t<dt>PhD</dt>\n",
       "\t\t<dd>-6.83107113286416</dd>\n",
       "\t<dt>Terminal</dt>\n",
       "\t\t<dd>-5.2579439071245</dd>\n",
       "\t<dt>S.F.Ratio</dt>\n",
       "\t\t<dd>0.187156692652935</dd>\n",
       "\t<dt>perc.alumni</dt>\n",
       "\t\t<dd>-0.508793919053306</dd>\n",
       "\t<dt>Expend</dt>\n",
       "\t\t<dd>0.0677672472091152</dd>\n",
       "\t<dt>Grad.Rate</dt>\n",
       "\t\t<dd>5.35035223267649</dd>\n",
       "</dl>\n"
      ],
      "text/latex": [
       "\\begin{description*}\n",
       "\\item[(Intercept)] -586.08093368796\n",
       "\\item[PrivateYes] -406.829883873146\n",
       "\\item[Accept] 1.44956901756398\n",
       "\\item[Enroll] -0.178873211204577\n",
       "\\item[Top10perc] 33.1818930565652\n",
       "\\item[P.Undergrad] 0.0150586069898878\n",
       "\\item[Outstate] -0.0487315356985319\n",
       "\\item[Room.Board] 0.109789387819963\n",
       "\\item[Personal] 0.0904179015919241\n",
       "\\item[PhD] -6.83107113286416\n",
       "\\item[Terminal] -5.2579439071245\n",
       "\\item[S.F.Ratio] 0.187156692652935\n",
       "\\item[perc.alumni] -0.508793919053306\n",
       "\\item[Expend] 0.0677672472091152\n",
       "\\item[Grad.Rate] 5.35035223267649\n",
       "\\end{description*}\n"
      ],
      "text/markdown": [
       "(Intercept)\n",
       ":   -586.08093368796PrivateYes\n",
       ":   -406.829883873146Accept\n",
       ":   1.44956901756398Enroll\n",
       ":   -0.178873211204577Top10perc\n",
       ":   33.1818930565652P.Undergrad\n",
       ":   0.0150586069898878Outstate\n",
       ":   -0.0487315356985319Room.Board\n",
       ":   0.109789387819963Personal\n",
       ":   0.0904179015919241PhD\n",
       ":   -6.83107113286416Terminal\n",
       ":   -5.2579439071245S.F.Ratio\n",
       ":   0.187156692652935perc.alumni\n",
       ":   -0.508793919053306Expend\n",
       ":   0.0677672472091152Grad.Rate\n",
       ":   5.35035223267649\n",
       "\n"
      ],
      "text/plain": [
       "  (Intercept)    PrivateYes        Accept        Enroll     Top10perc \n",
       "-586.08093369 -406.82988387    1.44956902   -0.17887321   33.18189306 \n",
       "  P.Undergrad      Outstate    Room.Board      Personal           PhD \n",
       "   0.01505861   -0.04873154    0.10978939    0.09041790   -6.83107113 \n",
       "     Terminal     S.F.Ratio   perc.alumni        Expend     Grad.Rate \n",
       "  -5.25794391    0.18715669   -0.50879392    0.06776725    5.35035223 "
      ]
     },
     "metadata": {},
     "output_type": "display_data"
    },
    {
     "data": {
      "text/html": [
       "15"
      ],
      "text/latex": [
       "15"
      ],
      "text/markdown": [
       "15"
      ],
      "text/plain": [
       "[1] 15"
      ]
     },
     "metadata": {},
     "output_type": "display_data"
    }
   ],
   "source": [
    "#d)\n",
    "trainlasso <- model.matrix(Apps~., data=train)[,-1]\n",
    "testlasso <- model.matrix(Apps~., data=test)[,-1]\n",
    "lassofit <- cv.glmnet(trainlasso, train$Apps, alpha=1)\n",
    "(lambda <- lassofit$lambda.min)  \n",
    "prediction_lasso <- predict(lassofit, s=lambda, newx=testlasso)\n",
    "(lasso_error <- mean((test$Apps - prediction_lasso)^2))  \n",
    "lasso_coefficient <- predict(lassofit, type=\"coefficients\", s=lambda)[1:ncol(College),]\n",
    "lasso_coefficient[lasso_coefficient != 0]\n",
    "length(lasso_coefficient[lasso_coefficient != 0])"
   ]
  },
  {
   "cell_type": "code",
   "execution_count": 39,
   "metadata": {},
   "outputs": [
    {
     "ename": "ERROR",
     "evalue": "Error in install.packages(plsR): object 'plsR' not found\n",
     "output_type": "error",
     "traceback": [
      "Error in install.packages(plsR): object 'plsR' not found\nTraceback:\n",
      "1. install.packages(plsR)"
     ]
    }
   ],
   "source": [
    "#e)\n",
    "install.packages(pls)\n",
    "library(pls)\n",
    "set.seed(154)\n",
    "pcrfit <- pcr(Apps~., data=train, scale=TRUE, validation=\"CV\")\n",
    "validationplot(pcrfit, val.type=\"MSEP\")\n",
    "summary(pcrfit)\n",
    "pcr_prediction <- predict(pcrfit, test, ncomp=16)  \n",
    "(pcr_error <- mean((test$Apps - pcr_prediction)^2)) "
   ]
  },
  {
   "cell_type": "code",
   "execution_count": 36,
   "metadata": {},
   "outputs": [
    {
     "ename": "ERROR",
     "evalue": "Error in plsr(Apps ~ ., data = train, scale = TRUE, validation = \"CV\"): could not find function \"plsr\"\n",
     "output_type": "error",
     "traceback": [
      "Error in plsr(Apps ~ ., data = train, scale = TRUE, validation = \"CV\"): could not find function \"plsr\"\nTraceback:\n"
     ]
    }
   ],
   "source": [
    "#f)\n",
    "set.seed(178)\n",
    "plsfit <- plsr(Apps~., data=train, scale=TRUE, validation=\"CV\")\n",
    "validationplot(plsfit, val.type=\"MSEP\")\n",
    "summary(plsfit)\n",
    "pls_prediction <- predict(plsfit, test, ncomp=10)  \n",
    "(pls_error <- mean((test$Apps - pls_prediction)^2))"
   ]
  },
  {
   "cell_type": "markdown",
   "metadata": {},
   "source": [
    "g) "
   ]
  },
  {
   "cell_type": "markdown",
   "metadata": {},
   "source": [
    "## Exercise 9 page 299 chapter 7"
   ]
  },
  {
   "cell_type": "code",
   "execution_count": null,
   "metadata": {},
   "outputs": [],
   "source": [
    "#a)"
   ]
  },
  {
   "cell_type": "code",
   "execution_count": null,
   "metadata": {},
   "outputs": [],
   "source": [
    "#b)"
   ]
  },
  {
   "cell_type": "code",
   "execution_count": null,
   "metadata": {},
   "outputs": [],
   "source": [
    "#c)"
   ]
  },
  {
   "cell_type": "code",
   "execution_count": null,
   "metadata": {},
   "outputs": [],
   "source": [
    "#d)"
   ]
  },
  {
   "cell_type": "code",
   "execution_count": null,
   "metadata": {},
   "outputs": [],
   "source": [
    "#e)"
   ]
  },
  {
   "cell_type": "code",
   "execution_count": null,
   "metadata": {},
   "outputs": [],
   "source": [
    "#f)"
   ]
  },
  {
   "cell_type": "markdown",
   "metadata": {},
   "source": [
    "## Exercise 10 page 300 chapter 7"
   ]
  },
  {
   "cell_type": "code",
   "execution_count": null,
   "metadata": {},
   "outputs": [],
   "source": [
    "#a)"
   ]
  },
  {
   "cell_type": "code",
   "execution_count": null,
   "metadata": {},
   "outputs": [],
   "source": [
    "#b)"
   ]
  },
  {
   "cell_type": "code",
   "execution_count": null,
   "metadata": {},
   "outputs": [],
   "source": [
    "#c)"
   ]
  },
  {
   "cell_type": "code",
   "execution_count": null,
   "metadata": {},
   "outputs": [],
   "source": [
    "#d)"
   ]
  }
 ],
 "metadata": {
  "kernelspec": {
   "display_name": "R",
   "language": "R",
   "name": "ir"
  },
  "language_info": {
   "codemirror_mode": "r",
   "file_extension": ".r",
   "mimetype": "text/x-r-source",
   "name": "R",
   "pygments_lexer": "r",
   "version": "3.6.0"
  }
 },
 "nbformat": 4,
 "nbformat_minor": 2
}
