{
 "cells": [
  {
   "cell_type": "markdown",
   "metadata": {},
   "source": [
    "# Statistical And Machine Learning Individual Project"
   ]
  },
  {
   "cell_type": "markdown",
   "metadata": {},
   "source": [
    "In this notebook you can find the application of 5 different machine algortithms. All of them with different approaches in order \n",
    "to cover as much as possible the material seen in class. "
   ]
  },
  {
   "cell_type": "markdown",
   "metadata": {},
   "source": [
    "# Datasets"
   ]
  },
  {
   "cell_type": "code",
   "execution_count": 1,
   "metadata": {},
   "outputs": [
    {
     "data": {
      "text/html": [
       "<table>\n",
       "<thead><tr><th scope=col>client_id</th><th scope=col>age</th><th scope=col>job</th><th scope=col>marital</th><th scope=col>education</th><th scope=col>default</th><th scope=col>housing</th><th scope=col>loan</th><th scope=col>contact</th><th scope=col>month</th><th scope=col>...</th><th scope=col>campaign</th><th scope=col>pdays</th><th scope=col>previous</th><th scope=col>poutcome</th><th scope=col>emp.var.rate</th><th scope=col>cons.price.idx</th><th scope=col>cons.conf.idx</th><th scope=col>euribor3m</th><th scope=col>nr.employed</th><th scope=col>subscribe</th></tr></thead>\n",
       "<tbody>\n",
       "\t<tr><td>2                </td><td>29               </td><td>housemaid        </td><td>single           </td><td>high.school      </td><td>no               </td><td>no               </td><td>no               </td><td>telephone        </td><td>may              </td><td>...              </td><td>3                </td><td>999              </td><td>0                </td><td>nonexistent      </td><td> 1.1             </td><td>93.994           </td><td>-36.4            </td><td>4.858            </td><td>5191.0           </td><td>0                </td></tr>\n",
       "\t<tr><td>3                </td><td>39               </td><td>unemployed       </td><td>married          </td><td>basic.9y         </td><td>unknown          </td><td>yes              </td><td>no               </td><td>telephone        </td><td>jun              </td><td>...              </td><td>6                </td><td>999              </td><td>0                </td><td>nonexistent      </td><td> 1.4             </td><td>94.465           </td><td>-41.8            </td><td>4.959            </td><td>5228.1           </td><td>0                </td></tr>\n",
       "\t<tr><td>4                </td><td>49               </td><td>blue-collar      </td><td>married          </td><td>basic.6y         </td><td>unknown          </td><td>no               </td><td>no               </td><td>cellular         </td><td>nov              </td><td>...              </td><td>2                </td><td>999              </td><td>0                </td><td>nonexistent      </td><td>-0.1             </td><td>93.200           </td><td>-42.0            </td><td>4.153            </td><td>5195.8           </td><td>0                </td></tr>\n",
       "\t<tr><td>5                </td><td>32               </td><td>self-employed    </td><td>single           </td><td>university.degree</td><td>no               </td><td>yes              </td><td>no               </td><td>cellular         </td><td>may              </td><td>...              </td><td>3                </td><td>999              </td><td>1                </td><td>failure          </td><td>-1.8             </td><td>92.893           </td><td>-46.2            </td><td>1.299            </td><td>5099.1           </td><td>0                </td></tr>\n",
       "\t<tr><td>6                </td><td>29               </td><td>admin.           </td><td>single           </td><td>high.school      </td><td>unknown          </td><td>yes              </td><td>no               </td><td>cellular         </td><td>jul              </td><td>...              </td><td>2                </td><td>999              </td><td>0                </td><td>nonexistent      </td><td> 1.4             </td><td>93.918           </td><td>-42.7            </td><td>4.963            </td><td>5228.1           </td><td>0                </td></tr>\n",
       "\t<tr><td>7                </td><td>51               </td><td>self-employed    </td><td>married          </td><td>university.degree</td><td>unknown          </td><td>yes              </td><td>no               </td><td>telephone        </td><td>jun              </td><td>...              </td><td>1                </td><td>999              </td><td>0                </td><td>nonexistent      </td><td> 1.4             </td><td>94.465           </td><td>-41.8            </td><td>4.864            </td><td>5228.1           </td><td>0                </td></tr>\n",
       "</tbody>\n",
       "</table>\n"
      ],
      "text/latex": [
       "\\begin{tabular}{r|lllllllllllllllllllll}\n",
       " client\\_id & age & job & marital & education & default & housing & loan & contact & month & ... & campaign & pdays & previous & poutcome & emp.var.rate & cons.price.idx & cons.conf.idx & euribor3m & nr.employed & subscribe\\\\\n",
       "\\hline\n",
       "\t 2                 & 29                & housemaid         & single            & high.school       & no                & no                & no                & telephone         & may               & ...               & 3                 & 999               & 0                 & nonexistent       &  1.1              & 93.994            & -36.4             & 4.858             & 5191.0            & 0                \\\\\n",
       "\t 3                 & 39                & unemployed        & married           & basic.9y          & unknown           & yes               & no                & telephone         & jun               & ...               & 6                 & 999               & 0                 & nonexistent       &  1.4              & 94.465            & -41.8             & 4.959             & 5228.1            & 0                \\\\\n",
       "\t 4                 & 49                & blue-collar       & married           & basic.6y          & unknown           & no                & no                & cellular          & nov               & ...               & 2                 & 999               & 0                 & nonexistent       & -0.1              & 93.200            & -42.0             & 4.153             & 5195.8            & 0                \\\\\n",
       "\t 5                 & 32                & self-employed     & single            & university.degree & no                & yes               & no                & cellular          & may               & ...               & 3                 & 999               & 1                 & failure           & -1.8              & 92.893            & -46.2             & 1.299             & 5099.1            & 0                \\\\\n",
       "\t 6                 & 29                & admin.            & single            & high.school       & unknown           & yes               & no                & cellular          & jul               & ...               & 2                 & 999               & 0                 & nonexistent       &  1.4              & 93.918            & -42.7             & 4.963             & 5228.1            & 0                \\\\\n",
       "\t 7                 & 51                & self-employed     & married           & university.degree & unknown           & yes               & no                & telephone         & jun               & ...               & 1                 & 999               & 0                 & nonexistent       &  1.4              & 94.465            & -41.8             & 4.864             & 5228.1            & 0                \\\\\n",
       "\\end{tabular}\n"
      ],
      "text/markdown": [
       "\n",
       "| client_id | age | job | marital | education | default | housing | loan | contact | month | ... | campaign | pdays | previous | poutcome | emp.var.rate | cons.price.idx | cons.conf.idx | euribor3m | nr.employed | subscribe |\n",
       "|---|---|---|---|---|---|---|---|---|---|---|---|---|---|---|---|---|---|---|---|---|\n",
       "| 2                 | 29                | housemaid         | single            | high.school       | no                | no                | no                | telephone         | may               | ...               | 3                 | 999               | 0                 | nonexistent       |  1.1              | 93.994            | -36.4             | 4.858             | 5191.0            | 0                 |\n",
       "| 3                 | 39                | unemployed        | married           | basic.9y          | unknown           | yes               | no                | telephone         | jun               | ...               | 6                 | 999               | 0                 | nonexistent       |  1.4              | 94.465            | -41.8             | 4.959             | 5228.1            | 0                 |\n",
       "| 4                 | 49                | blue-collar       | married           | basic.6y          | unknown           | no                | no                | cellular          | nov               | ...               | 2                 | 999               | 0                 | nonexistent       | -0.1              | 93.200            | -42.0             | 4.153             | 5195.8            | 0                 |\n",
       "| 5                 | 32                | self-employed     | single            | university.degree | no                | yes               | no                | cellular          | may               | ...               | 3                 | 999               | 1                 | failure           | -1.8              | 92.893            | -46.2             | 1.299             | 5099.1            | 0                 |\n",
       "| 6                 | 29                | admin.            | single            | high.school       | unknown           | yes               | no                | cellular          | jul               | ...               | 2                 | 999               | 0                 | nonexistent       |  1.4              | 93.918            | -42.7             | 4.963             | 5228.1            | 0                 |\n",
       "| 7                 | 51                | self-employed     | married           | university.degree | unknown           | yes               | no                | telephone         | jun               | ...               | 1                 | 999               | 0                 | nonexistent       |  1.4              | 94.465            | -41.8             | 4.864             | 5228.1            | 0                 |\n",
       "\n"
      ],
      "text/plain": [
       "  client_id age job           marital education         default housing loan\n",
       "1 2         29  housemaid     single  high.school       no      no      no  \n",
       "2 3         39  unemployed    married basic.9y          unknown yes     no  \n",
       "3 4         49  blue-collar   married basic.6y          unknown no      no  \n",
       "4 5         32  self-employed single  university.degree no      yes     no  \n",
       "5 6         29  admin.        single  high.school       unknown yes     no  \n",
       "6 7         51  self-employed married university.degree unknown yes     no  \n",
       "  contact   month ... campaign pdays previous poutcome    emp.var.rate\n",
       "1 telephone may   ... 3        999   0        nonexistent  1.1        \n",
       "2 telephone jun   ... 6        999   0        nonexistent  1.4        \n",
       "3 cellular  nov   ... 2        999   0        nonexistent -0.1        \n",
       "4 cellular  may   ... 3        999   1        failure     -1.8        \n",
       "5 cellular  jul   ... 2        999   0        nonexistent  1.4        \n",
       "6 telephone jun   ... 1        999   0        nonexistent  1.4        \n",
       "  cons.price.idx cons.conf.idx euribor3m nr.employed subscribe\n",
       "1 93.994         -36.4         4.858     5191.0      0        \n",
       "2 94.465         -41.8         4.959     5228.1      0        \n",
       "3 93.200         -42.0         4.153     5195.8      0        \n",
       "4 92.893         -46.2         1.299     5099.1      0        \n",
       "5 93.918         -42.7         4.963     5228.1      0        \n",
       "6 94.465         -41.8         4.864     5228.1      0        "
      ]
     },
     "metadata": {},
     "output_type": "display_data"
    }
   ],
   "source": [
    "#train dataset \n",
    "bank_train <- read.csv('./bank_mkt_train.csv')\n",
    "head(bank_train)"
   ]
  },
  {
   "cell_type": "code",
   "execution_count": 2,
   "metadata": {},
   "outputs": [
    {
     "data": {
      "text/html": [
       "<table>\n",
       "<thead><tr><th scope=col>client_id</th><th scope=col>age</th><th scope=col>job</th><th scope=col>marital</th><th scope=col>education</th><th scope=col>default</th><th scope=col>housing</th><th scope=col>loan</th><th scope=col>contact</th><th scope=col>month</th><th scope=col>day_of_week</th><th scope=col>campaign</th><th scope=col>pdays</th><th scope=col>previous</th><th scope=col>poutcome</th><th scope=col>emp.var.rate</th><th scope=col>cons.price.idx</th><th scope=col>cons.conf.idx</th><th scope=col>euribor3m</th><th scope=col>nr.employed</th></tr></thead>\n",
       "<tbody>\n",
       "\t<tr><td> 1                 </td><td>33                 </td><td>technician         </td><td>single             </td><td>university.degree  </td><td>no                 </td><td>no                 </td><td>no                 </td><td>cellular           </td><td>nov                </td><td>mon                </td><td>1                  </td><td>999                </td><td>0                  </td><td>nonexistent        </td><td>-0.1               </td><td>93.200             </td><td>-42.0              </td><td>4.191              </td><td>5195.8             </td></tr>\n",
       "\t<tr><td>10                 </td><td>45                 </td><td>services           </td><td>married            </td><td>high.school        </td><td>unknown            </td><td>yes                </td><td>no                 </td><td>cellular           </td><td>aug                </td><td>thu                </td><td>3                  </td><td>999                </td><td>0                  </td><td>nonexistent        </td><td> 1.4               </td><td>93.444             </td><td>-36.1              </td><td>4.963              </td><td>5228.1             </td></tr>\n",
       "\t<tr><td>11                 </td><td>33                 </td><td>technician         </td><td>single             </td><td>professional.course</td><td>no                 </td><td>yes                </td><td>no                 </td><td>telephone          </td><td>mar                </td><td>tue                </td><td>2                  </td><td>999                </td><td>0                  </td><td>nonexistent        </td><td>-1.8               </td><td>93.369             </td><td>-34.8              </td><td>0.646              </td><td>5008.7             </td></tr>\n",
       "\t<tr><td>12                 </td><td>38                 </td><td>blue-collar        </td><td>married            </td><td>basic.9y           </td><td>unknown            </td><td>no                 </td><td>no                 </td><td>telephone          </td><td>jul                </td><td>wed                </td><td>3                  </td><td>999                </td><td>0                  </td><td>nonexistent        </td><td> 1.4               </td><td>93.918             </td><td>-42.7              </td><td>4.956              </td><td>5228.1             </td></tr>\n",
       "\t<tr><td>13                 </td><td>30                 </td><td>technician         </td><td>single             </td><td>university.degree  </td><td>no                 </td><td>no                 </td><td>no                 </td><td>telephone          </td><td>may                </td><td>thu                </td><td>5                  </td><td>999                </td><td>0                  </td><td>nonexistent        </td><td> 1.1               </td><td>93.994             </td><td>-36.4              </td><td>4.860              </td><td>5191.0             </td></tr>\n",
       "\t<tr><td>17                 </td><td>33                 </td><td>blue-collar        </td><td>married            </td><td>basic.9y           </td><td>no                 </td><td>yes                </td><td>no                 </td><td>cellular           </td><td>jul                </td><td>tue                </td><td>1                  </td><td>999                </td><td>0                  </td><td>nonexistent        </td><td> 1.4               </td><td>93.918             </td><td>-42.7              </td><td>4.961              </td><td>5228.1             </td></tr>\n",
       "</tbody>\n",
       "</table>\n"
      ],
      "text/latex": [
       "\\begin{tabular}{r|llllllllllllllllllll}\n",
       " client\\_id & age & job & marital & education & default & housing & loan & contact & month & day\\_of\\_week & campaign & pdays & previous & poutcome & emp.var.rate & cons.price.idx & cons.conf.idx & euribor3m & nr.employed\\\\\n",
       "\\hline\n",
       "\t  1                  & 33                  & technician          & single              & university.degree   & no                  & no                  & no                  & cellular            & nov                 & mon                 & 1                   & 999                 & 0                   & nonexistent         & -0.1                & 93.200              & -42.0               & 4.191               & 5195.8             \\\\\n",
       "\t 10                  & 45                  & services            & married             & high.school         & unknown             & yes                 & no                  & cellular            & aug                 & thu                 & 3                   & 999                 & 0                   & nonexistent         &  1.4                & 93.444              & -36.1               & 4.963               & 5228.1             \\\\\n",
       "\t 11                  & 33                  & technician          & single              & professional.course & no                  & yes                 & no                  & telephone           & mar                 & tue                 & 2                   & 999                 & 0                   & nonexistent         & -1.8                & 93.369              & -34.8               & 0.646               & 5008.7             \\\\\n",
       "\t 12                  & 38                  & blue-collar         & married             & basic.9y            & unknown             & no                  & no                  & telephone           & jul                 & wed                 & 3                   & 999                 & 0                   & nonexistent         &  1.4                & 93.918              & -42.7               & 4.956               & 5228.1             \\\\\n",
       "\t 13                  & 30                  & technician          & single              & university.degree   & no                  & no                  & no                  & telephone           & may                 & thu                 & 5                   & 999                 & 0                   & nonexistent         &  1.1                & 93.994              & -36.4               & 4.860               & 5191.0             \\\\\n",
       "\t 17                  & 33                  & blue-collar         & married             & basic.9y            & no                  & yes                 & no                  & cellular            & jul                 & tue                 & 1                   & 999                 & 0                   & nonexistent         &  1.4                & 93.918              & -42.7               & 4.961               & 5228.1             \\\\\n",
       "\\end{tabular}\n"
      ],
      "text/markdown": [
       "\n",
       "| client_id | age | job | marital | education | default | housing | loan | contact | month | day_of_week | campaign | pdays | previous | poutcome | emp.var.rate | cons.price.idx | cons.conf.idx | euribor3m | nr.employed |\n",
       "|---|---|---|---|---|---|---|---|---|---|---|---|---|---|---|---|---|---|---|---|\n",
       "|  1                  | 33                  | technician          | single              | university.degree   | no                  | no                  | no                  | cellular            | nov                 | mon                 | 1                   | 999                 | 0                   | nonexistent         | -0.1                | 93.200              | -42.0               | 4.191               | 5195.8              |\n",
       "| 10                  | 45                  | services            | married             | high.school         | unknown             | yes                 | no                  | cellular            | aug                 | thu                 | 3                   | 999                 | 0                   | nonexistent         |  1.4                | 93.444              | -36.1               | 4.963               | 5228.1              |\n",
       "| 11                  | 33                  | technician          | single              | professional.course | no                  | yes                 | no                  | telephone           | mar                 | tue                 | 2                   | 999                 | 0                   | nonexistent         | -1.8                | 93.369              | -34.8               | 0.646               | 5008.7              |\n",
       "| 12                  | 38                  | blue-collar         | married             | basic.9y            | unknown             | no                  | no                  | telephone           | jul                 | wed                 | 3                   | 999                 | 0                   | nonexistent         |  1.4                | 93.918              | -42.7               | 4.956               | 5228.1              |\n",
       "| 13                  | 30                  | technician          | single              | university.degree   | no                  | no                  | no                  | telephone           | may                 | thu                 | 5                   | 999                 | 0                   | nonexistent         |  1.1                | 93.994              | -36.4               | 4.860               | 5191.0              |\n",
       "| 17                  | 33                  | blue-collar         | married             | basic.9y            | no                  | yes                 | no                  | cellular            | jul                 | tue                 | 1                   | 999                 | 0                   | nonexistent         |  1.4                | 93.918              | -42.7               | 4.961               | 5228.1              |\n",
       "\n"
      ],
      "text/plain": [
       "  client_id age job         marital education           default housing loan\n",
       "1  1        33  technician  single  university.degree   no      no      no  \n",
       "2 10        45  services    married high.school         unknown yes     no  \n",
       "3 11        33  technician  single  professional.course no      yes     no  \n",
       "4 12        38  blue-collar married basic.9y            unknown no      no  \n",
       "5 13        30  technician  single  university.degree   no      no      no  \n",
       "6 17        33  blue-collar married basic.9y            no      yes     no  \n",
       "  contact   month day_of_week campaign pdays previous poutcome    emp.var.rate\n",
       "1 cellular  nov   mon         1        999   0        nonexistent -0.1        \n",
       "2 cellular  aug   thu         3        999   0        nonexistent  1.4        \n",
       "3 telephone mar   tue         2        999   0        nonexistent -1.8        \n",
       "4 telephone jul   wed         3        999   0        nonexistent  1.4        \n",
       "5 telephone may   thu         5        999   0        nonexistent  1.1        \n",
       "6 cellular  jul   tue         1        999   0        nonexistent  1.4        \n",
       "  cons.price.idx cons.conf.idx euribor3m nr.employed\n",
       "1 93.200         -42.0         4.191     5195.8     \n",
       "2 93.444         -36.1         4.963     5228.1     \n",
       "3 93.369         -34.8         0.646     5008.7     \n",
       "4 93.918         -42.7         4.956     5228.1     \n",
       "5 93.994         -36.4         4.860     5191.0     \n",
       "6 93.918         -42.7         4.961     5228.1     "
      ]
     },
     "metadata": {},
     "output_type": "display_data"
    }
   ],
   "source": [
    "#test dataset \n",
    "bank_test <- read.csv('./bank_mkt_test.csv')\n",
    "head(bank_test)"
   ]
  },
  {
   "cell_type": "markdown",
   "metadata": {},
   "source": [
    "# ML MODELS"
   ]
  },
  {
   "cell_type": "markdown",
   "metadata": {},
   "source": [
    "## Decision tree"
   ]
  },
  {
   "cell_type": "code",
   "execution_count": 3,
   "metadata": {},
   "outputs": [],
   "source": [
    "#divide between bank_train between train and test \n",
    "set.seed(4)\n",
    "smp_size <- floor(0.75 * nrow(bank_train))\n",
    "\n",
    "# set the seed to make your partition reproducible\n",
    "set.seed(5)\n",
    "train_ind2 <- sample(seq_len(nrow(bank_train)), size = smp_size)\n",
    "\n",
    "train_tree <- bank_train[train_ind2, ]\n",
    "test_tree <- bank_train[-train_ind2, ]"
   ]
  },
  {
   "cell_type": "code",
   "execution_count": 4,
   "metadata": {},
   "outputs": [
    {
     "name": "stderr",
     "output_type": "stream",
     "text": [
      "Loading required package: tree\n",
      "Warning message:\n",
      "\"package 'tree' was built under R version 3.6.2\""
     ]
    }
   ],
   "source": [
    "#package installation and running of several decision trees\n",
    "if (!require(\"tree\")) install.packages(\"tree\")\n",
    "library(tree) \n",
    "#train model with all variables\n",
    "tree_bank <- tree(subscribe ~.-client_id,data=train_tree)\n",
    "#train model with group 1 variables\n",
    "tree_bank1 <- tree(subscribe ~ age + job + marital + education + default + housing + loan,data=train_tree )\n",
    "#train model with group 2 variables\n",
    "tree_bank2 <- tree(subscribe ~ contact + month + day_of_week,data=train_tree)\n",
    "#train model with group 3 variables\n",
    "tree_bank3 <- tree(subscribe ~ campaign + pdays + previous, poutcome, data=train_tree)\n",
    "#train model with group 4 variables \n",
    "tree_bank4 <- tree(subscribe ~emp.var.rate + cons.price.idx + cons.conf.idx + euribor3m + nr.employed, data= train_tree)\n"
   ]
  },
  {
   "cell_type": "code",
   "execution_count": 5,
   "metadata": {},
   "outputs": [],
   "source": [
    "#Predict the different decision trees in the test dataset\n",
    "tree_test <- predict(tree_bank,newdata=test_tree)\n",
    "tree_test1 <- predict(tree_bank1,newdata=test_tree)\n",
    "tree_test2 <- predict(tree_bank2,newdata=test_tree)\n",
    "tree_test3 <- predict(tree_bank3,newdata=test_tree)\n",
    "tree_test4 <- predict(tree_bank4,newdata=test_tree)"
   ]
  },
  {
   "cell_type": "code",
   "execution_count": 6,
   "metadata": {},
   "outputs": [
    {
     "name": "stderr",
     "output_type": "stream",
     "text": [
      "Warning message:\n",
      "\"package 'ROCR' was built under R version 3.6.2\"Loading required package: gplots\n",
      "Warning message:\n",
      "\"package 'gplots' was built under R version 3.6.2\"\n",
      "Attaching package: 'gplots'\n",
      "\n",
      "The following object is masked from 'package:stats':\n",
      "\n",
      "    lowess\n",
      "\n"
     ]
    },
    {
     "data": {
      "text/html": [
       "0.771564534924723"
      ],
      "text/latex": [
       "0.771564534924723"
      ],
      "text/markdown": [
       "0.771564534924723"
      ],
      "text/plain": [
       "[1] 0.7715645"
      ]
     },
     "metadata": {},
     "output_type": "display_data"
    },
    {
     "data": {
      "text/html": [
       "0.552698568353321"
      ],
      "text/latex": [
       "0.552698568353321"
      ],
      "text/markdown": [
       "0.552698568353321"
      ],
      "text/plain": [
       "[1] 0.5526986"
      ]
     },
     "metadata": {},
     "output_type": "display_data"
    },
    {
     "data": {
      "text/html": [
       "0.730490749540751"
      ],
      "text/latex": [
       "0.730490749540751"
      ],
      "text/markdown": [
       "0.730490749540751"
      ],
      "text/plain": [
       "[1] 0.7304907"
      ]
     },
     "metadata": {},
     "output_type": "display_data"
    },
    {
     "data": {
      "text/html": [
       "0.58381832897313"
      ],
      "text/latex": [
       "0.58381832897313"
      ],
      "text/markdown": [
       "0.58381832897313"
      ],
      "text/plain": [
       "[1] 0.5838183"
      ]
     },
     "metadata": {},
     "output_type": "display_data"
    },
    {
     "data": {
      "text/html": [
       "0.755748583633622"
      ],
      "text/latex": [
       "0.755748583633622"
      ],
      "text/markdown": [
       "0.755748583633622"
      ],
      "text/plain": [
       "[1] 0.7557486"
      ]
     },
     "metadata": {},
     "output_type": "display_data"
    }
   ],
   "source": [
    "#Evaluation metrics \n",
    "\n",
    "#AUC all \n",
    "\n",
    "library(ROCR)\n",
    "pred <- prediction(tree_test, test_tree$subscribe)\n",
    "perf <- performance(pred, measure = \"tpr\", x.measure = \"fpr\")\n",
    "#plot(perf)\n",
    "\n",
    "auc <- performance(pred, measure = \"auc\")\n",
    "auc <- auc@y.values[[1]]\n",
    "auc\n",
    "\n",
    "#AUC group 1\n",
    "pred1 <- prediction(tree_test1, test_tree$subscribe)\n",
    "perf1 <- performance(pred1, measure = \"tpr\", x.measure = \"fpr\")\n",
    "#plot(perf)\n",
    "\n",
    "auc1 <- performance(pred1, measure = \"auc\")\n",
    "auc1 <- auc1@y.values[[1]]\n",
    "auc1\n",
    "#AUC group2\n",
    "pred2 <- prediction(tree_test2, test_tree$subscribe)\n",
    "perf2 <- performance(pred2, measure = \"tpr\", x.measure = \"fpr\")\n",
    "#plot(perf)\n",
    "\n",
    "auc2 <- performance(pred2, measure = \"auc\")\n",
    "auc2 <- auc2@y.values[[1]]\n",
    "auc2\n",
    "#AUC group3\n",
    "pred3 <- prediction(tree_test3, test_tree$subscribe)\n",
    "perf1 <- performance(pred3, measure = \"tpr\", x.measure = \"fpr\")\n",
    "#plot(perf)\n",
    "\n",
    "auc3 <- performance(pred3, measure = \"auc\")\n",
    "auc3 <- auc3@y.values[[1]]\n",
    "auc3\n",
    "#AUC group4\n",
    "pred4 <- prediction(tree_test4, test_tree$subscribe)\n",
    "perf4 <- performance(pred4, measure = \"tpr\", x.measure = \"fpr\")\n",
    "#plot(perf)\n",
    "\n",
    "auc4 <- performance(pred4, measure = \"auc\")\n",
    "auc4 <- auc4@y.values[[1]]\n",
    "auc4\n"
   ]
  },
  {
   "cell_type": "code",
   "execution_count": 7,
   "metadata": {},
   "outputs": [],
   "source": [
    "#Documents for Kaggle submission \n",
    "tree_sub <- predict(tree_bank4,newdata=bank_test)\n",
    "write.csv(tree_sub ,\"kk.csv\", row.names = FALSE)"
   ]
  },
  {
   "cell_type": "markdown",
   "metadata": {},
   "source": [
    "## Random Forest "
   ]
  },
  {
   "cell_type": "code",
   "execution_count": 8,
   "metadata": {},
   "outputs": [
    {
     "name": "stderr",
     "output_type": "stream",
     "text": [
      "Loading required package: dummies\n",
      "dummies-1.5.6 provided by Decision Patterns\n",
      "\n"
     ]
    }
   ],
   "source": [
    "#dummies package to dummify some categorical variables\n",
    "if (!require(\"dummies\")) install.packages(\"dummies\")\n",
    "library(dummies)"
   ]
  },
  {
   "cell_type": "code",
   "execution_count": 9,
   "metadata": {},
   "outputs": [],
   "source": [
    "bank_train2 <- bank_train\n",
    "#bank_train2$job <- NULL\n",
    "bank_test2 <- bank_test\n",
    "#bank_test2$job <- NULL"
   ]
  },
  {
   "cell_type": "code",
   "execution_count": 10,
   "metadata": {},
   "outputs": [
    {
     "name": "stderr",
     "output_type": "stream",
     "text": [
      "Warning message in model.matrix.default(~x - 1, model.frame(~x - 1), contrasts = FALSE):\n",
      "\"non-list contrasts argument ignored\"Warning message in model.matrix.default(~x - 1, model.frame(~x - 1), contrasts = FALSE):\n",
      "\"non-list contrasts argument ignored\"Warning message in model.matrix.default(~x - 1, model.frame(~x - 1), contrasts = FALSE):\n",
      "\"non-list contrasts argument ignored\"Warning message in model.matrix.default(~x - 1, model.frame(~x - 1), contrasts = FALSE):\n",
      "\"non-list contrasts argument ignored\"Warning message in model.matrix.default(~x - 1, model.frame(~x - 1), contrasts = FALSE):\n",
      "\"non-list contrasts argument ignored\"Warning message in model.matrix.default(~x - 1, model.frame(~x - 1), contrasts = FALSE):\n",
      "\"non-list contrasts argument ignored\"Warning message in model.matrix.default(~x - 1, model.frame(~x - 1), contrasts = FALSE):\n",
      "\"non-list contrasts argument ignored\"Warning message in model.matrix.default(~x - 1, model.frame(~x - 1), contrasts = FALSE):\n",
      "\"non-list contrasts argument ignored\"Warning message in model.matrix.default(~x - 1, model.frame(~x - 1), contrasts = FALSE):\n",
      "\"non-list contrasts argument ignored\"Warning message in model.matrix.default(~x - 1, model.frame(~x - 1), contrasts = FALSE):\n",
      "\"non-list contrasts argument ignored\""
     ]
    },
    {
     "data": {
      "text/html": [
       "<ol class=list-inline>\n",
       "\t<li>'client_id'</li>\n",
       "\t<li>'age'</li>\n",
       "\t<li>'job.admin.'</li>\n",
       "\t<li>'job.blue-collar'</li>\n",
       "\t<li>'job.entrepreneur'</li>\n",
       "\t<li>'job.housemaid'</li>\n",
       "\t<li>'job.management'</li>\n",
       "\t<li>'job.retired'</li>\n",
       "\t<li>'job.self-employed'</li>\n",
       "\t<li>'job.services'</li>\n",
       "\t<li>'job.student'</li>\n",
       "\t<li>'job.technician'</li>\n",
       "\t<li>'job.unemployed'</li>\n",
       "\t<li>'job.unknown'</li>\n",
       "\t<li>'marital.divorced'</li>\n",
       "\t<li>'marital.married'</li>\n",
       "\t<li>'marital.single'</li>\n",
       "\t<li>'marital.unknown'</li>\n",
       "\t<li>'education.basic.4y'</li>\n",
       "\t<li>'education.basic.6y'</li>\n",
       "\t<li>'education.basic.9y'</li>\n",
       "\t<li>'education.high.school'</li>\n",
       "\t<li>'education.illiterate'</li>\n",
       "\t<li>'education.professional.course'</li>\n",
       "\t<li>'education.university.degree'</li>\n",
       "\t<li>'education.unknown'</li>\n",
       "\t<li>'default.no'</li>\n",
       "\t<li>'default.unknown'</li>\n",
       "\t<li>'housing.no'</li>\n",
       "\t<li>'housing.unknown'</li>\n",
       "\t<li>'housing.yes'</li>\n",
       "\t<li>'loan.no'</li>\n",
       "\t<li>'loan.unknown'</li>\n",
       "\t<li>'loan.yes'</li>\n",
       "\t<li>'contact.cellular'</li>\n",
       "\t<li>'contact.telephone'</li>\n",
       "\t<li>'month.apr'</li>\n",
       "\t<li>'month.aug'</li>\n",
       "\t<li>'month.dec'</li>\n",
       "\t<li>'month.jul'</li>\n",
       "\t<li>'month.jun'</li>\n",
       "\t<li>'month.mar'</li>\n",
       "\t<li>'month.may'</li>\n",
       "\t<li>'month.nov'</li>\n",
       "\t<li>'month.oct'</li>\n",
       "\t<li>'month.sep'</li>\n",
       "\t<li>'day_of_week.fri'</li>\n",
       "\t<li>'day_of_week.mon'</li>\n",
       "\t<li>'day_of_week.thu'</li>\n",
       "\t<li>'day_of_week.tue'</li>\n",
       "\t<li>'day_of_week.wed'</li>\n",
       "\t<li>'campaign'</li>\n",
       "\t<li>'pdays'</li>\n",
       "\t<li>'previous'</li>\n",
       "\t<li>'poutcome.failure'</li>\n",
       "\t<li>'poutcome.nonexistent'</li>\n",
       "\t<li>'poutcome.success'</li>\n",
       "\t<li>'emp.var.rate'</li>\n",
       "\t<li>'cons.price.idx'</li>\n",
       "\t<li>'cons.conf.idx'</li>\n",
       "\t<li>'euribor3m'</li>\n",
       "\t<li>'nr.employed'</li>\n",
       "\t<li>'subscribe'</li>\n",
       "</ol>\n"
      ],
      "text/latex": [
       "\\begin{enumerate*}\n",
       "\\item 'client\\_id'\n",
       "\\item 'age'\n",
       "\\item 'job.admin.'\n",
       "\\item 'job.blue-collar'\n",
       "\\item 'job.entrepreneur'\n",
       "\\item 'job.housemaid'\n",
       "\\item 'job.management'\n",
       "\\item 'job.retired'\n",
       "\\item 'job.self-employed'\n",
       "\\item 'job.services'\n",
       "\\item 'job.student'\n",
       "\\item 'job.technician'\n",
       "\\item 'job.unemployed'\n",
       "\\item 'job.unknown'\n",
       "\\item 'marital.divorced'\n",
       "\\item 'marital.married'\n",
       "\\item 'marital.single'\n",
       "\\item 'marital.unknown'\n",
       "\\item 'education.basic.4y'\n",
       "\\item 'education.basic.6y'\n",
       "\\item 'education.basic.9y'\n",
       "\\item 'education.high.school'\n",
       "\\item 'education.illiterate'\n",
       "\\item 'education.professional.course'\n",
       "\\item 'education.university.degree'\n",
       "\\item 'education.unknown'\n",
       "\\item 'default.no'\n",
       "\\item 'default.unknown'\n",
       "\\item 'housing.no'\n",
       "\\item 'housing.unknown'\n",
       "\\item 'housing.yes'\n",
       "\\item 'loan.no'\n",
       "\\item 'loan.unknown'\n",
       "\\item 'loan.yes'\n",
       "\\item 'contact.cellular'\n",
       "\\item 'contact.telephone'\n",
       "\\item 'month.apr'\n",
       "\\item 'month.aug'\n",
       "\\item 'month.dec'\n",
       "\\item 'month.jul'\n",
       "\\item 'month.jun'\n",
       "\\item 'month.mar'\n",
       "\\item 'month.may'\n",
       "\\item 'month.nov'\n",
       "\\item 'month.oct'\n",
       "\\item 'month.sep'\n",
       "\\item 'day\\_of\\_week.fri'\n",
       "\\item 'day\\_of\\_week.mon'\n",
       "\\item 'day\\_of\\_week.thu'\n",
       "\\item 'day\\_of\\_week.tue'\n",
       "\\item 'day\\_of\\_week.wed'\n",
       "\\item 'campaign'\n",
       "\\item 'pdays'\n",
       "\\item 'previous'\n",
       "\\item 'poutcome.failure'\n",
       "\\item 'poutcome.nonexistent'\n",
       "\\item 'poutcome.success'\n",
       "\\item 'emp.var.rate'\n",
       "\\item 'cons.price.idx'\n",
       "\\item 'cons.conf.idx'\n",
       "\\item 'euribor3m'\n",
       "\\item 'nr.employed'\n",
       "\\item 'subscribe'\n",
       "\\end{enumerate*}\n"
      ],
      "text/markdown": [
       "1. 'client_id'\n",
       "2. 'age'\n",
       "3. 'job.admin.'\n",
       "4. 'job.blue-collar'\n",
       "5. 'job.entrepreneur'\n",
       "6. 'job.housemaid'\n",
       "7. 'job.management'\n",
       "8. 'job.retired'\n",
       "9. 'job.self-employed'\n",
       "10. 'job.services'\n",
       "11. 'job.student'\n",
       "12. 'job.technician'\n",
       "13. 'job.unemployed'\n",
       "14. 'job.unknown'\n",
       "15. 'marital.divorced'\n",
       "16. 'marital.married'\n",
       "17. 'marital.single'\n",
       "18. 'marital.unknown'\n",
       "19. 'education.basic.4y'\n",
       "20. 'education.basic.6y'\n",
       "21. 'education.basic.9y'\n",
       "22. 'education.high.school'\n",
       "23. 'education.illiterate'\n",
       "24. 'education.professional.course'\n",
       "25. 'education.university.degree'\n",
       "26. 'education.unknown'\n",
       "27. 'default.no'\n",
       "28. 'default.unknown'\n",
       "29. 'housing.no'\n",
       "30. 'housing.unknown'\n",
       "31. 'housing.yes'\n",
       "32. 'loan.no'\n",
       "33. 'loan.unknown'\n",
       "34. 'loan.yes'\n",
       "35. 'contact.cellular'\n",
       "36. 'contact.telephone'\n",
       "37. 'month.apr'\n",
       "38. 'month.aug'\n",
       "39. 'month.dec'\n",
       "40. 'month.jul'\n",
       "41. 'month.jun'\n",
       "42. 'month.mar'\n",
       "43. 'month.may'\n",
       "44. 'month.nov'\n",
       "45. 'month.oct'\n",
       "46. 'month.sep'\n",
       "47. 'day_of_week.fri'\n",
       "48. 'day_of_week.mon'\n",
       "49. 'day_of_week.thu'\n",
       "50. 'day_of_week.tue'\n",
       "51. 'day_of_week.wed'\n",
       "52. 'campaign'\n",
       "53. 'pdays'\n",
       "54. 'previous'\n",
       "55. 'poutcome.failure'\n",
       "56. 'poutcome.nonexistent'\n",
       "57. 'poutcome.success'\n",
       "58. 'emp.var.rate'\n",
       "59. 'cons.price.idx'\n",
       "60. 'cons.conf.idx'\n",
       "61. 'euribor3m'\n",
       "62. 'nr.employed'\n",
       "63. 'subscribe'\n",
       "\n",
       "\n"
      ],
      "text/plain": [
       " [1] \"client_id\"                     \"age\"                          \n",
       " [3] \"job.admin.\"                    \"job.blue-collar\"              \n",
       " [5] \"job.entrepreneur\"              \"job.housemaid\"                \n",
       " [7] \"job.management\"                \"job.retired\"                  \n",
       " [9] \"job.self-employed\"             \"job.services\"                 \n",
       "[11] \"job.student\"                   \"job.technician\"               \n",
       "[13] \"job.unemployed\"                \"job.unknown\"                  \n",
       "[15] \"marital.divorced\"              \"marital.married\"              \n",
       "[17] \"marital.single\"                \"marital.unknown\"              \n",
       "[19] \"education.basic.4y\"            \"education.basic.6y\"           \n",
       "[21] \"education.basic.9y\"            \"education.high.school\"        \n",
       "[23] \"education.illiterate\"          \"education.professional.course\"\n",
       "[25] \"education.university.degree\"   \"education.unknown\"            \n",
       "[27] \"default.no\"                    \"default.unknown\"              \n",
       "[29] \"housing.no\"                    \"housing.unknown\"              \n",
       "[31] \"housing.yes\"                   \"loan.no\"                      \n",
       "[33] \"loan.unknown\"                  \"loan.yes\"                     \n",
       "[35] \"contact.cellular\"              \"contact.telephone\"            \n",
       "[37] \"month.apr\"                     \"month.aug\"                    \n",
       "[39] \"month.dec\"                     \"month.jul\"                    \n",
       "[41] \"month.jun\"                     \"month.mar\"                    \n",
       "[43] \"month.may\"                     \"month.nov\"                    \n",
       "[45] \"month.oct\"                     \"month.sep\"                    \n",
       "[47] \"day_of_week.fri\"               \"day_of_week.mon\"              \n",
       "[49] \"day_of_week.thu\"               \"day_of_week.tue\"              \n",
       "[51] \"day_of_week.wed\"               \"campaign\"                     \n",
       "[53] \"pdays\"                         \"previous\"                     \n",
       "[55] \"poutcome.failure\"              \"poutcome.nonexistent\"         \n",
       "[57] \"poutcome.success\"              \"emp.var.rate\"                 \n",
       "[59] \"cons.price.idx\"                \"cons.conf.idx\"                \n",
       "[61] \"euribor3m\"                     \"nr.employed\"                  \n",
       "[63] \"subscribe\"                    "
      ]
     },
     "metadata": {},
     "output_type": "display_data"
    }
   ],
   "source": [
    "# Dummifying the categorical variables \n",
    "train_dummy<-dummy.data.frame(bank_train2,sep=\".\")\n",
    "names(train_dummy)"
   ]
  },
  {
   "cell_type": "code",
   "execution_count": 11,
   "metadata": {},
   "outputs": [
    {
     "name": "stderr",
     "output_type": "stream",
     "text": [
      "Warning message in model.matrix.default(~x - 1, model.frame(~x - 1), contrasts = FALSE):\n",
      "\"non-list contrasts argument ignored\"Warning message in model.matrix.default(~x - 1, model.frame(~x - 1), contrasts = FALSE):\n",
      "\"non-list contrasts argument ignored\"Warning message in model.matrix.default(~x - 1, model.frame(~x - 1), contrasts = FALSE):\n",
      "\"non-list contrasts argument ignored\"Warning message in model.matrix.default(~x - 1, model.frame(~x - 1), contrasts = FALSE):\n",
      "\"non-list contrasts argument ignored\"Warning message in model.matrix.default(~x - 1, model.frame(~x - 1), contrasts = FALSE):\n",
      "\"non-list contrasts argument ignored\"Warning message in model.matrix.default(~x - 1, model.frame(~x - 1), contrasts = FALSE):\n",
      "\"non-list contrasts argument ignored\"Warning message in model.matrix.default(~x - 1, model.frame(~x - 1), contrasts = FALSE):\n",
      "\"non-list contrasts argument ignored\"Warning message in model.matrix.default(~x - 1, model.frame(~x - 1), contrasts = FALSE):\n",
      "\"non-list contrasts argument ignored\"Warning message in model.matrix.default(~x - 1, model.frame(~x - 1), contrasts = FALSE):\n",
      "\"non-list contrasts argument ignored\"Warning message in model.matrix.default(~x - 1, model.frame(~x - 1), contrasts = FALSE):\n",
      "\"non-list contrasts argument ignored\""
     ]
    },
    {
     "data": {
      "text/html": [
       "<ol class=list-inline>\n",
       "\t<li>'education.illiterate'</li>\n",
       "\t<li>'client_id'</li>\n",
       "\t<li>'age'</li>\n",
       "\t<li>'job.admin.'</li>\n",
       "\t<li>'job.blue-collar'</li>\n",
       "\t<li>'job.entrepreneur'</li>\n",
       "\t<li>'job.housemaid'</li>\n",
       "\t<li>'job.management'</li>\n",
       "\t<li>'job.retired'</li>\n",
       "\t<li>'job.self-employed'</li>\n",
       "\t<li>'job.services'</li>\n",
       "\t<li>'job.student'</li>\n",
       "\t<li>'job.technician'</li>\n",
       "\t<li>'job.unemployed'</li>\n",
       "\t<li>'job.unknown'</li>\n",
       "\t<li>'marital.divorced'</li>\n",
       "\t<li>'marital.married'</li>\n",
       "\t<li>'marital.single'</li>\n",
       "\t<li>'marital.unknown'</li>\n",
       "\t<li>'education.basic.4y'</li>\n",
       "\t<li>'education.basic.6y'</li>\n",
       "\t<li>'education.basic.9y'</li>\n",
       "\t<li>'education.high.school'</li>\n",
       "\t<li>'education.professional.course'</li>\n",
       "\t<li>'education.university.degree'</li>\n",
       "\t<li>'education.unknown'</li>\n",
       "\t<li>'default.no'</li>\n",
       "\t<li>'default.unknown'</li>\n",
       "\t<li>'housing.no'</li>\n",
       "\t<li>'housing.unknown'</li>\n",
       "\t<li>'housing.yes'</li>\n",
       "\t<li>'loan.no'</li>\n",
       "\t<li>'loan.unknown'</li>\n",
       "\t<li>'loan.yes'</li>\n",
       "\t<li>'contact.cellular'</li>\n",
       "\t<li>'contact.telephone'</li>\n",
       "\t<li>'month.apr'</li>\n",
       "\t<li>'month.aug'</li>\n",
       "\t<li>'month.dec'</li>\n",
       "\t<li>'month.jul'</li>\n",
       "\t<li>'month.jun'</li>\n",
       "\t<li>'month.mar'</li>\n",
       "\t<li>'month.may'</li>\n",
       "\t<li>'month.nov'</li>\n",
       "\t<li>'month.oct'</li>\n",
       "\t<li>'month.sep'</li>\n",
       "\t<li>'day_of_week.fri'</li>\n",
       "\t<li>'day_of_week.mon'</li>\n",
       "\t<li>'day_of_week.thu'</li>\n",
       "\t<li>'day_of_week.tue'</li>\n",
       "\t<li>'day_of_week.wed'</li>\n",
       "\t<li>'campaign'</li>\n",
       "\t<li>'pdays'</li>\n",
       "\t<li>'previous'</li>\n",
       "\t<li>'poutcome.failure'</li>\n",
       "\t<li>'poutcome.nonexistent'</li>\n",
       "\t<li>'poutcome.success'</li>\n",
       "\t<li>'emp.var.rate'</li>\n",
       "\t<li>'cons.price.idx'</li>\n",
       "\t<li>'cons.conf.idx'</li>\n",
       "\t<li>'euribor3m'</li>\n",
       "\t<li>'nr.employed'</li>\n",
       "</ol>\n"
      ],
      "text/latex": [
       "\\begin{enumerate*}\n",
       "\\item 'education.illiterate'\n",
       "\\item 'client\\_id'\n",
       "\\item 'age'\n",
       "\\item 'job.admin.'\n",
       "\\item 'job.blue-collar'\n",
       "\\item 'job.entrepreneur'\n",
       "\\item 'job.housemaid'\n",
       "\\item 'job.management'\n",
       "\\item 'job.retired'\n",
       "\\item 'job.self-employed'\n",
       "\\item 'job.services'\n",
       "\\item 'job.student'\n",
       "\\item 'job.technician'\n",
       "\\item 'job.unemployed'\n",
       "\\item 'job.unknown'\n",
       "\\item 'marital.divorced'\n",
       "\\item 'marital.married'\n",
       "\\item 'marital.single'\n",
       "\\item 'marital.unknown'\n",
       "\\item 'education.basic.4y'\n",
       "\\item 'education.basic.6y'\n",
       "\\item 'education.basic.9y'\n",
       "\\item 'education.high.school'\n",
       "\\item 'education.professional.course'\n",
       "\\item 'education.university.degree'\n",
       "\\item 'education.unknown'\n",
       "\\item 'default.no'\n",
       "\\item 'default.unknown'\n",
       "\\item 'housing.no'\n",
       "\\item 'housing.unknown'\n",
       "\\item 'housing.yes'\n",
       "\\item 'loan.no'\n",
       "\\item 'loan.unknown'\n",
       "\\item 'loan.yes'\n",
       "\\item 'contact.cellular'\n",
       "\\item 'contact.telephone'\n",
       "\\item 'month.apr'\n",
       "\\item 'month.aug'\n",
       "\\item 'month.dec'\n",
       "\\item 'month.jul'\n",
       "\\item 'month.jun'\n",
       "\\item 'month.mar'\n",
       "\\item 'month.may'\n",
       "\\item 'month.nov'\n",
       "\\item 'month.oct'\n",
       "\\item 'month.sep'\n",
       "\\item 'day\\_of\\_week.fri'\n",
       "\\item 'day\\_of\\_week.mon'\n",
       "\\item 'day\\_of\\_week.thu'\n",
       "\\item 'day\\_of\\_week.tue'\n",
       "\\item 'day\\_of\\_week.wed'\n",
       "\\item 'campaign'\n",
       "\\item 'pdays'\n",
       "\\item 'previous'\n",
       "\\item 'poutcome.failure'\n",
       "\\item 'poutcome.nonexistent'\n",
       "\\item 'poutcome.success'\n",
       "\\item 'emp.var.rate'\n",
       "\\item 'cons.price.idx'\n",
       "\\item 'cons.conf.idx'\n",
       "\\item 'euribor3m'\n",
       "\\item 'nr.employed'\n",
       "\\end{enumerate*}\n"
      ],
      "text/markdown": [
       "1. 'education.illiterate'\n",
       "2. 'client_id'\n",
       "3. 'age'\n",
       "4. 'job.admin.'\n",
       "5. 'job.blue-collar'\n",
       "6. 'job.entrepreneur'\n",
       "7. 'job.housemaid'\n",
       "8. 'job.management'\n",
       "9. 'job.retired'\n",
       "10. 'job.self-employed'\n",
       "11. 'job.services'\n",
       "12. 'job.student'\n",
       "13. 'job.technician'\n",
       "14. 'job.unemployed'\n",
       "15. 'job.unknown'\n",
       "16. 'marital.divorced'\n",
       "17. 'marital.married'\n",
       "18. 'marital.single'\n",
       "19. 'marital.unknown'\n",
       "20. 'education.basic.4y'\n",
       "21. 'education.basic.6y'\n",
       "22. 'education.basic.9y'\n",
       "23. 'education.high.school'\n",
       "24. 'education.professional.course'\n",
       "25. 'education.university.degree'\n",
       "26. 'education.unknown'\n",
       "27. 'default.no'\n",
       "28. 'default.unknown'\n",
       "29. 'housing.no'\n",
       "30. 'housing.unknown'\n",
       "31. 'housing.yes'\n",
       "32. 'loan.no'\n",
       "33. 'loan.unknown'\n",
       "34. 'loan.yes'\n",
       "35. 'contact.cellular'\n",
       "36. 'contact.telephone'\n",
       "37. 'month.apr'\n",
       "38. 'month.aug'\n",
       "39. 'month.dec'\n",
       "40. 'month.jul'\n",
       "41. 'month.jun'\n",
       "42. 'month.mar'\n",
       "43. 'month.may'\n",
       "44. 'month.nov'\n",
       "45. 'month.oct'\n",
       "46. 'month.sep'\n",
       "47. 'day_of_week.fri'\n",
       "48. 'day_of_week.mon'\n",
       "49. 'day_of_week.thu'\n",
       "50. 'day_of_week.tue'\n",
       "51. 'day_of_week.wed'\n",
       "52. 'campaign'\n",
       "53. 'pdays'\n",
       "54. 'previous'\n",
       "55. 'poutcome.failure'\n",
       "56. 'poutcome.nonexistent'\n",
       "57. 'poutcome.success'\n",
       "58. 'emp.var.rate'\n",
       "59. 'cons.price.idx'\n",
       "60. 'cons.conf.idx'\n",
       "61. 'euribor3m'\n",
       "62. 'nr.employed'\n",
       "\n",
       "\n"
      ],
      "text/plain": [
       " [1] \"education.illiterate\"          \"client_id\"                    \n",
       " [3] \"age\"                           \"job.admin.\"                   \n",
       " [5] \"job.blue-collar\"               \"job.entrepreneur\"             \n",
       " [7] \"job.housemaid\"                 \"job.management\"               \n",
       " [9] \"job.retired\"                   \"job.self-employed\"            \n",
       "[11] \"job.services\"                  \"job.student\"                  \n",
       "[13] \"job.technician\"                \"job.unemployed\"               \n",
       "[15] \"job.unknown\"                   \"marital.divorced\"             \n",
       "[17] \"marital.married\"               \"marital.single\"               \n",
       "[19] \"marital.unknown\"               \"education.basic.4y\"           \n",
       "[21] \"education.basic.6y\"            \"education.basic.9y\"           \n",
       "[23] \"education.high.school\"         \"education.professional.course\"\n",
       "[25] \"education.university.degree\"   \"education.unknown\"            \n",
       "[27] \"default.no\"                    \"default.unknown\"              \n",
       "[29] \"housing.no\"                    \"housing.unknown\"              \n",
       "[31] \"housing.yes\"                   \"loan.no\"                      \n",
       "[33] \"loan.unknown\"                  \"loan.yes\"                     \n",
       "[35] \"contact.cellular\"              \"contact.telephone\"            \n",
       "[37] \"month.apr\"                     \"month.aug\"                    \n",
       "[39] \"month.dec\"                     \"month.jul\"                    \n",
       "[41] \"month.jun\"                     \"month.mar\"                    \n",
       "[43] \"month.may\"                     \"month.nov\"                    \n",
       "[45] \"month.oct\"                     \"month.sep\"                    \n",
       "[47] \"day_of_week.fri\"               \"day_of_week.mon\"              \n",
       "[49] \"day_of_week.thu\"               \"day_of_week.tue\"              \n",
       "[51] \"day_of_week.wed\"               \"campaign\"                     \n",
       "[53] \"pdays\"                         \"previous\"                     \n",
       "[55] \"poutcome.failure\"              \"poutcome.nonexistent\"         \n",
       "[57] \"poutcome.success\"              \"emp.var.rate\"                 \n",
       "[59] \"cons.price.idx\"                \"cons.conf.idx\"                \n",
       "[61] \"euribor3m\"                     \"nr.employed\"                  "
      ]
     },
     "metadata": {},
     "output_type": "display_data"
    }
   ],
   "source": [
    "test_dummy <- dummy.data.frame(bank_test2,sep=\".\")\n",
    "test_dummy <-cbind(education.illiterate = 0, test_dummy)\n",
    "names(test_dummy)"
   ]
  },
  {
   "cell_type": "code",
   "execution_count": 12,
   "metadata": {},
   "outputs": [],
   "source": [
    "set.seed(16)\n",
    "smp_size <- floor(0.75 * nrow(bank_train2))\n",
    "\n",
    "# set the seed to make your partition reproducible\n",
    "set.seed(1)\n",
    "train_ind2 <- sample(seq_len(nrow(bank_train2)), size = smp_size)\n",
    "\n",
    "train2 <- train_dummy[train_ind2, ]\n",
    "test2 <- train_dummy[-train_ind2, ]"
   ]
  },
  {
   "cell_type": "code",
   "execution_count": 13,
   "metadata": {},
   "outputs": [],
   "source": [
    "names(train2) <- gsub(\"-\", \"_\", names(train2))\n",
    "names(test2) <- gsub(\"-\",\"_\",names(test2))\n",
    "names(test_dummy)<-gsub(\"-\",\"_\",names(test_dummy))"
   ]
  },
  {
   "cell_type": "code",
   "execution_count": 14,
   "metadata": {},
   "outputs": [
    {
     "name": "stderr",
     "output_type": "stream",
     "text": [
      "Loading required package: randomForest\n",
      "Warning message:\n",
      "\"package 'randomForest' was built under R version 3.6.2\"randomForest 4.6-14\n",
      "Type rfNews() to see new features/changes/bug fixes.\n",
      "Warning message in randomForest.default(m, y, ...):\n",
      "\"The response has five or fewer unique values.  Are you sure you want to do regression?\""
     ]
    },
    {
     "data": {
      "text/plain": [
       "\n",
       "Call:\n",
       " randomForest(formula = subscribe ~ . - client_id, data = train2) \n",
       "               Type of random forest: regression\n",
       "                     Number of trees: 500\n",
       "No. of variables tried at each split: 20\n",
       "\n",
       "          Mean of squared residuals: 0.08560585\n",
       "                    % Var explained: 16.04"
      ]
     },
     "metadata": {},
     "output_type": "display_data"
    }
   ],
   "source": [
    "if (!require(\"randomForest\")) install.packages(\"randomForest\")\n",
    "library(randomForest)\n",
    "set.seed(157)\n",
    "bag.bank2 <- randomForest(subscribe~.-client_id,data=train2)\n",
    "bag.bank2"
   ]
  },
  {
   "cell_type": "code",
   "execution_count": 15,
   "metadata": {},
   "outputs": [],
   "source": [
    "bag.predict2 <- predict(bag.bank2,newdata=test2)"
   ]
  },
  {
   "cell_type": "code",
   "execution_count": 16,
   "metadata": {},
   "outputs": [
    {
     "data": {
      "text/html": [
       "0.788448300221555"
      ],
      "text/latex": [
       "0.788448300221555"
      ],
      "text/markdown": [
       "0.788448300221555"
      ],
      "text/plain": [
       "[1] 0.7884483"
      ]
     },
     "metadata": {},
     "output_type": "display_data"
    },
    {
     "data": {
      "image/png": "[encoded data removed]",
      "text/plain": [
       "plot without title"
      ]
     },
     "metadata": {},
     "output_type": "display_data"
    }
   ],
   "source": [
    "#AUC\n",
    "library(ROCR)\n",
    "pred_rf_dummy <- prediction(bag.predict2, test2$subscribe)\n",
    "perf_rf_dummy <- performance(pred_rf_dummy, measure = \"tpr\", x.measure = \"fpr\")\n",
    "plot(perf_rf_dummy)\n",
    "\n",
    "auc <- performance(pred_rf_dummy, measure = \"auc\")\n",
    "auc <- auc@y.values[[1]]\n",
    "auc"
   ]
  },
  {
   "cell_type": "code",
   "execution_count": 17,
   "metadata": {},
   "outputs": [],
   "source": [
    "rf_sub_dummy <-  predict(bag.bank2,newdata=test_dummy)"
   ]
  },
  {
   "cell_type": "code",
   "execution_count": 18,
   "metadata": {},
   "outputs": [],
   "source": [
    "#Kaggle submission random forest \n",
    "write.csv(rf_sub_dummy ,\"rfkaggle.csv\", row.names = FALSE)"
   ]
  },
  {
   "cell_type": "markdown",
   "metadata": {},
   "source": [
    "## Logistic Regression"
   ]
  },
  {
   "cell_type": "code",
   "execution_count": 19,
   "metadata": {},
   "outputs": [
    {
     "name": "stderr",
     "output_type": "stream",
     "text": [
      "Warning message in model.matrix.default(~x - 1, model.frame(~x - 1), contrasts = FALSE):\n",
      "\"non-list contrasts argument ignored\"Warning message in model.matrix.default(~x - 1, model.frame(~x - 1), contrasts = FALSE):\n",
      "\"non-list contrasts argument ignored\"Warning message in model.matrix.default(~x - 1, model.frame(~x - 1), contrasts = FALSE):\n",
      "\"non-list contrasts argument ignored\"Warning message in model.matrix.default(~x - 1, model.frame(~x - 1), contrasts = FALSE):\n",
      "\"non-list contrasts argument ignored\"Warning message in model.matrix.default(~x - 1, model.frame(~x - 1), contrasts = FALSE):\n",
      "\"non-list contrasts argument ignored\"Warning message in model.matrix.default(~x - 1, model.frame(~x - 1), contrasts = FALSE):\n",
      "\"non-list contrasts argument ignored\"Warning message in model.matrix.default(~x - 1, model.frame(~x - 1), contrasts = FALSE):\n",
      "\"non-list contrasts argument ignored\"Warning message in model.matrix.default(~x - 1, model.frame(~x - 1), contrasts = FALSE):\n",
      "\"non-list contrasts argument ignored\"Warning message in model.matrix.default(~x - 1, model.frame(~x - 1), contrasts = FALSE):\n",
      "\"non-list contrasts argument ignored\"Warning message in model.matrix.default(~x - 1, model.frame(~x - 1), contrasts = FALSE):\n",
      "\"non-list contrasts argument ignored\""
     ]
    },
    {
     "data": {
      "text/html": [
       "<ol class=list-inline>\n",
       "\t<li>'client_id'</li>\n",
       "\t<li>'age'</li>\n",
       "\t<li>'job.admin.'</li>\n",
       "\t<li>'job.blue-collar'</li>\n",
       "\t<li>'job.entrepreneur'</li>\n",
       "\t<li>'job.housemaid'</li>\n",
       "\t<li>'job.management'</li>\n",
       "\t<li>'job.retired'</li>\n",
       "\t<li>'job.self-employed'</li>\n",
       "\t<li>'job.services'</li>\n",
       "\t<li>'job.student'</li>\n",
       "\t<li>'job.technician'</li>\n",
       "\t<li>'job.unemployed'</li>\n",
       "\t<li>'job.unknown'</li>\n",
       "\t<li>'marital.divorced'</li>\n",
       "\t<li>'marital.married'</li>\n",
       "\t<li>'marital.single'</li>\n",
       "\t<li>'marital.unknown'</li>\n",
       "\t<li>'education.basic.4y'</li>\n",
       "\t<li>'education.basic.6y'</li>\n",
       "\t<li>'education.basic.9y'</li>\n",
       "\t<li>'education.high.school'</li>\n",
       "\t<li>'education.illiterate'</li>\n",
       "\t<li>'education.professional.course'</li>\n",
       "\t<li>'education.university.degree'</li>\n",
       "\t<li>'education.unknown'</li>\n",
       "\t<li>'default.no'</li>\n",
       "\t<li>'default.unknown'</li>\n",
       "\t<li>'housing.no'</li>\n",
       "\t<li>'housing.unknown'</li>\n",
       "\t<li>'housing.yes'</li>\n",
       "\t<li>'loan.no'</li>\n",
       "\t<li>'loan.unknown'</li>\n",
       "\t<li>'loan.yes'</li>\n",
       "\t<li>'contact.cellular'</li>\n",
       "\t<li>'contact.telephone'</li>\n",
       "\t<li>'month.apr'</li>\n",
       "\t<li>'month.aug'</li>\n",
       "\t<li>'month.dec'</li>\n",
       "\t<li>'month.jul'</li>\n",
       "\t<li>'month.jun'</li>\n",
       "\t<li>'month.mar'</li>\n",
       "\t<li>'month.may'</li>\n",
       "\t<li>'month.nov'</li>\n",
       "\t<li>'month.oct'</li>\n",
       "\t<li>'month.sep'</li>\n",
       "\t<li>'day_of_week.fri'</li>\n",
       "\t<li>'day_of_week.mon'</li>\n",
       "\t<li>'day_of_week.thu'</li>\n",
       "\t<li>'day_of_week.tue'</li>\n",
       "\t<li>'day_of_week.wed'</li>\n",
       "\t<li>'campaign'</li>\n",
       "\t<li>'pdays'</li>\n",
       "\t<li>'previous'</li>\n",
       "\t<li>'poutcome.failure'</li>\n",
       "\t<li>'poutcome.nonexistent'</li>\n",
       "\t<li>'poutcome.success'</li>\n",
       "\t<li>'emp.var.rate'</li>\n",
       "\t<li>'cons.price.idx'</li>\n",
       "\t<li>'cons.conf.idx'</li>\n",
       "\t<li>'euribor3m'</li>\n",
       "\t<li>'nr.employed'</li>\n",
       "\t<li>'subscribe'</li>\n",
       "</ol>\n"
      ],
      "text/latex": [
       "\\begin{enumerate*}\n",
       "\\item 'client\\_id'\n",
       "\\item 'age'\n",
       "\\item 'job.admin.'\n",
       "\\item 'job.blue-collar'\n",
       "\\item 'job.entrepreneur'\n",
       "\\item 'job.housemaid'\n",
       "\\item 'job.management'\n",
       "\\item 'job.retired'\n",
       "\\item 'job.self-employed'\n",
       "\\item 'job.services'\n",
       "\\item 'job.student'\n",
       "\\item 'job.technician'\n",
       "\\item 'job.unemployed'\n",
       "\\item 'job.unknown'\n",
       "\\item 'marital.divorced'\n",
       "\\item 'marital.married'\n",
       "\\item 'marital.single'\n",
       "\\item 'marital.unknown'\n",
       "\\item 'education.basic.4y'\n",
       "\\item 'education.basic.6y'\n",
       "\\item 'education.basic.9y'\n",
       "\\item 'education.high.school'\n",
       "\\item 'education.illiterate'\n",
       "\\item 'education.professional.course'\n",
       "\\item 'education.university.degree'\n",
       "\\item 'education.unknown'\n",
       "\\item 'default.no'\n",
       "\\item 'default.unknown'\n",
       "\\item 'housing.no'\n",
       "\\item 'housing.unknown'\n",
       "\\item 'housing.yes'\n",
       "\\item 'loan.no'\n",
       "\\item 'loan.unknown'\n",
       "\\item 'loan.yes'\n",
       "\\item 'contact.cellular'\n",
       "\\item 'contact.telephone'\n",
       "\\item 'month.apr'\n",
       "\\item 'month.aug'\n",
       "\\item 'month.dec'\n",
       "\\item 'month.jul'\n",
       "\\item 'month.jun'\n",
       "\\item 'month.mar'\n",
       "\\item 'month.may'\n",
       "\\item 'month.nov'\n",
       "\\item 'month.oct'\n",
       "\\item 'month.sep'\n",
       "\\item 'day\\_of\\_week.fri'\n",
       "\\item 'day\\_of\\_week.mon'\n",
       "\\item 'day\\_of\\_week.thu'\n",
       "\\item 'day\\_of\\_week.tue'\n",
       "\\item 'day\\_of\\_week.wed'\n",
       "\\item 'campaign'\n",
       "\\item 'pdays'\n",
       "\\item 'previous'\n",
       "\\item 'poutcome.failure'\n",
       "\\item 'poutcome.nonexistent'\n",
       "\\item 'poutcome.success'\n",
       "\\item 'emp.var.rate'\n",
       "\\item 'cons.price.idx'\n",
       "\\item 'cons.conf.idx'\n",
       "\\item 'euribor3m'\n",
       "\\item 'nr.employed'\n",
       "\\item 'subscribe'\n",
       "\\end{enumerate*}\n"
      ],
      "text/markdown": [
       "1. 'client_id'\n",
       "2. 'age'\n",
       "3. 'job.admin.'\n",
       "4. 'job.blue-collar'\n",
       "5. 'job.entrepreneur'\n",
       "6. 'job.housemaid'\n",
       "7. 'job.management'\n",
       "8. 'job.retired'\n",
       "9. 'job.self-employed'\n",
       "10. 'job.services'\n",
       "11. 'job.student'\n",
       "12. 'job.technician'\n",
       "13. 'job.unemployed'\n",
       "14. 'job.unknown'\n",
       "15. 'marital.divorced'\n",
       "16. 'marital.married'\n",
       "17. 'marital.single'\n",
       "18. 'marital.unknown'\n",
       "19. 'education.basic.4y'\n",
       "20. 'education.basic.6y'\n",
       "21. 'education.basic.9y'\n",
       "22. 'education.high.school'\n",
       "23. 'education.illiterate'\n",
       "24. 'education.professional.course'\n",
       "25. 'education.university.degree'\n",
       "26. 'education.unknown'\n",
       "27. 'default.no'\n",
       "28. 'default.unknown'\n",
       "29. 'housing.no'\n",
       "30. 'housing.unknown'\n",
       "31. 'housing.yes'\n",
       "32. 'loan.no'\n",
       "33. 'loan.unknown'\n",
       "34. 'loan.yes'\n",
       "35. 'contact.cellular'\n",
       "36. 'contact.telephone'\n",
       "37. 'month.apr'\n",
       "38. 'month.aug'\n",
       "39. 'month.dec'\n",
       "40. 'month.jul'\n",
       "41. 'month.jun'\n",
       "42. 'month.mar'\n",
       "43. 'month.may'\n",
       "44. 'month.nov'\n",
       "45. 'month.oct'\n",
       "46. 'month.sep'\n",
       "47. 'day_of_week.fri'\n",
       "48. 'day_of_week.mon'\n",
       "49. 'day_of_week.thu'\n",
       "50. 'day_of_week.tue'\n",
       "51. 'day_of_week.wed'\n",
       "52. 'campaign'\n",
       "53. 'pdays'\n",
       "54. 'previous'\n",
       "55. 'poutcome.failure'\n",
       "56. 'poutcome.nonexistent'\n",
       "57. 'poutcome.success'\n",
       "58. 'emp.var.rate'\n",
       "59. 'cons.price.idx'\n",
       "60. 'cons.conf.idx'\n",
       "61. 'euribor3m'\n",
       "62. 'nr.employed'\n",
       "63. 'subscribe'\n",
       "\n",
       "\n"
      ],
      "text/plain": [
       " [1] \"client_id\"                     \"age\"                          \n",
       " [3] \"job.admin.\"                    \"job.blue-collar\"              \n",
       " [5] \"job.entrepreneur\"              \"job.housemaid\"                \n",
       " [7] \"job.management\"                \"job.retired\"                  \n",
       " [9] \"job.self-employed\"             \"job.services\"                 \n",
       "[11] \"job.student\"                   \"job.technician\"               \n",
       "[13] \"job.unemployed\"                \"job.unknown\"                  \n",
       "[15] \"marital.divorced\"              \"marital.married\"              \n",
       "[17] \"marital.single\"                \"marital.unknown\"              \n",
       "[19] \"education.basic.4y\"            \"education.basic.6y\"           \n",
       "[21] \"education.basic.9y\"            \"education.high.school\"        \n",
       "[23] \"education.illiterate\"          \"education.professional.course\"\n",
       "[25] \"education.university.degree\"   \"education.unknown\"            \n",
       "[27] \"default.no\"                    \"default.unknown\"              \n",
       "[29] \"housing.no\"                    \"housing.unknown\"              \n",
       "[31] \"housing.yes\"                   \"loan.no\"                      \n",
       "[33] \"loan.unknown\"                  \"loan.yes\"                     \n",
       "[35] \"contact.cellular\"              \"contact.telephone\"            \n",
       "[37] \"month.apr\"                     \"month.aug\"                    \n",
       "[39] \"month.dec\"                     \"month.jul\"                    \n",
       "[41] \"month.jun\"                     \"month.mar\"                    \n",
       "[43] \"month.may\"                     \"month.nov\"                    \n",
       "[45] \"month.oct\"                     \"month.sep\"                    \n",
       "[47] \"day_of_week.fri\"               \"day_of_week.mon\"              \n",
       "[49] \"day_of_week.thu\"               \"day_of_week.tue\"              \n",
       "[51] \"day_of_week.wed\"               \"campaign\"                     \n",
       "[53] \"pdays\"                         \"previous\"                     \n",
       "[55] \"poutcome.failure\"              \"poutcome.nonexistent\"         \n",
       "[57] \"poutcome.success\"              \"emp.var.rate\"                 \n",
       "[59] \"cons.price.idx\"                \"cons.conf.idx\"                \n",
       "[61] \"euribor3m\"                     \"nr.employed\"                  \n",
       "[63] \"subscribe\"                    "
      ]
     },
     "metadata": {},
     "output_type": "display_data"
    }
   ],
   "source": [
    "#dummify the variables\n",
    "# Dummifying the categorical variables \n",
    "train_glm<-dummy.data.frame(bank_train,sep=\".\")\n",
    "names(train_glm)"
   ]
  },
  {
   "cell_type": "code",
   "execution_count": 20,
   "metadata": {},
   "outputs": [
    {
     "name": "stderr",
     "output_type": "stream",
     "text": [
      "Warning message in model.matrix.default(~x - 1, model.frame(~x - 1), contrasts = FALSE):\n",
      "\"non-list contrasts argument ignored\"Warning message in model.matrix.default(~x - 1, model.frame(~x - 1), contrasts = FALSE):\n",
      "\"non-list contrasts argument ignored\"Warning message in model.matrix.default(~x - 1, model.frame(~x - 1), contrasts = FALSE):\n",
      "\"non-list contrasts argument ignored\"Warning message in model.matrix.default(~x - 1, model.frame(~x - 1), contrasts = FALSE):\n",
      "\"non-list contrasts argument ignored\"Warning message in model.matrix.default(~x - 1, model.frame(~x - 1), contrasts = FALSE):\n",
      "\"non-list contrasts argument ignored\"Warning message in model.matrix.default(~x - 1, model.frame(~x - 1), contrasts = FALSE):\n",
      "\"non-list contrasts argument ignored\"Warning message in model.matrix.default(~x - 1, model.frame(~x - 1), contrasts = FALSE):\n",
      "\"non-list contrasts argument ignored\"Warning message in model.matrix.default(~x - 1, model.frame(~x - 1), contrasts = FALSE):\n",
      "\"non-list contrasts argument ignored\"Warning message in model.matrix.default(~x - 1, model.frame(~x - 1), contrasts = FALSE):\n",
      "\"non-list contrasts argument ignored\"Warning message in model.matrix.default(~x - 1, model.frame(~x - 1), contrasts = FALSE):\n",
      "\"non-list contrasts argument ignored\""
     ]
    },
    {
     "data": {
      "text/html": [
       "<ol class=list-inline>\n",
       "\t<li>'client_id'</li>\n",
       "\t<li>'age'</li>\n",
       "\t<li>'job.admin.'</li>\n",
       "\t<li>'job.blue-collar'</li>\n",
       "\t<li>'job.entrepreneur'</li>\n",
       "\t<li>'job.housemaid'</li>\n",
       "\t<li>'job.management'</li>\n",
       "\t<li>'job.retired'</li>\n",
       "\t<li>'job.self-employed'</li>\n",
       "\t<li>'job.services'</li>\n",
       "\t<li>'job.student'</li>\n",
       "\t<li>'job.technician'</li>\n",
       "\t<li>'job.unemployed'</li>\n",
       "\t<li>'job.unknown'</li>\n",
       "\t<li>'marital.divorced'</li>\n",
       "\t<li>'marital.married'</li>\n",
       "\t<li>'marital.single'</li>\n",
       "\t<li>'marital.unknown'</li>\n",
       "\t<li>'education.basic.4y'</li>\n",
       "\t<li>'education.basic.6y'</li>\n",
       "\t<li>'education.basic.9y'</li>\n",
       "\t<li>'education.high.school'</li>\n",
       "\t<li>'education.professional.course'</li>\n",
       "\t<li>'education.university.degree'</li>\n",
       "\t<li>'education.unknown'</li>\n",
       "\t<li>'default.no'</li>\n",
       "\t<li>'default.unknown'</li>\n",
       "\t<li>'housing.no'</li>\n",
       "\t<li>'housing.unknown'</li>\n",
       "\t<li>'housing.yes'</li>\n",
       "\t<li>'loan.no'</li>\n",
       "\t<li>'loan.unknown'</li>\n",
       "\t<li>'loan.yes'</li>\n",
       "\t<li>'contact.cellular'</li>\n",
       "\t<li>'contact.telephone'</li>\n",
       "\t<li>'month.apr'</li>\n",
       "\t<li>'month.aug'</li>\n",
       "\t<li>'month.dec'</li>\n",
       "\t<li>'month.jul'</li>\n",
       "\t<li>'month.jun'</li>\n",
       "\t<li>'month.mar'</li>\n",
       "\t<li>'month.may'</li>\n",
       "\t<li>'month.nov'</li>\n",
       "\t<li>'month.oct'</li>\n",
       "\t<li>'month.sep'</li>\n",
       "\t<li>'day_of_week.fri'</li>\n",
       "\t<li>'day_of_week.mon'</li>\n",
       "\t<li>'day_of_week.thu'</li>\n",
       "\t<li>'day_of_week.tue'</li>\n",
       "\t<li>'day_of_week.wed'</li>\n",
       "\t<li>'campaign'</li>\n",
       "\t<li>'pdays'</li>\n",
       "\t<li>'previous'</li>\n",
       "\t<li>'poutcome.failure'</li>\n",
       "\t<li>'poutcome.nonexistent'</li>\n",
       "\t<li>'poutcome.success'</li>\n",
       "\t<li>'emp.var.rate'</li>\n",
       "\t<li>'cons.price.idx'</li>\n",
       "\t<li>'cons.conf.idx'</li>\n",
       "\t<li>'euribor3m'</li>\n",
       "\t<li>'nr.employed'</li>\n",
       "</ol>\n"
      ],
      "text/latex": [
       "\\begin{enumerate*}\n",
       "\\item 'client\\_id'\n",
       "\\item 'age'\n",
       "\\item 'job.admin.'\n",
       "\\item 'job.blue-collar'\n",
       "\\item 'job.entrepreneur'\n",
       "\\item 'job.housemaid'\n",
       "\\item 'job.management'\n",
       "\\item 'job.retired'\n",
       "\\item 'job.self-employed'\n",
       "\\item 'job.services'\n",
       "\\item 'job.student'\n",
       "\\item 'job.technician'\n",
       "\\item 'job.unemployed'\n",
       "\\item 'job.unknown'\n",
       "\\item 'marital.divorced'\n",
       "\\item 'marital.married'\n",
       "\\item 'marital.single'\n",
       "\\item 'marital.unknown'\n",
       "\\item 'education.basic.4y'\n",
       "\\item 'education.basic.6y'\n",
       "\\item 'education.basic.9y'\n",
       "\\item 'education.high.school'\n",
       "\\item 'education.professional.course'\n",
       "\\item 'education.university.degree'\n",
       "\\item 'education.unknown'\n",
       "\\item 'default.no'\n",
       "\\item 'default.unknown'\n",
       "\\item 'housing.no'\n",
       "\\item 'housing.unknown'\n",
       "\\item 'housing.yes'\n",
       "\\item 'loan.no'\n",
       "\\item 'loan.unknown'\n",
       "\\item 'loan.yes'\n",
       "\\item 'contact.cellular'\n",
       "\\item 'contact.telephone'\n",
       "\\item 'month.apr'\n",
       "\\item 'month.aug'\n",
       "\\item 'month.dec'\n",
       "\\item 'month.jul'\n",
       "\\item 'month.jun'\n",
       "\\item 'month.mar'\n",
       "\\item 'month.may'\n",
       "\\item 'month.nov'\n",
       "\\item 'month.oct'\n",
       "\\item 'month.sep'\n",
       "\\item 'day\\_of\\_week.fri'\n",
       "\\item 'day\\_of\\_week.mon'\n",
       "\\item 'day\\_of\\_week.thu'\n",
       "\\item 'day\\_of\\_week.tue'\n",
       "\\item 'day\\_of\\_week.wed'\n",
       "\\item 'campaign'\n",
       "\\item 'pdays'\n",
       "\\item 'previous'\n",
       "\\item 'poutcome.failure'\n",
       "\\item 'poutcome.nonexistent'\n",
       "\\item 'poutcome.success'\n",
       "\\item 'emp.var.rate'\n",
       "\\item 'cons.price.idx'\n",
       "\\item 'cons.conf.idx'\n",
       "\\item 'euribor3m'\n",
       "\\item 'nr.employed'\n",
       "\\end{enumerate*}\n"
      ],
      "text/markdown": [
       "1. 'client_id'\n",
       "2. 'age'\n",
       "3. 'job.admin.'\n",
       "4. 'job.blue-collar'\n",
       "5. 'job.entrepreneur'\n",
       "6. 'job.housemaid'\n",
       "7. 'job.management'\n",
       "8. 'job.retired'\n",
       "9. 'job.self-employed'\n",
       "10. 'job.services'\n",
       "11. 'job.student'\n",
       "12. 'job.technician'\n",
       "13. 'job.unemployed'\n",
       "14. 'job.unknown'\n",
       "15. 'marital.divorced'\n",
       "16. 'marital.married'\n",
       "17. 'marital.single'\n",
       "18. 'marital.unknown'\n",
       "19. 'education.basic.4y'\n",
       "20. 'education.basic.6y'\n",
       "21. 'education.basic.9y'\n",
       "22. 'education.high.school'\n",
       "23. 'education.professional.course'\n",
       "24. 'education.university.degree'\n",
       "25. 'education.unknown'\n",
       "26. 'default.no'\n",
       "27. 'default.unknown'\n",
       "28. 'housing.no'\n",
       "29. 'housing.unknown'\n",
       "30. 'housing.yes'\n",
       "31. 'loan.no'\n",
       "32. 'loan.unknown'\n",
       "33. 'loan.yes'\n",
       "34. 'contact.cellular'\n",
       "35. 'contact.telephone'\n",
       "36. 'month.apr'\n",
       "37. 'month.aug'\n",
       "38. 'month.dec'\n",
       "39. 'month.jul'\n",
       "40. 'month.jun'\n",
       "41. 'month.mar'\n",
       "42. 'month.may'\n",
       "43. 'month.nov'\n",
       "44. 'month.oct'\n",
       "45. 'month.sep'\n",
       "46. 'day_of_week.fri'\n",
       "47. 'day_of_week.mon'\n",
       "48. 'day_of_week.thu'\n",
       "49. 'day_of_week.tue'\n",
       "50. 'day_of_week.wed'\n",
       "51. 'campaign'\n",
       "52. 'pdays'\n",
       "53. 'previous'\n",
       "54. 'poutcome.failure'\n",
       "55. 'poutcome.nonexistent'\n",
       "56. 'poutcome.success'\n",
       "57. 'emp.var.rate'\n",
       "58. 'cons.price.idx'\n",
       "59. 'cons.conf.idx'\n",
       "60. 'euribor3m'\n",
       "61. 'nr.employed'\n",
       "\n",
       "\n"
      ],
      "text/plain": [
       " [1] \"client_id\"                     \"age\"                          \n",
       " [3] \"job.admin.\"                    \"job.blue-collar\"              \n",
       " [5] \"job.entrepreneur\"              \"job.housemaid\"                \n",
       " [7] \"job.management\"                \"job.retired\"                  \n",
       " [9] \"job.self-employed\"             \"job.services\"                 \n",
       "[11] \"job.student\"                   \"job.technician\"               \n",
       "[13] \"job.unemployed\"                \"job.unknown\"                  \n",
       "[15] \"marital.divorced\"              \"marital.married\"              \n",
       "[17] \"marital.single\"                \"marital.unknown\"              \n",
       "[19] \"education.basic.4y\"            \"education.basic.6y\"           \n",
       "[21] \"education.basic.9y\"            \"education.high.school\"        \n",
       "[23] \"education.professional.course\" \"education.university.degree\"  \n",
       "[25] \"education.unknown\"             \"default.no\"                   \n",
       "[27] \"default.unknown\"               \"housing.no\"                   \n",
       "[29] \"housing.unknown\"               \"housing.yes\"                  \n",
       "[31] \"loan.no\"                       \"loan.unknown\"                 \n",
       "[33] \"loan.yes\"                      \"contact.cellular\"             \n",
       "[35] \"contact.telephone\"             \"month.apr\"                    \n",
       "[37] \"month.aug\"                     \"month.dec\"                    \n",
       "[39] \"month.jul\"                     \"month.jun\"                    \n",
       "[41] \"month.mar\"                     \"month.may\"                    \n",
       "[43] \"month.nov\"                     \"month.oct\"                    \n",
       "[45] \"month.sep\"                     \"day_of_week.fri\"              \n",
       "[47] \"day_of_week.mon\"               \"day_of_week.thu\"              \n",
       "[49] \"day_of_week.tue\"               \"day_of_week.wed\"              \n",
       "[51] \"campaign\"                      \"pdays\"                        \n",
       "[53] \"previous\"                      \"poutcome.failure\"             \n",
       "[55] \"poutcome.nonexistent\"          \"poutcome.success\"             \n",
       "[57] \"emp.var.rate\"                  \"cons.price.idx\"               \n",
       "[59] \"cons.conf.idx\"                 \"euribor3m\"                    \n",
       "[61] \"nr.employed\"                  "
      ]
     },
     "metadata": {},
     "output_type": "display_data"
    }
   ],
   "source": [
    "test_glm<-dummy.data.frame(bank_test,sep=\".\")\n",
    "names(test_glm)"
   ]
  },
  {
   "cell_type": "code",
   "execution_count": 21,
   "metadata": {},
   "outputs": [],
   "source": [
    "#train and test set to see accuracy and then predict\n",
    "set.seed(21)\n",
    "smp_size <- floor(0.75 * nrow(bank_train))\n",
    "\n",
    "# set the seed to make your partition reproducible\n",
    "set.seed(12)\n",
    "train_ind_glm <- sample(seq_len(nrow(bank_train)), size = smp_size)\n",
    "\n",
    "train_glm1 <- train_glm[train_ind_glm, ]\n",
    "test_glm1 <- train_glm[-train_ind_glm, ]"
   ]
  },
  {
   "cell_type": "code",
   "execution_count": 22,
   "metadata": {},
   "outputs": [],
   "source": [
    "names(train_glm1) <- gsub(\"-\", \"_\", names(train_glm1))\n",
    "names(test_glm1) <- gsub(\"-\",\"_\",names(test_glm1))\n",
    "names(test_glm)<-gsub(\"-\",\"_\",names(test_glm))"
   ]
  },
  {
   "cell_type": "code",
   "execution_count": 23,
   "metadata": {},
   "outputs": [
    {
     "name": "stderr",
     "output_type": "stream",
     "text": [
      "Loading required package: pROC\n",
      "Warning message:\n",
      "\"package 'pROC' was built under R version 3.6.2\"Type 'citation(\"pROC\")' for a citation.\n",
      "\n",
      "Attaching package: 'pROC'\n",
      "\n",
      "The following objects are masked from 'package:stats':\n",
      "\n",
      "    cov, smooth, var\n",
      "\n"
     ]
    },
    {
     "name": "stdout",
     "output_type": "stream",
     "text": [
      "[1] \"nr.employed\"\n",
      "[1] \"pdays\"\n",
      "[1] \"month.may\"\n",
      "[1] \"poutcome.nonexistent\"\n",
      "[1] \"contact.telephone\"\n",
      "[1] \"day_of_week.mon\"\n",
      "[1] \"month.sep\"\n",
      "[1] \"month.nov\"\n",
      "[1] \"job.services\"\n",
      "[1] \"month.mar\"\n",
      "[1] \"cons.conf.idx\"\n",
      "[1] \"month.aug\"\n",
      "[1] \"poutcome.failure\"\n",
      "[1] \"housing.unknown\"\n",
      "[1] \"job.retired\"\n",
      "[1] \"day_of_week.tue\"\n",
      "[1] \"loan.unknown\"\n",
      "[1] \"contact.cellular\"\n",
      "[1] \"poutcome.success\"\n",
      "[1] \"education.high.school\"\n",
      "[1] \"job.student\"\n",
      "[1] \"education.illiterate\"\n",
      "[1] \"education.professional.course\"\n",
      "[1] \"job.unemployed\"\n",
      "[1] \"housing.no\"\n",
      "[1] \"housing.yes\"\n",
      "[1] \"marital.divorced\"\n",
      "[1] \"default.no\"\n",
      "[1] \"default.unknown\"\n",
      "[1] \"education.basic.6y\"\n",
      "[1] \"emp.var.rate\"\n",
      "[1] \"cons.price.idx\"\n",
      "[1] \"month.jun\"\n",
      "[1] \"euribor3m\"\n",
      "[1] \"month.dec\"\n",
      "[1] \"job.self_employed\"\n",
      "[1] \"month.oct\"\n",
      "[1] \"day_of_week.fri\"\n",
      "[1] \"job.unknown\"\n",
      "[1] \"marital.married\"\n",
      "[1] \"education.basic.9y\"\n",
      "[1] \"job.blue_collar\"\n",
      "[1] \"job.management\"\n",
      "[1] \"job.entrepreneur\"\n",
      "[1] \"education.unknown\"\n",
      "[1] \"campaign\"\n",
      "[1] \"loan.no\"\n",
      "[1] \"loan.yes\"\n",
      "[1] \"age\"\n",
      "[1] \"month.apr\"\n",
      "[1] \"month.jul\"\n",
      "[1] \"previous\"\n",
      "[1] \"education.basic.4y\"\n",
      "[1] \"education.university.degree\"\n",
      "[1] \"job.admin.\"\n",
      "[1] \"marital.single\"\n",
      "[1] \"marital.unknown\"\n",
      "[1] \"job.housemaid\"\n",
      "[1] \"job.technician\"\n",
      "[1] \"day_of_week.thu\"\n",
      "[1] \"day_of_week.wed\"\n",
      "[1] \"nr.employed\" \"pdays\"      \n"
     ]
    },
    {
     "name": "stderr",
     "output_type": "stream",
     "text": [
      "Setting levels: control = 0, case = 1\n",
      "Setting direction: controls < cases\n",
      "Setting levels: control = 0, case = 1\n",
      "Setting direction: controls < cases\n"
     ]
    },
    {
     "name": "stdout",
     "output_type": "stream",
     "text": [
      "[1] \"nr.employed\" \"pdays\"       \"month.may\"  \n"
     ]
    },
    {
     "name": "stderr",
     "output_type": "stream",
     "text": [
      "Setting levels: control = 0, case = 1\n",
      "Setting direction: controls < cases\n",
      "Setting levels: control = 0, case = 1\n",
      "Setting direction: controls < cases\n"
     ]
    },
    {
     "name": "stdout",
     "output_type": "stream",
     "text": [
      "[1] \"nr.employed\"          \"pdays\"                \"month.may\"           \n",
      "[4] \"poutcome.nonexistent\"\n"
     ]
    },
    {
     "name": "stderr",
     "output_type": "stream",
     "text": [
      "Setting levels: control = 0, case = 1\n",
      "Setting direction: controls < cases\n",
      "Setting levels: control = 0, case = 1\n",
      "Setting direction: controls < cases\n"
     ]
    },
    {
     "name": "stdout",
     "output_type": "stream",
     "text": [
      "[1] \"nr.employed\"          \"pdays\"                \"month.may\"           \n",
      "[4] \"poutcome.nonexistent\" \"contact.telephone\"   \n"
     ]
    },
    {
     "name": "stderr",
     "output_type": "stream",
     "text": [
      "Setting levels: control = 0, case = 1\n",
      "Setting direction: controls < cases\n",
      "Setting levels: control = 0, case = 1\n",
      "Setting direction: controls < cases\n"
     ]
    },
    {
     "name": "stdout",
     "output_type": "stream",
     "text": [
      "[1] \"nr.employed\"          \"pdays\"                \"month.may\"           \n",
      "[4] \"poutcome.nonexistent\" \"contact.telephone\"    \"day_of_week.mon\"     \n"
     ]
    },
    {
     "name": "stderr",
     "output_type": "stream",
     "text": [
      "Setting levels: control = 0, case = 1\n",
      "Setting direction: controls < cases\n",
      "Setting levels: control = 0, case = 1\n",
      "Setting direction: controls < cases\n"
     ]
    },
    {
     "name": "stdout",
     "output_type": "stream",
     "text": [
      "[1] \"nr.employed\"          \"pdays\"                \"month.may\"           \n",
      "[4] \"poutcome.nonexistent\" \"contact.telephone\"    \"day_of_week.mon\"     \n",
      "[7] \"month.sep\"           \n"
     ]
    },
    {
     "name": "stderr",
     "output_type": "stream",
     "text": [
      "Setting levels: control = 0, case = 1\n",
      "Setting direction: controls < cases\n",
      "Setting levels: control = 0, case = 1\n",
      "Setting direction: controls < cases\n"
     ]
    },
    {
     "name": "stdout",
     "output_type": "stream",
     "text": [
      "[1] \"nr.employed\"          \"pdays\"                \"month.may\"           \n",
      "[4] \"poutcome.nonexistent\" \"contact.telephone\"    \"day_of_week.mon\"     \n",
      "[7] \"month.sep\"            \"month.nov\"           \n"
     ]
    },
    {
     "name": "stderr",
     "output_type": "stream",
     "text": [
      "Setting levels: control = 0, case = 1\n",
      "Setting direction: controls < cases\n",
      "Setting levels: control = 0, case = 1\n",
      "Setting direction: controls < cases\n"
     ]
    },
    {
     "name": "stdout",
     "output_type": "stream",
     "text": [
      "[1] \"nr.employed\"          \"pdays\"                \"month.may\"           \n",
      "[4] \"poutcome.nonexistent\" \"contact.telephone\"    \"day_of_week.mon\"     \n",
      "[7] \"month.sep\"            \"month.nov\"            \"job.services\"        \n"
     ]
    },
    {
     "name": "stderr",
     "output_type": "stream",
     "text": [
      "Setting levels: control = 0, case = 1\n",
      "Setting direction: controls < cases\n",
      "Setting levels: control = 0, case = 1\n",
      "Setting direction: controls < cases\n"
     ]
    },
    {
     "name": "stdout",
     "output_type": "stream",
     "text": [
      " [1] \"nr.employed\"          \"pdays\"                \"month.may\"           \n",
      " [4] \"poutcome.nonexistent\" \"contact.telephone\"    \"day_of_week.mon\"     \n",
      " [7] \"month.sep\"            \"month.nov\"            \"job.services\"        \n",
      "[10] \"month.mar\"           \n"
     ]
    },
    {
     "name": "stderr",
     "output_type": "stream",
     "text": [
      "Setting levels: control = 0, case = 1\n",
      "Setting direction: controls < cases\n",
      "Setting levels: control = 0, case = 1\n",
      "Setting direction: controls < cases\n"
     ]
    },
    {
     "name": "stdout",
     "output_type": "stream",
     "text": [
      " [1] \"nr.employed\"          \"pdays\"                \"month.may\"           \n",
      " [4] \"poutcome.nonexistent\" \"contact.telephone\"    \"day_of_week.mon\"     \n",
      " [7] \"month.sep\"            \"month.nov\"            \"job.services\"        \n",
      "[10] \"month.mar\"            \"cons.conf.idx\"       \n"
     ]
    },
    {
     "name": "stderr",
     "output_type": "stream",
     "text": [
      "Setting levels: control = 0, case = 1\n",
      "Setting direction: controls < cases\n",
      "Setting levels: control = 0, case = 1\n",
      "Setting direction: controls < cases\n"
     ]
    },
    {
     "name": "stdout",
     "output_type": "stream",
     "text": [
      " [1] \"nr.employed\"          \"pdays\"                \"month.may\"           \n",
      " [4] \"poutcome.nonexistent\" \"contact.telephone\"    \"day_of_week.mon\"     \n",
      " [7] \"month.sep\"            \"month.nov\"            \"job.services\"        \n",
      "[10] \"month.mar\"            \"cons.conf.idx\"        \"month.aug\"           \n"
     ]
    },
    {
     "name": "stderr",
     "output_type": "stream",
     "text": [
      "Setting levels: control = 0, case = 1\n",
      "Setting direction: controls < cases\n",
      "Setting levels: control = 0, case = 1\n",
      "Setting direction: controls < cases\n"
     ]
    },
    {
     "name": "stdout",
     "output_type": "stream",
     "text": [
      " [1] \"nr.employed\"          \"pdays\"                \"month.may\"           \n",
      " [4] \"poutcome.nonexistent\" \"contact.telephone\"    \"day_of_week.mon\"     \n",
      " [7] \"month.sep\"            \"month.nov\"            \"job.services\"        \n",
      "[10] \"month.mar\"            \"cons.conf.idx\"        \"month.aug\"           \n",
      "[13] \"poutcome.failure\"    \n"
     ]
    },
    {
     "name": "stderr",
     "output_type": "stream",
     "text": [
      "Setting levels: control = 0, case = 1\n",
      "Setting direction: controls < cases\n",
      "Setting levels: control = 0, case = 1\n",
      "Setting direction: controls < cases\n"
     ]
    },
    {
     "name": "stdout",
     "output_type": "stream",
     "text": [
      " [1] \"nr.employed\"          \"pdays\"                \"month.may\"           \n",
      " [4] \"poutcome.nonexistent\" \"contact.telephone\"    \"day_of_week.mon\"     \n",
      " [7] \"month.sep\"            \"month.nov\"            \"job.services\"        \n",
      "[10] \"month.mar\"            \"cons.conf.idx\"        \"month.aug\"           \n",
      "[13] \"poutcome.failure\"     \"housing.unknown\"     \n"
     ]
    },
    {
     "name": "stderr",
     "output_type": "stream",
     "text": [
      "Setting levels: control = 0, case = 1\n",
      "Setting direction: controls < cases\n",
      "Setting levels: control = 0, case = 1\n",
      "Setting direction: controls < cases\n"
     ]
    },
    {
     "name": "stdout",
     "output_type": "stream",
     "text": [
      " [1] \"nr.employed\"          \"pdays\"                \"month.may\"           \n",
      " [4] \"poutcome.nonexistent\" \"contact.telephone\"    \"day_of_week.mon\"     \n",
      " [7] \"month.sep\"            \"month.nov\"            \"job.services\"        \n",
      "[10] \"month.mar\"            \"cons.conf.idx\"        \"month.aug\"           \n",
      "[13] \"poutcome.failure\"     \"housing.unknown\"      \"job.retired\"         \n"
     ]
    },
    {
     "name": "stderr",
     "output_type": "stream",
     "text": [
      "Setting levels: control = 0, case = 1\n",
      "Setting direction: controls < cases\n",
      "Setting levels: control = 0, case = 1\n",
      "Setting direction: controls < cases\n"
     ]
    },
    {
     "name": "stdout",
     "output_type": "stream",
     "text": [
      " [1] \"nr.employed\"          \"pdays\"                \"month.may\"           \n",
      " [4] \"poutcome.nonexistent\" \"contact.telephone\"    \"day_of_week.mon\"     \n",
      " [7] \"month.sep\"            \"month.nov\"            \"job.services\"        \n",
      "[10] \"month.mar\"            \"cons.conf.idx\"        \"month.aug\"           \n",
      "[13] \"poutcome.failure\"     \"housing.unknown\"      \"job.retired\"         \n",
      "[16] \"day_of_week.tue\"     \n"
     ]
    },
    {
     "name": "stderr",
     "output_type": "stream",
     "text": [
      "Setting levels: control = 0, case = 1\n",
      "Setting direction: controls < cases\n",
      "Setting levels: control = 0, case = 1\n",
      "Setting direction: controls < cases\n"
     ]
    },
    {
     "name": "stdout",
     "output_type": "stream",
     "text": [
      " [1] \"nr.employed\"          \"pdays\"                \"month.may\"           \n",
      " [4] \"poutcome.nonexistent\" \"contact.telephone\"    \"day_of_week.mon\"     \n",
      " [7] \"month.sep\"            \"month.nov\"            \"job.services\"        \n",
      "[10] \"month.mar\"            \"cons.conf.idx\"        \"month.aug\"           \n",
      "[13] \"poutcome.failure\"     \"housing.unknown\"      \"job.retired\"         \n",
      "[16] \"day_of_week.tue\"      \"loan.unknown\"        \n"
     ]
    },
    {
     "name": "stderr",
     "output_type": "stream",
     "text": [
      "Warning message in predict.lm(object, newdata, se.fit, scale = 1, type = if (type == :\n",
      "\"prediction from a rank-deficient fit may be misleading\"Warning message in predict.lm(object, newdata, se.fit, scale = 1, type = if (type == :\n",
      "\"prediction from a rank-deficient fit may be misleading\"Setting levels: control = 0, case = 1\n",
      "Setting direction: controls < cases\n",
      "Setting levels: control = 0, case = 1\n",
      "Setting direction: controls < cases\n"
     ]
    },
    {
     "name": "stdout",
     "output_type": "stream",
     "text": [
      " [1] \"nr.employed\"          \"pdays\"                \"month.may\"           \n",
      " [4] \"poutcome.nonexistent\" \"contact.telephone\"    \"day_of_week.mon\"     \n",
      " [7] \"month.sep\"            \"month.nov\"            \"job.services\"        \n",
      "[10] \"month.mar\"            \"cons.conf.idx\"        \"month.aug\"           \n",
      "[13] \"poutcome.failure\"     \"housing.unknown\"      \"job.retired\"         \n",
      "[16] \"day_of_week.tue\"      \"loan.unknown\"         \"contact.cellular\"    \n"
     ]
    },
    {
     "name": "stderr",
     "output_type": "stream",
     "text": [
      "Warning message in predict.lm(object, newdata, se.fit, scale = 1, type = if (type == :\n",
      "\"prediction from a rank-deficient fit may be misleading\"Warning message in predict.lm(object, newdata, se.fit, scale = 1, type = if (type == :\n",
      "\"prediction from a rank-deficient fit may be misleading\"Setting levels: control = 0, case = 1\n",
      "Setting direction: controls < cases\n",
      "Setting levels: control = 0, case = 1\n",
      "Setting direction: controls < cases\n"
     ]
    },
    {
     "name": "stdout",
     "output_type": "stream",
     "text": [
      " [1] \"nr.employed\"          \"pdays\"                \"month.may\"           \n",
      " [4] \"poutcome.nonexistent\" \"contact.telephone\"    \"day_of_week.mon\"     \n",
      " [7] \"month.sep\"            \"month.nov\"            \"job.services\"        \n",
      "[10] \"month.mar\"            \"cons.conf.idx\"        \"month.aug\"           \n",
      "[13] \"poutcome.failure\"     \"housing.unknown\"      \"job.retired\"         \n",
      "[16] \"day_of_week.tue\"      \"loan.unknown\"         \"contact.cellular\"    \n",
      "[19] \"poutcome.success\"    \n"
     ]
    },
    {
     "name": "stderr",
     "output_type": "stream",
     "text": [
      "Warning message in predict.lm(object, newdata, se.fit, scale = 1, type = if (type == :\n",
      "\"prediction from a rank-deficient fit may be misleading\"Warning message in predict.lm(object, newdata, se.fit, scale = 1, type = if (type == :\n",
      "\"prediction from a rank-deficient fit may be misleading\"Setting levels: control = 0, case = 1\n",
      "Setting direction: controls < cases\n",
      "Setting levels: control = 0, case = 1\n",
      "Setting direction: controls < cases\n"
     ]
    },
    {
     "name": "stdout",
     "output_type": "stream",
     "text": [
      " [1] \"nr.employed\"           \"pdays\"                 \"month.may\"            \n",
      " [4] \"poutcome.nonexistent\"  \"contact.telephone\"     \"day_of_week.mon\"      \n",
      " [7] \"month.sep\"             \"month.nov\"             \"job.services\"         \n",
      "[10] \"month.mar\"             \"cons.conf.idx\"         \"month.aug\"            \n",
      "[13] \"poutcome.failure\"      \"housing.unknown\"       \"job.retired\"          \n",
      "[16] \"day_of_week.tue\"       \"loan.unknown\"          \"contact.cellular\"     \n",
      "[19] \"poutcome.success\"      \"education.high.school\"\n"
     ]
    },
    {
     "name": "stderr",
     "output_type": "stream",
     "text": [
      "Warning message in predict.lm(object, newdata, se.fit, scale = 1, type = if (type == :\n",
      "\"prediction from a rank-deficient fit may be misleading\"Warning message in predict.lm(object, newdata, se.fit, scale = 1, type = if (type == :\n",
      "\"prediction from a rank-deficient fit may be misleading\"Setting levels: control = 0, case = 1\n",
      "Setting direction: controls < cases\n",
      "Setting levels: control = 0, case = 1\n",
      "Setting direction: controls < cases\n"
     ]
    },
    {
     "name": "stdout",
     "output_type": "stream",
     "text": [
      " [1] \"nr.employed\"           \"pdays\"                 \"month.may\"            \n",
      " [4] \"poutcome.nonexistent\"  \"contact.telephone\"     \"day_of_week.mon\"      \n",
      " [7] \"month.sep\"             \"month.nov\"             \"job.services\"         \n",
      "[10] \"month.mar\"             \"cons.conf.idx\"         \"month.aug\"            \n",
      "[13] \"poutcome.failure\"      \"housing.unknown\"       \"job.retired\"          \n",
      "[16] \"day_of_week.tue\"       \"loan.unknown\"          \"contact.cellular\"     \n",
      "[19] \"poutcome.success\"      \"education.high.school\" \"job.student\"          \n"
     ]
    },
    {
     "name": "stderr",
     "output_type": "stream",
     "text": [
      "Warning message in predict.lm(object, newdata, se.fit, scale = 1, type = if (type == :\n",
      "\"prediction from a rank-deficient fit may be misleading\"Warning message in predict.lm(object, newdata, se.fit, scale = 1, type = if (type == :\n",
      "\"prediction from a rank-deficient fit may be misleading\"Setting levels: control = 0, case = 1\n",
      "Setting direction: controls < cases\n",
      "Setting levels: control = 0, case = 1\n",
      "Setting direction: controls < cases\n"
     ]
    },
    {
     "name": "stdout",
     "output_type": "stream",
     "text": [
      " [1] \"nr.employed\"           \"pdays\"                 \"month.may\"            \n",
      " [4] \"poutcome.nonexistent\"  \"contact.telephone\"     \"day_of_week.mon\"      \n",
      " [7] \"month.sep\"             \"month.nov\"             \"job.services\"         \n",
      "[10] \"month.mar\"             \"cons.conf.idx\"         \"month.aug\"            \n",
      "[13] \"poutcome.failure\"      \"housing.unknown\"       \"job.retired\"          \n",
      "[16] \"day_of_week.tue\"       \"loan.unknown\"          \"contact.cellular\"     \n",
      "[19] \"poutcome.success\"      \"education.high.school\" \"job.student\"          \n",
      "[22] \"education.illiterate\" \n"
     ]
    },
    {
     "name": "stderr",
     "output_type": "stream",
     "text": [
      "Warning message in predict.lm(object, newdata, se.fit, scale = 1, type = if (type == :\n",
      "\"prediction from a rank-deficient fit may be misleading\"Warning message in predict.lm(object, newdata, se.fit, scale = 1, type = if (type == :\n",
      "\"prediction from a rank-deficient fit may be misleading\"Setting levels: control = 0, case = 1\n",
      "Setting direction: controls < cases\n",
      "Setting levels: control = 0, case = 1\n",
      "Setting direction: controls < cases\n"
     ]
    },
    {
     "name": "stdout",
     "output_type": "stream",
     "text": [
      " [1] \"nr.employed\"                   \"pdays\"                        \n",
      " [3] \"month.may\"                     \"poutcome.nonexistent\"         \n",
      " [5] \"contact.telephone\"             \"day_of_week.mon\"              \n",
      " [7] \"month.sep\"                     \"month.nov\"                    \n",
      " [9] \"job.services\"                  \"month.mar\"                    \n",
      "[11] \"cons.conf.idx\"                 \"month.aug\"                    \n",
      "[13] \"poutcome.failure\"              \"housing.unknown\"              \n",
      "[15] \"job.retired\"                   \"day_of_week.tue\"              \n",
      "[17] \"loan.unknown\"                  \"contact.cellular\"             \n",
      "[19] \"poutcome.success\"              \"education.high.school\"        \n",
      "[21] \"job.student\"                   \"education.illiterate\"         \n",
      "[23] \"education.professional.course\"\n"
     ]
    },
    {
     "name": "stderr",
     "output_type": "stream",
     "text": [
      "Warning message in predict.lm(object, newdata, se.fit, scale = 1, type = if (type == :\n",
      "\"prediction from a rank-deficient fit may be misleading\"Warning message in predict.lm(object, newdata, se.fit, scale = 1, type = if (type == :\n",
      "\"prediction from a rank-deficient fit may be misleading\"Setting levels: control = 0, case = 1\n",
      "Setting direction: controls < cases\n",
      "Setting levels: control = 0, case = 1\n",
      "Setting direction: controls < cases\n"
     ]
    },
    {
     "name": "stdout",
     "output_type": "stream",
     "text": [
      " [1] \"nr.employed\"                   \"pdays\"                        \n",
      " [3] \"month.may\"                     \"poutcome.nonexistent\"         \n",
      " [5] \"contact.telephone\"             \"day_of_week.mon\"              \n",
      " [7] \"month.sep\"                     \"month.nov\"                    \n",
      " [9] \"job.services\"                  \"month.mar\"                    \n",
      "[11] \"cons.conf.idx\"                 \"month.aug\"                    \n",
      "[13] \"poutcome.failure\"              \"housing.unknown\"              \n",
      "[15] \"job.retired\"                   \"day_of_week.tue\"              \n",
      "[17] \"loan.unknown\"                  \"contact.cellular\"             \n",
      "[19] \"poutcome.success\"              \"education.high.school\"        \n",
      "[21] \"job.student\"                   \"education.illiterate\"         \n",
      "[23] \"education.professional.course\" \"job.unemployed\"               \n"
     ]
    },
    {
     "name": "stderr",
     "output_type": "stream",
     "text": [
      "Warning message in predict.lm(object, newdata, se.fit, scale = 1, type = if (type == :\n",
      "\"prediction from a rank-deficient fit may be misleading\"Warning message in predict.lm(object, newdata, se.fit, scale = 1, type = if (type == :\n",
      "\"prediction from a rank-deficient fit may be misleading\"Setting levels: control = 0, case = 1\n",
      "Setting direction: controls < cases\n",
      "Setting levels: control = 0, case = 1\n",
      "Setting direction: controls < cases\n"
     ]
    },
    {
     "name": "stdout",
     "output_type": "stream",
     "text": [
      " [1] \"nr.employed\"                   \"pdays\"                        \n",
      " [3] \"month.may\"                     \"poutcome.nonexistent\"         \n",
      " [5] \"contact.telephone\"             \"day_of_week.mon\"              \n",
      " [7] \"month.sep\"                     \"month.nov\"                    \n",
      " [9] \"job.services\"                  \"month.mar\"                    \n",
      "[11] \"cons.conf.idx\"                 \"month.aug\"                    \n",
      "[13] \"poutcome.failure\"              \"housing.unknown\"              \n",
      "[15] \"job.retired\"                   \"day_of_week.tue\"              \n",
      "[17] \"loan.unknown\"                  \"contact.cellular\"             \n",
      "[19] \"poutcome.success\"              \"education.high.school\"        \n",
      "[21] \"job.student\"                   \"education.illiterate\"         \n",
      "[23] \"education.professional.course\" \"job.unemployed\"               \n",
      "[25] \"housing.no\"                   \n"
     ]
    },
    {
     "name": "stderr",
     "output_type": "stream",
     "text": [
      "Warning message in predict.lm(object, newdata, se.fit, scale = 1, type = if (type == :\n",
      "\"prediction from a rank-deficient fit may be misleading\"Warning message in predict.lm(object, newdata, se.fit, scale = 1, type = if (type == :\n",
      "\"prediction from a rank-deficient fit may be misleading\"Setting levels: control = 0, case = 1\n",
      "Setting direction: controls < cases\n",
      "Setting levels: control = 0, case = 1\n",
      "Setting direction: controls < cases\n"
     ]
    },
    {
     "name": "stdout",
     "output_type": "stream",
     "text": [
      " [1] \"nr.employed\"                   \"pdays\"                        \n",
      " [3] \"month.may\"                     \"poutcome.nonexistent\"         \n",
      " [5] \"contact.telephone\"             \"day_of_week.mon\"              \n",
      " [7] \"month.sep\"                     \"month.nov\"                    \n",
      " [9] \"job.services\"                  \"month.mar\"                    \n",
      "[11] \"cons.conf.idx\"                 \"month.aug\"                    \n",
      "[13] \"poutcome.failure\"              \"housing.unknown\"              \n",
      "[15] \"job.retired\"                   \"day_of_week.tue\"              \n",
      "[17] \"loan.unknown\"                  \"contact.cellular\"             \n",
      "[19] \"poutcome.success\"              \"education.high.school\"        \n",
      "[21] \"job.student\"                   \"education.illiterate\"         \n",
      "[23] \"education.professional.course\" \"job.unemployed\"               \n",
      "[25] \"housing.no\"                    \"housing.yes\"                  \n"
     ]
    },
    {
     "name": "stderr",
     "output_type": "stream",
     "text": [
      "Warning message in predict.lm(object, newdata, se.fit, scale = 1, type = if (type == :\n",
      "\"prediction from a rank-deficient fit may be misleading\"Warning message in predict.lm(object, newdata, se.fit, scale = 1, type = if (type == :\n",
      "\"prediction from a rank-deficient fit may be misleading\"Setting levels: control = 0, case = 1\n",
      "Setting direction: controls < cases\n",
      "Setting levels: control = 0, case = 1\n",
      "Setting direction: controls < cases\n"
     ]
    },
    {
     "name": "stdout",
     "output_type": "stream",
     "text": [
      " [1] \"nr.employed\"                   \"pdays\"                        \n",
      " [3] \"month.may\"                     \"poutcome.nonexistent\"         \n",
      " [5] \"contact.telephone\"             \"day_of_week.mon\"              \n",
      " [7] \"month.sep\"                     \"month.nov\"                    \n",
      " [9] \"job.services\"                  \"month.mar\"                    \n",
      "[11] \"cons.conf.idx\"                 \"month.aug\"                    \n",
      "[13] \"poutcome.failure\"              \"housing.unknown\"              \n",
      "[15] \"job.retired\"                   \"day_of_week.tue\"              \n",
      "[17] \"loan.unknown\"                  \"contact.cellular\"             \n",
      "[19] \"poutcome.success\"              \"education.high.school\"        \n",
      "[21] \"job.student\"                   \"education.illiterate\"         \n",
      "[23] \"education.professional.course\" \"job.unemployed\"               \n",
      "[25] \"housing.no\"                    \"housing.yes\"                  \n",
      "[27] \"marital.divorced\"             \n"
     ]
    },
    {
     "name": "stderr",
     "output_type": "stream",
     "text": [
      "Warning message in predict.lm(object, newdata, se.fit, scale = 1, type = if (type == :\n",
      "\"prediction from a rank-deficient fit may be misleading\"Warning message in predict.lm(object, newdata, se.fit, scale = 1, type = if (type == :\n",
      "\"prediction from a rank-deficient fit may be misleading\"Setting levels: control = 0, case = 1\n",
      "Setting direction: controls < cases\n",
      "Setting levels: control = 0, case = 1\n",
      "Setting direction: controls < cases\n"
     ]
    },
    {
     "name": "stdout",
     "output_type": "stream",
     "text": [
      " [1] \"nr.employed\"                   \"pdays\"                        \n",
      " [3] \"month.may\"                     \"poutcome.nonexistent\"         \n",
      " [5] \"contact.telephone\"             \"day_of_week.mon\"              \n",
      " [7] \"month.sep\"                     \"month.nov\"                    \n",
      " [9] \"job.services\"                  \"month.mar\"                    \n",
      "[11] \"cons.conf.idx\"                 \"month.aug\"                    \n",
      "[13] \"poutcome.failure\"              \"housing.unknown\"              \n",
      "[15] \"job.retired\"                   \"day_of_week.tue\"              \n",
      "[17] \"loan.unknown\"                  \"contact.cellular\"             \n",
      "[19] \"poutcome.success\"              \"education.high.school\"        \n",
      "[21] \"job.student\"                   \"education.illiterate\"         \n",
      "[23] \"education.professional.course\" \"job.unemployed\"               \n",
      "[25] \"housing.no\"                    \"housing.yes\"                  \n",
      "[27] \"marital.divorced\"              \"default.no\"                   \n"
     ]
    },
    {
     "name": "stderr",
     "output_type": "stream",
     "text": [
      "Warning message in predict.lm(object, newdata, se.fit, scale = 1, type = if (type == :\n",
      "\"prediction from a rank-deficient fit may be misleading\"Warning message in predict.lm(object, newdata, se.fit, scale = 1, type = if (type == :\n",
      "\"prediction from a rank-deficient fit may be misleading\"Setting levels: control = 0, case = 1\n",
      "Setting direction: controls < cases\n",
      "Setting levels: control = 0, case = 1\n",
      "Setting direction: controls < cases\n"
     ]
    },
    {
     "name": "stdout",
     "output_type": "stream",
     "text": [
      " [1] \"nr.employed\"                   \"pdays\"                        \n",
      " [3] \"month.may\"                     \"poutcome.nonexistent\"         \n",
      " [5] \"contact.telephone\"             \"day_of_week.mon\"              \n",
      " [7] \"month.sep\"                     \"month.nov\"                    \n",
      " [9] \"job.services\"                  \"month.mar\"                    \n",
      "[11] \"cons.conf.idx\"                 \"month.aug\"                    \n",
      "[13] \"poutcome.failure\"              \"housing.unknown\"              \n",
      "[15] \"job.retired\"                   \"day_of_week.tue\"              \n",
      "[17] \"loan.unknown\"                  \"contact.cellular\"             \n",
      "[19] \"poutcome.success\"              \"education.high.school\"        \n",
      "[21] \"job.student\"                   \"education.illiterate\"         \n",
      "[23] \"education.professional.course\" \"job.unemployed\"               \n",
      "[25] \"housing.no\"                    \"housing.yes\"                  \n",
      "[27] \"marital.divorced\"              \"default.no\"                   \n",
      "[29] \"default.unknown\"              \n"
     ]
    },
    {
     "name": "stderr",
     "output_type": "stream",
     "text": [
      "Warning message in predict.lm(object, newdata, se.fit, scale = 1, type = if (type == :\n",
      "\"prediction from a rank-deficient fit may be misleading\"Warning message in predict.lm(object, newdata, se.fit, scale = 1, type = if (type == :\n",
      "\"prediction from a rank-deficient fit may be misleading\"Setting levels: control = 0, case = 1\n",
      "Setting direction: controls < cases\n",
      "Setting levels: control = 0, case = 1\n",
      "Setting direction: controls < cases\n"
     ]
    },
    {
     "name": "stdout",
     "output_type": "stream",
     "text": [
      " [1] \"nr.employed\"                   \"pdays\"                        \n",
      " [3] \"month.may\"                     \"poutcome.nonexistent\"         \n",
      " [5] \"contact.telephone\"             \"day_of_week.mon\"              \n",
      " [7] \"month.sep\"                     \"month.nov\"                    \n",
      " [9] \"job.services\"                  \"month.mar\"                    \n",
      "[11] \"cons.conf.idx\"                 \"month.aug\"                    \n",
      "[13] \"poutcome.failure\"              \"housing.unknown\"              \n",
      "[15] \"job.retired\"                   \"day_of_week.tue\"              \n",
      "[17] \"loan.unknown\"                  \"contact.cellular\"             \n",
      "[19] \"poutcome.success\"              \"education.high.school\"        \n",
      "[21] \"job.student\"                   \"education.illiterate\"         \n",
      "[23] \"education.professional.course\" \"job.unemployed\"               \n",
      "[25] \"housing.no\"                    \"housing.yes\"                  \n",
      "[27] \"marital.divorced\"              \"default.no\"                   \n",
      "[29] \"default.unknown\"               \"education.basic.6y\"           \n"
     ]
    },
    {
     "name": "stderr",
     "output_type": "stream",
     "text": [
      "Warning message in predict.lm(object, newdata, se.fit, scale = 1, type = if (type == :\n",
      "\"prediction from a rank-deficient fit may be misleading\"Warning message in predict.lm(object, newdata, se.fit, scale = 1, type = if (type == :\n",
      "\"prediction from a rank-deficient fit may be misleading\"Setting levels: control = 0, case = 1\n",
      "Setting direction: controls < cases\n",
      "Setting levels: control = 0, case = 1\n",
      "Setting direction: controls < cases\n"
     ]
    },
    {
     "name": "stdout",
     "output_type": "stream",
     "text": [
      " [1] \"nr.employed\"                   \"pdays\"                        \n",
      " [3] \"month.may\"                     \"poutcome.nonexistent\"         \n",
      " [5] \"contact.telephone\"             \"day_of_week.mon\"              \n",
      " [7] \"month.sep\"                     \"month.nov\"                    \n",
      " [9] \"job.services\"                  \"month.mar\"                    \n",
      "[11] \"cons.conf.idx\"                 \"month.aug\"                    \n",
      "[13] \"poutcome.failure\"              \"housing.unknown\"              \n",
      "[15] \"job.retired\"                   \"day_of_week.tue\"              \n",
      "[17] \"loan.unknown\"                  \"contact.cellular\"             \n",
      "[19] \"poutcome.success\"              \"education.high.school\"        \n",
      "[21] \"job.student\"                   \"education.illiterate\"         \n",
      "[23] \"education.professional.course\" \"job.unemployed\"               \n",
      "[25] \"housing.no\"                    \"housing.yes\"                  \n",
      "[27] \"marital.divorced\"              \"default.no\"                   \n",
      "[29] \"default.unknown\"               \"education.basic.6y\"           \n",
      "[31] \"emp.var.rate\"                 \n"
     ]
    },
    {
     "name": "stderr",
     "output_type": "stream",
     "text": [
      "Warning message in predict.lm(object, newdata, se.fit, scale = 1, type = if (type == :\n",
      "\"prediction from a rank-deficient fit may be misleading\"Warning message in predict.lm(object, newdata, se.fit, scale = 1, type = if (type == :\n",
      "\"prediction from a rank-deficient fit may be misleading\"Setting levels: control = 0, case = 1\n",
      "Setting direction: controls < cases\n",
      "Setting levels: control = 0, case = 1\n",
      "Setting direction: controls < cases\n"
     ]
    },
    {
     "name": "stdout",
     "output_type": "stream",
     "text": [
      " [1] \"nr.employed\"                   \"pdays\"                        \n",
      " [3] \"month.may\"                     \"poutcome.nonexistent\"         \n",
      " [5] \"contact.telephone\"             \"day_of_week.mon\"              \n",
      " [7] \"month.sep\"                     \"month.nov\"                    \n",
      " [9] \"job.services\"                  \"month.mar\"                    \n",
      "[11] \"cons.conf.idx\"                 \"month.aug\"                    \n",
      "[13] \"poutcome.failure\"              \"housing.unknown\"              \n",
      "[15] \"job.retired\"                   \"day_of_week.tue\"              \n",
      "[17] \"loan.unknown\"                  \"contact.cellular\"             \n",
      "[19] \"poutcome.success\"              \"education.high.school\"        \n",
      "[21] \"job.student\"                   \"education.illiterate\"         \n",
      "[23] \"education.professional.course\" \"job.unemployed\"               \n",
      "[25] \"housing.no\"                    \"housing.yes\"                  \n",
      "[27] \"marital.divorced\"              \"default.no\"                   \n",
      "[29] \"default.unknown\"               \"education.basic.6y\"           \n",
      "[31] \"emp.var.rate\"                  \"cons.price.idx\"               \n"
     ]
    },
    {
     "name": "stderr",
     "output_type": "stream",
     "text": [
      "Warning message in predict.lm(object, newdata, se.fit, scale = 1, type = if (type == :\n",
      "\"prediction from a rank-deficient fit may be misleading\"Warning message in predict.lm(object, newdata, se.fit, scale = 1, type = if (type == :\n",
      "\"prediction from a rank-deficient fit may be misleading\"Setting levels: control = 0, case = 1\n",
      "Setting direction: controls < cases\n",
      "Setting levels: control = 0, case = 1\n",
      "Setting direction: controls < cases\n"
     ]
    },
    {
     "name": "stdout",
     "output_type": "stream",
     "text": [
      " [1] \"nr.employed\"                   \"pdays\"                        \n",
      " [3] \"month.may\"                     \"poutcome.nonexistent\"         \n",
      " [5] \"contact.telephone\"             \"day_of_week.mon\"              \n",
      " [7] \"month.sep\"                     \"month.nov\"                    \n",
      " [9] \"job.services\"                  \"month.mar\"                    \n",
      "[11] \"cons.conf.idx\"                 \"month.aug\"                    \n",
      "[13] \"poutcome.failure\"              \"housing.unknown\"              \n",
      "[15] \"job.retired\"                   \"day_of_week.tue\"              \n",
      "[17] \"loan.unknown\"                  \"contact.cellular\"             \n",
      "[19] \"poutcome.success\"              \"education.high.school\"        \n",
      "[21] \"job.student\"                   \"education.illiterate\"         \n",
      "[23] \"education.professional.course\" \"job.unemployed\"               \n",
      "[25] \"housing.no\"                    \"housing.yes\"                  \n",
      "[27] \"marital.divorced\"              \"default.no\"                   \n",
      "[29] \"default.unknown\"               \"education.basic.6y\"           \n",
      "[31] \"emp.var.rate\"                  \"cons.price.idx\"               \n",
      "[33] \"month.jun\"                    \n"
     ]
    },
    {
     "name": "stderr",
     "output_type": "stream",
     "text": [
      "Warning message in predict.lm(object, newdata, se.fit, scale = 1, type = if (type == :\n",
      "\"prediction from a rank-deficient fit may be misleading\"Warning message in predict.lm(object, newdata, se.fit, scale = 1, type = if (type == :\n",
      "\"prediction from a rank-deficient fit may be misleading\"Setting levels: control = 0, case = 1\n",
      "Setting direction: controls < cases\n",
      "Setting levels: control = 0, case = 1\n",
      "Setting direction: controls < cases\n"
     ]
    },
    {
     "name": "stdout",
     "output_type": "stream",
     "text": [
      " [1] \"nr.employed\"                   \"pdays\"                        \n",
      " [3] \"month.may\"                     \"poutcome.nonexistent\"         \n",
      " [5] \"contact.telephone\"             \"day_of_week.mon\"              \n",
      " [7] \"month.sep\"                     \"month.nov\"                    \n",
      " [9] \"job.services\"                  \"month.mar\"                    \n",
      "[11] \"cons.conf.idx\"                 \"month.aug\"                    \n",
      "[13] \"poutcome.failure\"              \"housing.unknown\"              \n",
      "[15] \"job.retired\"                   \"day_of_week.tue\"              \n",
      "[17] \"loan.unknown\"                  \"contact.cellular\"             \n",
      "[19] \"poutcome.success\"              \"education.high.school\"        \n",
      "[21] \"job.student\"                   \"education.illiterate\"         \n",
      "[23] \"education.professional.course\" \"job.unemployed\"               \n",
      "[25] \"housing.no\"                    \"housing.yes\"                  \n",
      "[27] \"marital.divorced\"              \"default.no\"                   \n",
      "[29] \"default.unknown\"               \"education.basic.6y\"           \n",
      "[31] \"emp.var.rate\"                  \"cons.price.idx\"               \n",
      "[33] \"month.jun\"                     \"euribor3m\"                    \n"
     ]
    },
    {
     "name": "stderr",
     "output_type": "stream",
     "text": [
      "Warning message in predict.lm(object, newdata, se.fit, scale = 1, type = if (type == :\n",
      "\"prediction from a rank-deficient fit may be misleading\"Warning message in predict.lm(object, newdata, se.fit, scale = 1, type = if (type == :\n",
      "\"prediction from a rank-deficient fit may be misleading\"Setting levels: control = 0, case = 1\n",
      "Setting direction: controls < cases\n",
      "Setting levels: control = 0, case = 1\n",
      "Setting direction: controls < cases\n"
     ]
    },
    {
     "name": "stdout",
     "output_type": "stream",
     "text": [
      " [1] \"nr.employed\"                   \"pdays\"                        \n",
      " [3] \"month.may\"                     \"poutcome.nonexistent\"         \n",
      " [5] \"contact.telephone\"             \"day_of_week.mon\"              \n",
      " [7] \"month.sep\"                     \"month.nov\"                    \n",
      " [9] \"job.services\"                  \"month.mar\"                    \n",
      "[11] \"cons.conf.idx\"                 \"month.aug\"                    \n",
      "[13] \"poutcome.failure\"              \"housing.unknown\"              \n",
      "[15] \"job.retired\"                   \"day_of_week.tue\"              \n",
      "[17] \"loan.unknown\"                  \"contact.cellular\"             \n",
      "[19] \"poutcome.success\"              \"education.high.school\"        \n",
      "[21] \"job.student\"                   \"education.illiterate\"         \n",
      "[23] \"education.professional.course\" \"job.unemployed\"               \n",
      "[25] \"housing.no\"                    \"housing.yes\"                  \n",
      "[27] \"marital.divorced\"              \"default.no\"                   \n",
      "[29] \"default.unknown\"               \"education.basic.6y\"           \n",
      "[31] \"emp.var.rate\"                  \"cons.price.idx\"               \n",
      "[33] \"month.jun\"                     \"euribor3m\"                    \n",
      "[35] \"month.dec\"                    \n"
     ]
    },
    {
     "name": "stderr",
     "output_type": "stream",
     "text": [
      "Warning message in predict.lm(object, newdata, se.fit, scale = 1, type = if (type == :\n",
      "\"prediction from a rank-deficient fit may be misleading\"Warning message in predict.lm(object, newdata, se.fit, scale = 1, type = if (type == :\n",
      "\"prediction from a rank-deficient fit may be misleading\"Setting levels: control = 0, case = 1\n",
      "Setting direction: controls < cases\n",
      "Setting levels: control = 0, case = 1\n",
      "Setting direction: controls < cases\n"
     ]
    },
    {
     "name": "stdout",
     "output_type": "stream",
     "text": [
      " [1] \"nr.employed\"                   \"pdays\"                        \n",
      " [3] \"month.may\"                     \"poutcome.nonexistent\"         \n",
      " [5] \"contact.telephone\"             \"day_of_week.mon\"              \n",
      " [7] \"month.sep\"                     \"month.nov\"                    \n",
      " [9] \"job.services\"                  \"month.mar\"                    \n",
      "[11] \"cons.conf.idx\"                 \"month.aug\"                    \n",
      "[13] \"poutcome.failure\"              \"housing.unknown\"              \n",
      "[15] \"job.retired\"                   \"day_of_week.tue\"              \n",
      "[17] \"loan.unknown\"                  \"contact.cellular\"             \n",
      "[19] \"poutcome.success\"              \"education.high.school\"        \n",
      "[21] \"job.student\"                   \"education.illiterate\"         \n",
      "[23] \"education.professional.course\" \"job.unemployed\"               \n",
      "[25] \"housing.no\"                    \"housing.yes\"                  \n",
      "[27] \"marital.divorced\"              \"default.no\"                   \n",
      "[29] \"default.unknown\"               \"education.basic.6y\"           \n",
      "[31] \"emp.var.rate\"                  \"cons.price.idx\"               \n",
      "[33] \"month.jun\"                     \"euribor3m\"                    \n",
      "[35] \"month.dec\"                     \"job.self_employed\"            \n"
     ]
    },
    {
     "name": "stderr",
     "output_type": "stream",
     "text": [
      "Warning message in predict.lm(object, newdata, se.fit, scale = 1, type = if (type == :\n",
      "\"prediction from a rank-deficient fit may be misleading\"Warning message in predict.lm(object, newdata, se.fit, scale = 1, type = if (type == :\n",
      "\"prediction from a rank-deficient fit may be misleading\"Setting levels: control = 0, case = 1\n",
      "Setting direction: controls < cases\n",
      "Setting levels: control = 0, case = 1\n",
      "Setting direction: controls < cases\n"
     ]
    },
    {
     "name": "stdout",
     "output_type": "stream",
     "text": [
      " [1] \"nr.employed\"                   \"pdays\"                        \n",
      " [3] \"month.may\"                     \"poutcome.nonexistent\"         \n",
      " [5] \"contact.telephone\"             \"day_of_week.mon\"              \n",
      " [7] \"month.sep\"                     \"month.nov\"                    \n",
      " [9] \"job.services\"                  \"month.mar\"                    \n",
      "[11] \"cons.conf.idx\"                 \"month.aug\"                    \n",
      "[13] \"poutcome.failure\"              \"housing.unknown\"              \n",
      "[15] \"job.retired\"                   \"day_of_week.tue\"              \n",
      "[17] \"loan.unknown\"                  \"contact.cellular\"             \n",
      "[19] \"poutcome.success\"              \"education.high.school\"        \n",
      "[21] \"job.student\"                   \"education.illiterate\"         \n",
      "[23] \"education.professional.course\" \"job.unemployed\"               \n",
      "[25] \"housing.no\"                    \"housing.yes\"                  \n",
      "[27] \"marital.divorced\"              \"default.no\"                   \n",
      "[29] \"default.unknown\"               \"education.basic.6y\"           \n",
      "[31] \"emp.var.rate\"                  \"cons.price.idx\"               \n",
      "[33] \"month.jun\"                     \"euribor3m\"                    \n",
      "[35] \"month.dec\"                     \"job.self_employed\"            \n",
      "[37] \"month.oct\"                    \n"
     ]
    },
    {
     "name": "stderr",
     "output_type": "stream",
     "text": [
      "Warning message in predict.lm(object, newdata, se.fit, scale = 1, type = if (type == :\n",
      "\"prediction from a rank-deficient fit may be misleading\"Warning message in predict.lm(object, newdata, se.fit, scale = 1, type = if (type == :\n",
      "\"prediction from a rank-deficient fit may be misleading\"Setting levels: control = 0, case = 1\n",
      "Setting direction: controls < cases\n",
      "Setting levels: control = 0, case = 1\n",
      "Setting direction: controls < cases\n"
     ]
    },
    {
     "name": "stdout",
     "output_type": "stream",
     "text": [
      " [1] \"nr.employed\"                   \"pdays\"                        \n",
      " [3] \"month.may\"                     \"poutcome.nonexistent\"         \n",
      " [5] \"contact.telephone\"             \"day_of_week.mon\"              \n",
      " [7] \"month.sep\"                     \"month.nov\"                    \n",
      " [9] \"job.services\"                  \"month.mar\"                    \n",
      "[11] \"cons.conf.idx\"                 \"month.aug\"                    \n",
      "[13] \"poutcome.failure\"              \"housing.unknown\"              \n",
      "[15] \"job.retired\"                   \"day_of_week.tue\"              \n",
      "[17] \"loan.unknown\"                  \"contact.cellular\"             \n",
      "[19] \"poutcome.success\"              \"education.high.school\"        \n",
      "[21] \"job.student\"                   \"education.illiterate\"         \n",
      "[23] \"education.professional.course\" \"job.unemployed\"               \n",
      "[25] \"housing.no\"                    \"housing.yes\"                  \n",
      "[27] \"marital.divorced\"              \"default.no\"                   \n",
      "[29] \"default.unknown\"               \"education.basic.6y\"           \n",
      "[31] \"emp.var.rate\"                  \"cons.price.idx\"               \n",
      "[33] \"month.jun\"                     \"euribor3m\"                    \n",
      "[35] \"month.dec\"                     \"job.self_employed\"            \n",
      "[37] \"month.oct\"                     \"day_of_week.fri\"              \n"
     ]
    },
    {
     "name": "stderr",
     "output_type": "stream",
     "text": [
      "Warning message in predict.lm(object, newdata, se.fit, scale = 1, type = if (type == :\n",
      "\"prediction from a rank-deficient fit may be misleading\"Warning message in predict.lm(object, newdata, se.fit, scale = 1, type = if (type == :\n",
      "\"prediction from a rank-deficient fit may be misleading\"Setting levels: control = 0, case = 1\n",
      "Setting direction: controls < cases\n",
      "Setting levels: control = 0, case = 1\n",
      "Setting direction: controls < cases\n"
     ]
    },
    {
     "name": "stdout",
     "output_type": "stream",
     "text": [
      " [1] \"nr.employed\"                   \"pdays\"                        \n",
      " [3] \"month.may\"                     \"poutcome.nonexistent\"         \n",
      " [5] \"contact.telephone\"             \"day_of_week.mon\"              \n",
      " [7] \"month.sep\"                     \"month.nov\"                    \n",
      " [9] \"job.services\"                  \"month.mar\"                    \n",
      "[11] \"cons.conf.idx\"                 \"month.aug\"                    \n",
      "[13] \"poutcome.failure\"              \"housing.unknown\"              \n",
      "[15] \"job.retired\"                   \"day_of_week.tue\"              \n",
      "[17] \"loan.unknown\"                  \"contact.cellular\"             \n",
      "[19] \"poutcome.success\"              \"education.high.school\"        \n",
      "[21] \"job.student\"                   \"education.illiterate\"         \n",
      "[23] \"education.professional.course\" \"job.unemployed\"               \n",
      "[25] \"housing.no\"                    \"housing.yes\"                  \n",
      "[27] \"marital.divorced\"              \"default.no\"                   \n",
      "[29] \"default.unknown\"               \"education.basic.6y\"           \n",
      "[31] \"emp.var.rate\"                  \"cons.price.idx\"               \n",
      "[33] \"month.jun\"                     \"euribor3m\"                    \n",
      "[35] \"month.dec\"                     \"job.self_employed\"            \n",
      "[37] \"month.oct\"                     \"day_of_week.fri\"              \n",
      "[39] \"job.unknown\"                  \n"
     ]
    },
    {
     "name": "stderr",
     "output_type": "stream",
     "text": [
      "Warning message in predict.lm(object, newdata, se.fit, scale = 1, type = if (type == :\n",
      "\"prediction from a rank-deficient fit may be misleading\"Warning message in predict.lm(object, newdata, se.fit, scale = 1, type = if (type == :\n",
      "\"prediction from a rank-deficient fit may be misleading\"Setting levels: control = 0, case = 1\n",
      "Setting direction: controls < cases\n",
      "Setting levels: control = 0, case = 1\n",
      "Setting direction: controls < cases\n"
     ]
    },
    {
     "name": "stdout",
     "output_type": "stream",
     "text": [
      " [1] \"nr.employed\"                   \"pdays\"                        \n",
      " [3] \"month.may\"                     \"poutcome.nonexistent\"         \n",
      " [5] \"contact.telephone\"             \"day_of_week.mon\"              \n",
      " [7] \"month.sep\"                     \"month.nov\"                    \n",
      " [9] \"job.services\"                  \"month.mar\"                    \n",
      "[11] \"cons.conf.idx\"                 \"month.aug\"                    \n",
      "[13] \"poutcome.failure\"              \"housing.unknown\"              \n",
      "[15] \"job.retired\"                   \"day_of_week.tue\"              \n",
      "[17] \"loan.unknown\"                  \"contact.cellular\"             \n",
      "[19] \"poutcome.success\"              \"education.high.school\"        \n",
      "[21] \"job.student\"                   \"education.illiterate\"         \n",
      "[23] \"education.professional.course\" \"job.unemployed\"               \n",
      "[25] \"housing.no\"                    \"housing.yes\"                  \n",
      "[27] \"marital.divorced\"              \"default.no\"                   \n",
      "[29] \"default.unknown\"               \"education.basic.6y\"           \n",
      "[31] \"emp.var.rate\"                  \"cons.price.idx\"               \n",
      "[33] \"month.jun\"                     \"euribor3m\"                    \n",
      "[35] \"month.dec\"                     \"job.self_employed\"            \n",
      "[37] \"month.oct\"                     \"day_of_week.fri\"              \n",
      "[39] \"job.unknown\"                   \"marital.married\"              \n"
     ]
    },
    {
     "name": "stderr",
     "output_type": "stream",
     "text": [
      "Warning message in predict.lm(object, newdata, se.fit, scale = 1, type = if (type == :\n",
      "\"prediction from a rank-deficient fit may be misleading\"Warning message in predict.lm(object, newdata, se.fit, scale = 1, type = if (type == :\n",
      "\"prediction from a rank-deficient fit may be misleading\"Setting levels: control = 0, case = 1\n",
      "Setting direction: controls < cases\n",
      "Setting levels: control = 0, case = 1\n",
      "Setting direction: controls < cases\n"
     ]
    },
    {
     "name": "stdout",
     "output_type": "stream",
     "text": [
      " [1] \"nr.employed\"                   \"pdays\"                        \n",
      " [3] \"month.may\"                     \"poutcome.nonexistent\"         \n",
      " [5] \"contact.telephone\"             \"day_of_week.mon\"              \n",
      " [7] \"month.sep\"                     \"month.nov\"                    \n",
      " [9] \"job.services\"                  \"month.mar\"                    \n",
      "[11] \"cons.conf.idx\"                 \"month.aug\"                    \n",
      "[13] \"poutcome.failure\"              \"housing.unknown\"              \n",
      "[15] \"job.retired\"                   \"day_of_week.tue\"              \n",
      "[17] \"loan.unknown\"                  \"contact.cellular\"             \n",
      "[19] \"poutcome.success\"              \"education.high.school\"        \n",
      "[21] \"job.student\"                   \"education.illiterate\"         \n",
      "[23] \"education.professional.course\" \"job.unemployed\"               \n",
      "[25] \"housing.no\"                    \"housing.yes\"                  \n",
      "[27] \"marital.divorced\"              \"default.no\"                   \n",
      "[29] \"default.unknown\"               \"education.basic.6y\"           \n",
      "[31] \"emp.var.rate\"                  \"cons.price.idx\"               \n",
      "[33] \"month.jun\"                     \"euribor3m\"                    \n",
      "[35] \"month.dec\"                     \"job.self_employed\"            \n",
      "[37] \"month.oct\"                     \"day_of_week.fri\"              \n",
      "[39] \"job.unknown\"                   \"marital.married\"              \n",
      "[41] \"education.basic.9y\"           \n"
     ]
    },
    {
     "name": "stderr",
     "output_type": "stream",
     "text": [
      "Warning message in predict.lm(object, newdata, se.fit, scale = 1, type = if (type == :\n",
      "\"prediction from a rank-deficient fit may be misleading\"Warning message in predict.lm(object, newdata, se.fit, scale = 1, type = if (type == :\n",
      "\"prediction from a rank-deficient fit may be misleading\"Setting levels: control = 0, case = 1\n",
      "Setting direction: controls < cases\n",
      "Setting levels: control = 0, case = 1\n",
      "Setting direction: controls < cases\n"
     ]
    },
    {
     "name": "stdout",
     "output_type": "stream",
     "text": [
      " [1] \"nr.employed\"                   \"pdays\"                        \n",
      " [3] \"month.may\"                     \"poutcome.nonexistent\"         \n",
      " [5] \"contact.telephone\"             \"day_of_week.mon\"              \n",
      " [7] \"month.sep\"                     \"month.nov\"                    \n",
      " [9] \"job.services\"                  \"month.mar\"                    \n",
      "[11] \"cons.conf.idx\"                 \"month.aug\"                    \n",
      "[13] \"poutcome.failure\"              \"housing.unknown\"              \n",
      "[15] \"job.retired\"                   \"day_of_week.tue\"              \n",
      "[17] \"loan.unknown\"                  \"contact.cellular\"             \n",
      "[19] \"poutcome.success\"              \"education.high.school\"        \n",
      "[21] \"job.student\"                   \"education.illiterate\"         \n",
      "[23] \"education.professional.course\" \"job.unemployed\"               \n",
      "[25] \"housing.no\"                    \"housing.yes\"                  \n",
      "[27] \"marital.divorced\"              \"default.no\"                   \n",
      "[29] \"default.unknown\"               \"education.basic.6y\"           \n",
      "[31] \"emp.var.rate\"                  \"cons.price.idx\"               \n",
      "[33] \"month.jun\"                     \"euribor3m\"                    \n",
      "[35] \"month.dec\"                     \"job.self_employed\"            \n",
      "[37] \"month.oct\"                     \"day_of_week.fri\"              \n",
      "[39] \"job.unknown\"                   \"marital.married\"              \n",
      "[41] \"education.basic.9y\"            \"job.blue_collar\"              \n"
     ]
    },
    {
     "name": "stderr",
     "output_type": "stream",
     "text": [
      "Warning message in predict.lm(object, newdata, se.fit, scale = 1, type = if (type == :\n",
      "\"prediction from a rank-deficient fit may be misleading\"Warning message in predict.lm(object, newdata, se.fit, scale = 1, type = if (type == :\n",
      "\"prediction from a rank-deficient fit may be misleading\"Setting levels: control = 0, case = 1\n",
      "Setting direction: controls < cases\n",
      "Setting levels: control = 0, case = 1\n",
      "Setting direction: controls < cases\n"
     ]
    },
    {
     "name": "stdout",
     "output_type": "stream",
     "text": [
      " [1] \"nr.employed\"                   \"pdays\"                        \n",
      " [3] \"month.may\"                     \"poutcome.nonexistent\"         \n",
      " [5] \"contact.telephone\"             \"day_of_week.mon\"              \n",
      " [7] \"month.sep\"                     \"month.nov\"                    \n",
      " [9] \"job.services\"                  \"month.mar\"                    \n",
      "[11] \"cons.conf.idx\"                 \"month.aug\"                    \n",
      "[13] \"poutcome.failure\"              \"housing.unknown\"              \n",
      "[15] \"job.retired\"                   \"day_of_week.tue\"              \n",
      "[17] \"loan.unknown\"                  \"contact.cellular\"             \n",
      "[19] \"poutcome.success\"              \"education.high.school\"        \n",
      "[21] \"job.student\"                   \"education.illiterate\"         \n",
      "[23] \"education.professional.course\" \"job.unemployed\"               \n",
      "[25] \"housing.no\"                    \"housing.yes\"                  \n",
      "[27] \"marital.divorced\"              \"default.no\"                   \n",
      "[29] \"default.unknown\"               \"education.basic.6y\"           \n",
      "[31] \"emp.var.rate\"                  \"cons.price.idx\"               \n",
      "[33] \"month.jun\"                     \"euribor3m\"                    \n",
      "[35] \"month.dec\"                     \"job.self_employed\"            \n",
      "[37] \"month.oct\"                     \"day_of_week.fri\"              \n",
      "[39] \"job.unknown\"                   \"marital.married\"              \n",
      "[41] \"education.basic.9y\"            \"job.blue_collar\"              \n",
      "[43] \"job.management\"               \n"
     ]
    },
    {
     "name": "stderr",
     "output_type": "stream",
     "text": [
      "Warning message in predict.lm(object, newdata, se.fit, scale = 1, type = if (type == :\n",
      "\"prediction from a rank-deficient fit may be misleading\"Warning message in predict.lm(object, newdata, se.fit, scale = 1, type = if (type == :\n",
      "\"prediction from a rank-deficient fit may be misleading\"Setting levels: control = 0, case = 1\n",
      "Setting direction: controls < cases\n",
      "Setting levels: control = 0, case = 1\n",
      "Setting direction: controls < cases\n"
     ]
    },
    {
     "name": "stdout",
     "output_type": "stream",
     "text": [
      " [1] \"nr.employed\"                   \"pdays\"                        \n",
      " [3] \"month.may\"                     \"poutcome.nonexistent\"         \n",
      " [5] \"contact.telephone\"             \"day_of_week.mon\"              \n",
      " [7] \"month.sep\"                     \"month.nov\"                    \n",
      " [9] \"job.services\"                  \"month.mar\"                    \n",
      "[11] \"cons.conf.idx\"                 \"month.aug\"                    \n",
      "[13] \"poutcome.failure\"              \"housing.unknown\"              \n",
      "[15] \"job.retired\"                   \"day_of_week.tue\"              \n",
      "[17] \"loan.unknown\"                  \"contact.cellular\"             \n",
      "[19] \"poutcome.success\"              \"education.high.school\"        \n",
      "[21] \"job.student\"                   \"education.illiterate\"         \n",
      "[23] \"education.professional.course\" \"job.unemployed\"               \n",
      "[25] \"housing.no\"                    \"housing.yes\"                  \n",
      "[27] \"marital.divorced\"              \"default.no\"                   \n",
      "[29] \"default.unknown\"               \"education.basic.6y\"           \n",
      "[31] \"emp.var.rate\"                  \"cons.price.idx\"               \n",
      "[33] \"month.jun\"                     \"euribor3m\"                    \n",
      "[35] \"month.dec\"                     \"job.self_employed\"            \n",
      "[37] \"month.oct\"                     \"day_of_week.fri\"              \n",
      "[39] \"job.unknown\"                   \"marital.married\"              \n",
      "[41] \"education.basic.9y\"            \"job.blue_collar\"              \n",
      "[43] \"job.management\"                \"job.entrepreneur\"             \n"
     ]
    },
    {
     "name": "stderr",
     "output_type": "stream",
     "text": [
      "Warning message in predict.lm(object, newdata, se.fit, scale = 1, type = if (type == :\n",
      "\"prediction from a rank-deficient fit may be misleading\"Warning message in predict.lm(object, newdata, se.fit, scale = 1, type = if (type == :\n",
      "\"prediction from a rank-deficient fit may be misleading\"Setting levels: control = 0, case = 1\n",
      "Setting direction: controls < cases\n",
      "Setting levels: control = 0, case = 1\n",
      "Setting direction: controls < cases\n"
     ]
    },
    {
     "name": "stdout",
     "output_type": "stream",
     "text": [
      " [1] \"nr.employed\"                   \"pdays\"                        \n",
      " [3] \"month.may\"                     \"poutcome.nonexistent\"         \n",
      " [5] \"contact.telephone\"             \"day_of_week.mon\"              \n",
      " [7] \"month.sep\"                     \"month.nov\"                    \n",
      " [9] \"job.services\"                  \"month.mar\"                    \n",
      "[11] \"cons.conf.idx\"                 \"month.aug\"                    \n",
      "[13] \"poutcome.failure\"              \"housing.unknown\"              \n",
      "[15] \"job.retired\"                   \"day_of_week.tue\"              \n",
      "[17] \"loan.unknown\"                  \"contact.cellular\"             \n",
      "[19] \"poutcome.success\"              \"education.high.school\"        \n",
      "[21] \"job.student\"                   \"education.illiterate\"         \n",
      "[23] \"education.professional.course\" \"job.unemployed\"               \n",
      "[25] \"housing.no\"                    \"housing.yes\"                  \n",
      "[27] \"marital.divorced\"              \"default.no\"                   \n",
      "[29] \"default.unknown\"               \"education.basic.6y\"           \n",
      "[31] \"emp.var.rate\"                  \"cons.price.idx\"               \n",
      "[33] \"month.jun\"                     \"euribor3m\"                    \n",
      "[35] \"month.dec\"                     \"job.self_employed\"            \n",
      "[37] \"month.oct\"                     \"day_of_week.fri\"              \n",
      "[39] \"job.unknown\"                   \"marital.married\"              \n",
      "[41] \"education.basic.9y\"            \"job.blue_collar\"              \n",
      "[43] \"job.management\"                \"job.entrepreneur\"             \n",
      "[45] \"education.unknown\"            \n"
     ]
    },
    {
     "name": "stderr",
     "output_type": "stream",
     "text": [
      "Warning message in predict.lm(object, newdata, se.fit, scale = 1, type = if (type == :\n",
      "\"prediction from a rank-deficient fit may be misleading\"Warning message in predict.lm(object, newdata, se.fit, scale = 1, type = if (type == :\n",
      "\"prediction from a rank-deficient fit may be misleading\"Setting levels: control = 0, case = 1\n",
      "Setting direction: controls < cases\n",
      "Setting levels: control = 0, case = 1\n",
      "Setting direction: controls < cases\n"
     ]
    },
    {
     "name": "stdout",
     "output_type": "stream",
     "text": [
      " [1] \"nr.employed\"                   \"pdays\"                        \n",
      " [3] \"month.may\"                     \"poutcome.nonexistent\"         \n",
      " [5] \"contact.telephone\"             \"day_of_week.mon\"              \n",
      " [7] \"month.sep\"                     \"month.nov\"                    \n",
      " [9] \"job.services\"                  \"month.mar\"                    \n",
      "[11] \"cons.conf.idx\"                 \"month.aug\"                    \n",
      "[13] \"poutcome.failure\"              \"housing.unknown\"              \n",
      "[15] \"job.retired\"                   \"day_of_week.tue\"              \n",
      "[17] \"loan.unknown\"                  \"contact.cellular\"             \n",
      "[19] \"poutcome.success\"              \"education.high.school\"        \n",
      "[21] \"job.student\"                   \"education.illiterate\"         \n",
      "[23] \"education.professional.course\" \"job.unemployed\"               \n",
      "[25] \"housing.no\"                    \"housing.yes\"                  \n",
      "[27] \"marital.divorced\"              \"default.no\"                   \n",
      "[29] \"default.unknown\"               \"education.basic.6y\"           \n",
      "[31] \"emp.var.rate\"                  \"cons.price.idx\"               \n",
      "[33] \"month.jun\"                     \"euribor3m\"                    \n",
      "[35] \"month.dec\"                     \"job.self_employed\"            \n",
      "[37] \"month.oct\"                     \"day_of_week.fri\"              \n",
      "[39] \"job.unknown\"                   \"marital.married\"              \n",
      "[41] \"education.basic.9y\"            \"job.blue_collar\"              \n",
      "[43] \"job.management\"                \"job.entrepreneur\"             \n",
      "[45] \"education.unknown\"             \"campaign\"                     \n"
     ]
    },
    {
     "name": "stderr",
     "output_type": "stream",
     "text": [
      "Warning message in predict.lm(object, newdata, se.fit, scale = 1, type = if (type == :\n",
      "\"prediction from a rank-deficient fit may be misleading\"Warning message in predict.lm(object, newdata, se.fit, scale = 1, type = if (type == :\n",
      "\"prediction from a rank-deficient fit may be misleading\"Setting levels: control = 0, case = 1\n",
      "Setting direction: controls < cases\n",
      "Setting levels: control = 0, case = 1\n",
      "Setting direction: controls < cases\n"
     ]
    },
    {
     "name": "stdout",
     "output_type": "stream",
     "text": [
      " [1] \"nr.employed\"                   \"pdays\"                        \n",
      " [3] \"month.may\"                     \"poutcome.nonexistent\"         \n",
      " [5] \"contact.telephone\"             \"day_of_week.mon\"              \n",
      " [7] \"month.sep\"                     \"month.nov\"                    \n",
      " [9] \"job.services\"                  \"month.mar\"                    \n",
      "[11] \"cons.conf.idx\"                 \"month.aug\"                    \n",
      "[13] \"poutcome.failure\"              \"housing.unknown\"              \n",
      "[15] \"job.retired\"                   \"day_of_week.tue\"              \n",
      "[17] \"loan.unknown\"                  \"contact.cellular\"             \n",
      "[19] \"poutcome.success\"              \"education.high.school\"        \n",
      "[21] \"job.student\"                   \"education.illiterate\"         \n",
      "[23] \"education.professional.course\" \"job.unemployed\"               \n",
      "[25] \"housing.no\"                    \"housing.yes\"                  \n",
      "[27] \"marital.divorced\"              \"default.no\"                   \n",
      "[29] \"default.unknown\"               \"education.basic.6y\"           \n",
      "[31] \"emp.var.rate\"                  \"cons.price.idx\"               \n",
      "[33] \"month.jun\"                     \"euribor3m\"                    \n",
      "[35] \"month.dec\"                     \"job.self_employed\"            \n",
      "[37] \"month.oct\"                     \"day_of_week.fri\"              \n",
      "[39] \"job.unknown\"                   \"marital.married\"              \n",
      "[41] \"education.basic.9y\"            \"job.blue_collar\"              \n",
      "[43] \"job.management\"                \"job.entrepreneur\"             \n",
      "[45] \"education.unknown\"             \"campaign\"                     \n",
      "[47] \"loan.no\"                      \n"
     ]
    },
    {
     "name": "stderr",
     "output_type": "stream",
     "text": [
      "Warning message in predict.lm(object, newdata, se.fit, scale = 1, type = if (type == :\n",
      "\"prediction from a rank-deficient fit may be misleading\"Warning message in predict.lm(object, newdata, se.fit, scale = 1, type = if (type == :\n",
      "\"prediction from a rank-deficient fit may be misleading\"Setting levels: control = 0, case = 1\n",
      "Setting direction: controls < cases\n",
      "Setting levels: control = 0, case = 1\n",
      "Setting direction: controls < cases\n"
     ]
    },
    {
     "name": "stdout",
     "output_type": "stream",
     "text": [
      " [1] \"nr.employed\"                   \"pdays\"                        \n",
      " [3] \"month.may\"                     \"poutcome.nonexistent\"         \n",
      " [5] \"contact.telephone\"             \"day_of_week.mon\"              \n",
      " [7] \"month.sep\"                     \"month.nov\"                    \n",
      " [9] \"job.services\"                  \"month.mar\"                    \n",
      "[11] \"cons.conf.idx\"                 \"month.aug\"                    \n",
      "[13] \"poutcome.failure\"              \"housing.unknown\"              \n",
      "[15] \"job.retired\"                   \"day_of_week.tue\"              \n",
      "[17] \"loan.unknown\"                  \"contact.cellular\"             \n",
      "[19] \"poutcome.success\"              \"education.high.school\"        \n",
      "[21] \"job.student\"                   \"education.illiterate\"         \n",
      "[23] \"education.professional.course\" \"job.unemployed\"               \n",
      "[25] \"housing.no\"                    \"housing.yes\"                  \n",
      "[27] \"marital.divorced\"              \"default.no\"                   \n",
      "[29] \"default.unknown\"               \"education.basic.6y\"           \n",
      "[31] \"emp.var.rate\"                  \"cons.price.idx\"               \n",
      "[33] \"month.jun\"                     \"euribor3m\"                    \n",
      "[35] \"month.dec\"                     \"job.self_employed\"            \n",
      "[37] \"month.oct\"                     \"day_of_week.fri\"              \n",
      "[39] \"job.unknown\"                   \"marital.married\"              \n",
      "[41] \"education.basic.9y\"            \"job.blue_collar\"              \n",
      "[43] \"job.management\"                \"job.entrepreneur\"             \n",
      "[45] \"education.unknown\"             \"campaign\"                     \n",
      "[47] \"loan.no\"                       \"loan.yes\"                     \n"
     ]
    },
    {
     "name": "stderr",
     "output_type": "stream",
     "text": [
      "Warning message in predict.lm(object, newdata, se.fit, scale = 1, type = if (type == :\n",
      "\"prediction from a rank-deficient fit may be misleading\"Warning message in predict.lm(object, newdata, se.fit, scale = 1, type = if (type == :\n",
      "\"prediction from a rank-deficient fit may be misleading\"Setting levels: control = 0, case = 1\n",
      "Setting direction: controls < cases\n",
      "Setting levels: control = 0, case = 1\n",
      "Setting direction: controls < cases\n"
     ]
    },
    {
     "name": "stdout",
     "output_type": "stream",
     "text": [
      " [1] \"nr.employed\"                   \"pdays\"                        \n",
      " [3] \"month.may\"                     \"poutcome.nonexistent\"         \n",
      " [5] \"contact.telephone\"             \"day_of_week.mon\"              \n",
      " [7] \"month.sep\"                     \"month.nov\"                    \n",
      " [9] \"job.services\"                  \"month.mar\"                    \n",
      "[11] \"cons.conf.idx\"                 \"month.aug\"                    \n",
      "[13] \"poutcome.failure\"              \"housing.unknown\"              \n",
      "[15] \"job.retired\"                   \"day_of_week.tue\"              \n",
      "[17] \"loan.unknown\"                  \"contact.cellular\"             \n",
      "[19] \"poutcome.success\"              \"education.high.school\"        \n",
      "[21] \"job.student\"                   \"education.illiterate\"         \n",
      "[23] \"education.professional.course\" \"job.unemployed\"               \n",
      "[25] \"housing.no\"                    \"housing.yes\"                  \n",
      "[27] \"marital.divorced\"              \"default.no\"                   \n",
      "[29] \"default.unknown\"               \"education.basic.6y\"           \n",
      "[31] \"emp.var.rate\"                  \"cons.price.idx\"               \n",
      "[33] \"month.jun\"                     \"euribor3m\"                    \n",
      "[35] \"month.dec\"                     \"job.self_employed\"            \n",
      "[37] \"month.oct\"                     \"day_of_week.fri\"              \n",
      "[39] \"job.unknown\"                   \"marital.married\"              \n",
      "[41] \"education.basic.9y\"            \"job.blue_collar\"              \n",
      "[43] \"job.management\"                \"job.entrepreneur\"             \n",
      "[45] \"education.unknown\"             \"campaign\"                     \n",
      "[47] \"loan.no\"                       \"loan.yes\"                     \n",
      "[49] \"age\"                          \n"
     ]
    },
    {
     "name": "stderr",
     "output_type": "stream",
     "text": [
      "Warning message in predict.lm(object, newdata, se.fit, scale = 1, type = if (type == :\n",
      "\"prediction from a rank-deficient fit may be misleading\"Warning message in predict.lm(object, newdata, se.fit, scale = 1, type = if (type == :\n",
      "\"prediction from a rank-deficient fit may be misleading\"Setting levels: control = 0, case = 1\n",
      "Setting direction: controls < cases\n",
      "Setting levels: control = 0, case = 1\n",
      "Setting direction: controls < cases\n"
     ]
    },
    {
     "name": "stdout",
     "output_type": "stream",
     "text": [
      " [1] \"nr.employed\"                   \"pdays\"                        \n",
      " [3] \"month.may\"                     \"poutcome.nonexistent\"         \n",
      " [5] \"contact.telephone\"             \"day_of_week.mon\"              \n",
      " [7] \"month.sep\"                     \"month.nov\"                    \n",
      " [9] \"job.services\"                  \"month.mar\"                    \n",
      "[11] \"cons.conf.idx\"                 \"month.aug\"                    \n",
      "[13] \"poutcome.failure\"              \"housing.unknown\"              \n",
      "[15] \"job.retired\"                   \"day_of_week.tue\"              \n",
      "[17] \"loan.unknown\"                  \"contact.cellular\"             \n",
      "[19] \"poutcome.success\"              \"education.high.school\"        \n",
      "[21] \"job.student\"                   \"education.illiterate\"         \n",
      "[23] \"education.professional.course\" \"job.unemployed\"               \n",
      "[25] \"housing.no\"                    \"housing.yes\"                  \n",
      "[27] \"marital.divorced\"              \"default.no\"                   \n",
      "[29] \"default.unknown\"               \"education.basic.6y\"           \n",
      "[31] \"emp.var.rate\"                  \"cons.price.idx\"               \n",
      "[33] \"month.jun\"                     \"euribor3m\"                    \n",
      "[35] \"month.dec\"                     \"job.self_employed\"            \n",
      "[37] \"month.oct\"                     \"day_of_week.fri\"              \n",
      "[39] \"job.unknown\"                   \"marital.married\"              \n",
      "[41] \"education.basic.9y\"            \"job.blue_collar\"              \n",
      "[43] \"job.management\"                \"job.entrepreneur\"             \n",
      "[45] \"education.unknown\"             \"campaign\"                     \n",
      "[47] \"loan.no\"                       \"loan.yes\"                     \n",
      "[49] \"age\"                           \"month.apr\"                    \n"
     ]
    },
    {
     "name": "stderr",
     "output_type": "stream",
     "text": [
      "Warning message in predict.lm(object, newdata, se.fit, scale = 1, type = if (type == :\n",
      "\"prediction from a rank-deficient fit may be misleading\"Warning message in predict.lm(object, newdata, se.fit, scale = 1, type = if (type == :\n",
      "\"prediction from a rank-deficient fit may be misleading\"Setting levels: control = 0, case = 1\n",
      "Setting direction: controls < cases\n",
      "Setting levels: control = 0, case = 1\n",
      "Setting direction: controls < cases\n"
     ]
    },
    {
     "name": "stdout",
     "output_type": "stream",
     "text": [
      " [1] \"nr.employed\"                   \"pdays\"                        \n",
      " [3] \"month.may\"                     \"poutcome.nonexistent\"         \n",
      " [5] \"contact.telephone\"             \"day_of_week.mon\"              \n",
      " [7] \"month.sep\"                     \"month.nov\"                    \n",
      " [9] \"job.services\"                  \"month.mar\"                    \n",
      "[11] \"cons.conf.idx\"                 \"month.aug\"                    \n",
      "[13] \"poutcome.failure\"              \"housing.unknown\"              \n",
      "[15] \"job.retired\"                   \"day_of_week.tue\"              \n",
      "[17] \"loan.unknown\"                  \"contact.cellular\"             \n",
      "[19] \"poutcome.success\"              \"education.high.school\"        \n",
      "[21] \"job.student\"                   \"education.illiterate\"         \n",
      "[23] \"education.professional.course\" \"job.unemployed\"               \n",
      "[25] \"housing.no\"                    \"housing.yes\"                  \n",
      "[27] \"marital.divorced\"              \"default.no\"                   \n",
      "[29] \"default.unknown\"               \"education.basic.6y\"           \n",
      "[31] \"emp.var.rate\"                  \"cons.price.idx\"               \n",
      "[33] \"month.jun\"                     \"euribor3m\"                    \n",
      "[35] \"month.dec\"                     \"job.self_employed\"            \n",
      "[37] \"month.oct\"                     \"day_of_week.fri\"              \n",
      "[39] \"job.unknown\"                   \"marital.married\"              \n",
      "[41] \"education.basic.9y\"            \"job.blue_collar\"              \n",
      "[43] \"job.management\"                \"job.entrepreneur\"             \n",
      "[45] \"education.unknown\"             \"campaign\"                     \n",
      "[47] \"loan.no\"                       \"loan.yes\"                     \n",
      "[49] \"age\"                           \"month.apr\"                    \n",
      "[51] \"month.jul\"                    \n"
     ]
    },
    {
     "name": "stderr",
     "output_type": "stream",
     "text": [
      "Warning message in predict.lm(object, newdata, se.fit, scale = 1, type = if (type == :\n",
      "\"prediction from a rank-deficient fit may be misleading\"Warning message in predict.lm(object, newdata, se.fit, scale = 1, type = if (type == :\n",
      "\"prediction from a rank-deficient fit may be misleading\"Setting levels: control = 0, case = 1\n",
      "Setting direction: controls < cases\n",
      "Setting levels: control = 0, case = 1\n",
      "Setting direction: controls < cases\n"
     ]
    },
    {
     "name": "stdout",
     "output_type": "stream",
     "text": [
      " [1] \"nr.employed\"                   \"pdays\"                        \n",
      " [3] \"month.may\"                     \"poutcome.nonexistent\"         \n",
      " [5] \"contact.telephone\"             \"day_of_week.mon\"              \n",
      " [7] \"month.sep\"                     \"month.nov\"                    \n",
      " [9] \"job.services\"                  \"month.mar\"                    \n",
      "[11] \"cons.conf.idx\"                 \"month.aug\"                    \n",
      "[13] \"poutcome.failure\"              \"housing.unknown\"              \n",
      "[15] \"job.retired\"                   \"day_of_week.tue\"              \n",
      "[17] \"loan.unknown\"                  \"contact.cellular\"             \n",
      "[19] \"poutcome.success\"              \"education.high.school\"        \n",
      "[21] \"job.student\"                   \"education.illiterate\"         \n",
      "[23] \"education.professional.course\" \"job.unemployed\"               \n",
      "[25] \"housing.no\"                    \"housing.yes\"                  \n",
      "[27] \"marital.divorced\"              \"default.no\"                   \n",
      "[29] \"default.unknown\"               \"education.basic.6y\"           \n",
      "[31] \"emp.var.rate\"                  \"cons.price.idx\"               \n",
      "[33] \"month.jun\"                     \"euribor3m\"                    \n",
      "[35] \"month.dec\"                     \"job.self_employed\"            \n",
      "[37] \"month.oct\"                     \"day_of_week.fri\"              \n",
      "[39] \"job.unknown\"                   \"marital.married\"              \n",
      "[41] \"education.basic.9y\"            \"job.blue_collar\"              \n",
      "[43] \"job.management\"                \"job.entrepreneur\"             \n",
      "[45] \"education.unknown\"             \"campaign\"                     \n",
      "[47] \"loan.no\"                       \"loan.yes\"                     \n",
      "[49] \"age\"                           \"month.apr\"                    \n",
      "[51] \"month.jul\"                     \"previous\"                     \n"
     ]
    },
    {
     "name": "stderr",
     "output_type": "stream",
     "text": [
      "Warning message in predict.lm(object, newdata, se.fit, scale = 1, type = if (type == :\n",
      "\"prediction from a rank-deficient fit may be misleading\"Warning message in predict.lm(object, newdata, se.fit, scale = 1, type = if (type == :\n",
      "\"prediction from a rank-deficient fit may be misleading\"Setting levels: control = 0, case = 1\n",
      "Setting direction: controls < cases\n",
      "Setting levels: control = 0, case = 1\n",
      "Setting direction: controls < cases\n"
     ]
    },
    {
     "name": "stdout",
     "output_type": "stream",
     "text": [
      " [1] \"nr.employed\"                   \"pdays\"                        \n",
      " [3] \"month.may\"                     \"poutcome.nonexistent\"         \n",
      " [5] \"contact.telephone\"             \"day_of_week.mon\"              \n",
      " [7] \"month.sep\"                     \"month.nov\"                    \n",
      " [9] \"job.services\"                  \"month.mar\"                    \n",
      "[11] \"cons.conf.idx\"                 \"month.aug\"                    \n",
      "[13] \"poutcome.failure\"              \"housing.unknown\"              \n",
      "[15] \"job.retired\"                   \"day_of_week.tue\"              \n",
      "[17] \"loan.unknown\"                  \"contact.cellular\"             \n",
      "[19] \"poutcome.success\"              \"education.high.school\"        \n",
      "[21] \"job.student\"                   \"education.illiterate\"         \n",
      "[23] \"education.professional.course\" \"job.unemployed\"               \n",
      "[25] \"housing.no\"                    \"housing.yes\"                  \n",
      "[27] \"marital.divorced\"              \"default.no\"                   \n",
      "[29] \"default.unknown\"               \"education.basic.6y\"           \n",
      "[31] \"emp.var.rate\"                  \"cons.price.idx\"               \n",
      "[33] \"month.jun\"                     \"euribor3m\"                    \n",
      "[35] \"month.dec\"                     \"job.self_employed\"            \n",
      "[37] \"month.oct\"                     \"day_of_week.fri\"              \n",
      "[39] \"job.unknown\"                   \"marital.married\"              \n",
      "[41] \"education.basic.9y\"            \"job.blue_collar\"              \n",
      "[43] \"job.management\"                \"job.entrepreneur\"             \n",
      "[45] \"education.unknown\"             \"campaign\"                     \n",
      "[47] \"loan.no\"                       \"loan.yes\"                     \n",
      "[49] \"age\"                           \"month.apr\"                    \n",
      "[51] \"month.jul\"                     \"previous\"                     \n",
      "[53] \"education.basic.4y\"           \n"
     ]
    },
    {
     "name": "stderr",
     "output_type": "stream",
     "text": [
      "Warning message in predict.lm(object, newdata, se.fit, scale = 1, type = if (type == :\n",
      "\"prediction from a rank-deficient fit may be misleading\"Warning message in predict.lm(object, newdata, se.fit, scale = 1, type = if (type == :\n",
      "\"prediction from a rank-deficient fit may be misleading\"Setting levels: control = 0, case = 1\n",
      "Setting direction: controls < cases\n",
      "Setting levels: control = 0, case = 1\n",
      "Setting direction: controls < cases\n"
     ]
    },
    {
     "name": "stdout",
     "output_type": "stream",
     "text": [
      " [1] \"nr.employed\"                   \"pdays\"                        \n",
      " [3] \"month.may\"                     \"poutcome.nonexistent\"         \n",
      " [5] \"contact.telephone\"             \"day_of_week.mon\"              \n",
      " [7] \"month.sep\"                     \"month.nov\"                    \n",
      " [9] \"job.services\"                  \"month.mar\"                    \n",
      "[11] \"cons.conf.idx\"                 \"month.aug\"                    \n",
      "[13] \"poutcome.failure\"              \"housing.unknown\"              \n",
      "[15] \"job.retired\"                   \"day_of_week.tue\"              \n",
      "[17] \"loan.unknown\"                  \"contact.cellular\"             \n",
      "[19] \"poutcome.success\"              \"education.high.school\"        \n",
      "[21] \"job.student\"                   \"education.illiterate\"         \n",
      "[23] \"education.professional.course\" \"job.unemployed\"               \n",
      "[25] \"housing.no\"                    \"housing.yes\"                  \n",
      "[27] \"marital.divorced\"              \"default.no\"                   \n",
      "[29] \"default.unknown\"               \"education.basic.6y\"           \n",
      "[31] \"emp.var.rate\"                  \"cons.price.idx\"               \n",
      "[33] \"month.jun\"                     \"euribor3m\"                    \n",
      "[35] \"month.dec\"                     \"job.self_employed\"            \n",
      "[37] \"month.oct\"                     \"day_of_week.fri\"              \n",
      "[39] \"job.unknown\"                   \"marital.married\"              \n",
      "[41] \"education.basic.9y\"            \"job.blue_collar\"              \n",
      "[43] \"job.management\"                \"job.entrepreneur\"             \n",
      "[45] \"education.unknown\"             \"campaign\"                     \n",
      "[47] \"loan.no\"                       \"loan.yes\"                     \n",
      "[49] \"age\"                           \"month.apr\"                    \n",
      "[51] \"month.jul\"                     \"previous\"                     \n",
      "[53] \"education.basic.4y\"            \"education.university.degree\"  \n"
     ]
    },
    {
     "name": "stderr",
     "output_type": "stream",
     "text": [
      "Warning message in predict.lm(object, newdata, se.fit, scale = 1, type = if (type == :\n",
      "\"prediction from a rank-deficient fit may be misleading\"Warning message in predict.lm(object, newdata, se.fit, scale = 1, type = if (type == :\n",
      "\"prediction from a rank-deficient fit may be misleading\"Setting levels: control = 0, case = 1\n",
      "Setting direction: controls < cases\n",
      "Setting levels: control = 0, case = 1\n",
      "Setting direction: controls < cases\n"
     ]
    },
    {
     "name": "stdout",
     "output_type": "stream",
     "text": [
      " [1] \"nr.employed\"                   \"pdays\"                        \n",
      " [3] \"month.may\"                     \"poutcome.nonexistent\"         \n",
      " [5] \"contact.telephone\"             \"day_of_week.mon\"              \n",
      " [7] \"month.sep\"                     \"month.nov\"                    \n",
      " [9] \"job.services\"                  \"month.mar\"                    \n",
      "[11] \"cons.conf.idx\"                 \"month.aug\"                    \n",
      "[13] \"poutcome.failure\"              \"housing.unknown\"              \n",
      "[15] \"job.retired\"                   \"day_of_week.tue\"              \n",
      "[17] \"loan.unknown\"                  \"contact.cellular\"             \n",
      "[19] \"poutcome.success\"              \"education.high.school\"        \n",
      "[21] \"job.student\"                   \"education.illiterate\"         \n",
      "[23] \"education.professional.course\" \"job.unemployed\"               \n",
      "[25] \"housing.no\"                    \"housing.yes\"                  \n",
      "[27] \"marital.divorced\"              \"default.no\"                   \n",
      "[29] \"default.unknown\"               \"education.basic.6y\"           \n",
      "[31] \"emp.var.rate\"                  \"cons.price.idx\"               \n",
      "[33] \"month.jun\"                     \"euribor3m\"                    \n",
      "[35] \"month.dec\"                     \"job.self_employed\"            \n",
      "[37] \"month.oct\"                     \"day_of_week.fri\"              \n",
      "[39] \"job.unknown\"                   \"marital.married\"              \n",
      "[41] \"education.basic.9y\"            \"job.blue_collar\"              \n",
      "[43] \"job.management\"                \"job.entrepreneur\"             \n",
      "[45] \"education.unknown\"             \"campaign\"                     \n",
      "[47] \"loan.no\"                       \"loan.yes\"                     \n",
      "[49] \"age\"                           \"month.apr\"                    \n",
      "[51] \"month.jul\"                     \"previous\"                     \n",
      "[53] \"education.basic.4y\"            \"education.university.degree\"  \n",
      "[55] \"job.admin.\"                   \n"
     ]
    },
    {
     "name": "stderr",
     "output_type": "stream",
     "text": [
      "Warning message in predict.lm(object, newdata, se.fit, scale = 1, type = if (type == :\n",
      "\"prediction from a rank-deficient fit may be misleading\"Warning message in predict.lm(object, newdata, se.fit, scale = 1, type = if (type == :\n",
      "\"prediction from a rank-deficient fit may be misleading\"Setting levels: control = 0, case = 1\n",
      "Setting direction: controls < cases\n",
      "Setting levels: control = 0, case = 1\n",
      "Setting direction: controls < cases\n"
     ]
    },
    {
     "name": "stdout",
     "output_type": "stream",
     "text": [
      " [1] \"nr.employed\"                   \"pdays\"                        \n",
      " [3] \"month.may\"                     \"poutcome.nonexistent\"         \n",
      " [5] \"contact.telephone\"             \"day_of_week.mon\"              \n",
      " [7] \"month.sep\"                     \"month.nov\"                    \n",
      " [9] \"job.services\"                  \"month.mar\"                    \n",
      "[11] \"cons.conf.idx\"                 \"month.aug\"                    \n",
      "[13] \"poutcome.failure\"              \"housing.unknown\"              \n",
      "[15] \"job.retired\"                   \"day_of_week.tue\"              \n",
      "[17] \"loan.unknown\"                  \"contact.cellular\"             \n",
      "[19] \"poutcome.success\"              \"education.high.school\"        \n",
      "[21] \"job.student\"                   \"education.illiterate\"         \n",
      "[23] \"education.professional.course\" \"job.unemployed\"               \n",
      "[25] \"housing.no\"                    \"housing.yes\"                  \n",
      "[27] \"marital.divorced\"              \"default.no\"                   \n",
      "[29] \"default.unknown\"               \"education.basic.6y\"           \n",
      "[31] \"emp.var.rate\"                  \"cons.price.idx\"               \n",
      "[33] \"month.jun\"                     \"euribor3m\"                    \n",
      "[35] \"month.dec\"                     \"job.self_employed\"            \n",
      "[37] \"month.oct\"                     \"day_of_week.fri\"              \n",
      "[39] \"job.unknown\"                   \"marital.married\"              \n",
      "[41] \"education.basic.9y\"            \"job.blue_collar\"              \n",
      "[43] \"job.management\"                \"job.entrepreneur\"             \n",
      "[45] \"education.unknown\"             \"campaign\"                     \n",
      "[47] \"loan.no\"                       \"loan.yes\"                     \n",
      "[49] \"age\"                           \"month.apr\"                    \n",
      "[51] \"month.jul\"                     \"previous\"                     \n",
      "[53] \"education.basic.4y\"            \"education.university.degree\"  \n",
      "[55] \"job.admin.\"                    \"marital.single\"               \n"
     ]
    },
    {
     "name": "stderr",
     "output_type": "stream",
     "text": [
      "Warning message in predict.lm(object, newdata, se.fit, scale = 1, type = if (type == :\n",
      "\"prediction from a rank-deficient fit may be misleading\"Warning message in predict.lm(object, newdata, se.fit, scale = 1, type = if (type == :\n",
      "\"prediction from a rank-deficient fit may be misleading\"Setting levels: control = 0, case = 1\n",
      "Setting direction: controls < cases\n",
      "Setting levels: control = 0, case = 1\n",
      "Setting direction: controls < cases\n"
     ]
    },
    {
     "name": "stdout",
     "output_type": "stream",
     "text": [
      " [1] \"nr.employed\"                   \"pdays\"                        \n",
      " [3] \"month.may\"                     \"poutcome.nonexistent\"         \n",
      " [5] \"contact.telephone\"             \"day_of_week.mon\"              \n",
      " [7] \"month.sep\"                     \"month.nov\"                    \n",
      " [9] \"job.services\"                  \"month.mar\"                    \n",
      "[11] \"cons.conf.idx\"                 \"month.aug\"                    \n",
      "[13] \"poutcome.failure\"              \"housing.unknown\"              \n",
      "[15] \"job.retired\"                   \"day_of_week.tue\"              \n",
      "[17] \"loan.unknown\"                  \"contact.cellular\"             \n",
      "[19] \"poutcome.success\"              \"education.high.school\"        \n",
      "[21] \"job.student\"                   \"education.illiterate\"         \n",
      "[23] \"education.professional.course\" \"job.unemployed\"               \n",
      "[25] \"housing.no\"                    \"housing.yes\"                  \n",
      "[27] \"marital.divorced\"              \"default.no\"                   \n",
      "[29] \"default.unknown\"               \"education.basic.6y\"           \n",
      "[31] \"emp.var.rate\"                  \"cons.price.idx\"               \n",
      "[33] \"month.jun\"                     \"euribor3m\"                    \n",
      "[35] \"month.dec\"                     \"job.self_employed\"            \n",
      "[37] \"month.oct\"                     \"day_of_week.fri\"              \n",
      "[39] \"job.unknown\"                   \"marital.married\"              \n",
      "[41] \"education.basic.9y\"            \"job.blue_collar\"              \n",
      "[43] \"job.management\"                \"job.entrepreneur\"             \n",
      "[45] \"education.unknown\"             \"campaign\"                     \n",
      "[47] \"loan.no\"                       \"loan.yes\"                     \n",
      "[49] \"age\"                           \"month.apr\"                    \n",
      "[51] \"month.jul\"                     \"previous\"                     \n",
      "[53] \"education.basic.4y\"            \"education.university.degree\"  \n",
      "[55] \"job.admin.\"                    \"marital.single\"               \n",
      "[57] \"marital.unknown\"              \n"
     ]
    },
    {
     "name": "stderr",
     "output_type": "stream",
     "text": [
      "Warning message in predict.lm(object, newdata, se.fit, scale = 1, type = if (type == :\n",
      "\"prediction from a rank-deficient fit may be misleading\"Warning message in predict.lm(object, newdata, se.fit, scale = 1, type = if (type == :\n",
      "\"prediction from a rank-deficient fit may be misleading\"Setting levels: control = 0, case = 1\n",
      "Setting direction: controls < cases\n",
      "Setting levels: control = 0, case = 1\n",
      "Setting direction: controls < cases\n"
     ]
    },
    {
     "name": "stdout",
     "output_type": "stream",
     "text": [
      " [1] \"nr.employed\"                   \"pdays\"                        \n",
      " [3] \"month.may\"                     \"poutcome.nonexistent\"         \n",
      " [5] \"contact.telephone\"             \"day_of_week.mon\"              \n",
      " [7] \"month.sep\"                     \"month.nov\"                    \n",
      " [9] \"job.services\"                  \"month.mar\"                    \n",
      "[11] \"cons.conf.idx\"                 \"month.aug\"                    \n",
      "[13] \"poutcome.failure\"              \"housing.unknown\"              \n",
      "[15] \"job.retired\"                   \"day_of_week.tue\"              \n",
      "[17] \"loan.unknown\"                  \"contact.cellular\"             \n",
      "[19] \"poutcome.success\"              \"education.high.school\"        \n",
      "[21] \"job.student\"                   \"education.illiterate\"         \n",
      "[23] \"education.professional.course\" \"job.unemployed\"               \n",
      "[25] \"housing.no\"                    \"housing.yes\"                  \n",
      "[27] \"marital.divorced\"              \"default.no\"                   \n",
      "[29] \"default.unknown\"               \"education.basic.6y\"           \n",
      "[31] \"emp.var.rate\"                  \"cons.price.idx\"               \n",
      "[33] \"month.jun\"                     \"euribor3m\"                    \n",
      "[35] \"month.dec\"                     \"job.self_employed\"            \n",
      "[37] \"month.oct\"                     \"day_of_week.fri\"              \n",
      "[39] \"job.unknown\"                   \"marital.married\"              \n",
      "[41] \"education.basic.9y\"            \"job.blue_collar\"              \n",
      "[43] \"job.management\"                \"job.entrepreneur\"             \n",
      "[45] \"education.unknown\"             \"campaign\"                     \n",
      "[47] \"loan.no\"                       \"loan.yes\"                     \n",
      "[49] \"age\"                           \"month.apr\"                    \n",
      "[51] \"month.jul\"                     \"previous\"                     \n",
      "[53] \"education.basic.4y\"            \"education.university.degree\"  \n",
      "[55] \"job.admin.\"                    \"marital.single\"               \n",
      "[57] \"marital.unknown\"               \"job.housemaid\"                \n"
     ]
    },
    {
     "name": "stderr",
     "output_type": "stream",
     "text": [
      "Warning message in predict.lm(object, newdata, se.fit, scale = 1, type = if (type == :\n",
      "\"prediction from a rank-deficient fit may be misleading\"Warning message in predict.lm(object, newdata, se.fit, scale = 1, type = if (type == :\n",
      "\"prediction from a rank-deficient fit may be misleading\"Setting levels: control = 0, case = 1\n",
      "Setting direction: controls < cases\n",
      "Setting levels: control = 0, case = 1\n",
      "Setting direction: controls < cases\n"
     ]
    },
    {
     "name": "stdout",
     "output_type": "stream",
     "text": [
      " [1] \"nr.employed\"                   \"pdays\"                        \n",
      " [3] \"month.may\"                     \"poutcome.nonexistent\"         \n",
      " [5] \"contact.telephone\"             \"day_of_week.mon\"              \n",
      " [7] \"month.sep\"                     \"month.nov\"                    \n",
      " [9] \"job.services\"                  \"month.mar\"                    \n",
      "[11] \"cons.conf.idx\"                 \"month.aug\"                    \n",
      "[13] \"poutcome.failure\"              \"housing.unknown\"              \n",
      "[15] \"job.retired\"                   \"day_of_week.tue\"              \n",
      "[17] \"loan.unknown\"                  \"contact.cellular\"             \n",
      "[19] \"poutcome.success\"              \"education.high.school\"        \n",
      "[21] \"job.student\"                   \"education.illiterate\"         \n",
      "[23] \"education.professional.course\" \"job.unemployed\"               \n",
      "[25] \"housing.no\"                    \"housing.yes\"                  \n",
      "[27] \"marital.divorced\"              \"default.no\"                   \n",
      "[29] \"default.unknown\"               \"education.basic.6y\"           \n",
      "[31] \"emp.var.rate\"                  \"cons.price.idx\"               \n",
      "[33] \"month.jun\"                     \"euribor3m\"                    \n",
      "[35] \"month.dec\"                     \"job.self_employed\"            \n",
      "[37] \"month.oct\"                     \"day_of_week.fri\"              \n",
      "[39] \"job.unknown\"                   \"marital.married\"              \n",
      "[41] \"education.basic.9y\"            \"job.blue_collar\"              \n",
      "[43] \"job.management\"                \"job.entrepreneur\"             \n",
      "[45] \"education.unknown\"             \"campaign\"                     \n",
      "[47] \"loan.no\"                       \"loan.yes\"                     \n",
      "[49] \"age\"                           \"month.apr\"                    \n",
      "[51] \"month.jul\"                     \"previous\"                     \n",
      "[53] \"education.basic.4y\"            \"education.university.degree\"  \n",
      "[55] \"job.admin.\"                    \"marital.single\"               \n",
      "[57] \"marital.unknown\"               \"job.housemaid\"                \n",
      "[59] \"job.technician\"               \n"
     ]
    },
    {
     "name": "stderr",
     "output_type": "stream",
     "text": [
      "Warning message in predict.lm(object, newdata, se.fit, scale = 1, type = if (type == :\n",
      "\"prediction from a rank-deficient fit may be misleading\"Warning message in predict.lm(object, newdata, se.fit, scale = 1, type = if (type == :\n",
      "\"prediction from a rank-deficient fit may be misleading\"Setting levels: control = 0, case = 1\n",
      "Setting direction: controls < cases\n",
      "Setting levels: control = 0, case = 1\n",
      "Setting direction: controls < cases\n"
     ]
    },
    {
     "name": "stdout",
     "output_type": "stream",
     "text": [
      " [1] \"nr.employed\"                   \"pdays\"                        \n",
      " [3] \"month.may\"                     \"poutcome.nonexistent\"         \n",
      " [5] \"contact.telephone\"             \"day_of_week.mon\"              \n",
      " [7] \"month.sep\"                     \"month.nov\"                    \n",
      " [9] \"job.services\"                  \"month.mar\"                    \n",
      "[11] \"cons.conf.idx\"                 \"month.aug\"                    \n",
      "[13] \"poutcome.failure\"              \"housing.unknown\"              \n",
      "[15] \"job.retired\"                   \"day_of_week.tue\"              \n",
      "[17] \"loan.unknown\"                  \"contact.cellular\"             \n",
      "[19] \"poutcome.success\"              \"education.high.school\"        \n",
      "[21] \"job.student\"                   \"education.illiterate\"         \n",
      "[23] \"education.professional.course\" \"job.unemployed\"               \n",
      "[25] \"housing.no\"                    \"housing.yes\"                  \n",
      "[27] \"marital.divorced\"              \"default.no\"                   \n",
      "[29] \"default.unknown\"               \"education.basic.6y\"           \n",
      "[31] \"emp.var.rate\"                  \"cons.price.idx\"               \n",
      "[33] \"month.jun\"                     \"euribor3m\"                    \n",
      "[35] \"month.dec\"                     \"job.self_employed\"            \n",
      "[37] \"month.oct\"                     \"day_of_week.fri\"              \n",
      "[39] \"job.unknown\"                   \"marital.married\"              \n",
      "[41] \"education.basic.9y\"            \"job.blue_collar\"              \n",
      "[43] \"job.management\"                \"job.entrepreneur\"             \n",
      "[45] \"education.unknown\"             \"campaign\"                     \n",
      "[47] \"loan.no\"                       \"loan.yes\"                     \n",
      "[49] \"age\"                           \"month.apr\"                    \n",
      "[51] \"month.jul\"                     \"previous\"                     \n",
      "[53] \"education.basic.4y\"            \"education.university.degree\"  \n",
      "[55] \"job.admin.\"                    \"marital.single\"               \n",
      "[57] \"marital.unknown\"               \"job.housemaid\"                \n",
      "[59] \"job.technician\"                \"day_of_week.thu\"              \n"
     ]
    },
    {
     "name": "stderr",
     "output_type": "stream",
     "text": [
      "Warning message in predict.lm(object, newdata, se.fit, scale = 1, type = if (type == :\n",
      "\"prediction from a rank-deficient fit may be misleading\"Warning message in predict.lm(object, newdata, se.fit, scale = 1, type = if (type == :\n",
      "\"prediction from a rank-deficient fit may be misleading\"Setting levels: control = 0, case = 1\n",
      "Setting direction: controls < cases\n",
      "Setting levels: control = 0, case = 1\n",
      "Setting direction: controls < cases\n"
     ]
    },
    {
     "name": "stdout",
     "output_type": "stream",
     "text": [
      " [1] \"nr.employed\"                   \"pdays\"                        \n",
      " [3] \"month.may\"                     \"poutcome.nonexistent\"         \n",
      " [5] \"contact.telephone\"             \"day_of_week.mon\"              \n",
      " [7] \"month.sep\"                     \"month.nov\"                    \n",
      " [9] \"job.services\"                  \"month.mar\"                    \n",
      "[11] \"cons.conf.idx\"                 \"month.aug\"                    \n",
      "[13] \"poutcome.failure\"              \"housing.unknown\"              \n",
      "[15] \"job.retired\"                   \"day_of_week.tue\"              \n",
      "[17] \"loan.unknown\"                  \"contact.cellular\"             \n",
      "[19] \"poutcome.success\"              \"education.high.school\"        \n",
      "[21] \"job.student\"                   \"education.illiterate\"         \n",
      "[23] \"education.professional.course\" \"job.unemployed\"               \n",
      "[25] \"housing.no\"                    \"housing.yes\"                  \n",
      "[27] \"marital.divorced\"              \"default.no\"                   \n",
      "[29] \"default.unknown\"               \"education.basic.6y\"           \n",
      "[31] \"emp.var.rate\"                  \"cons.price.idx\"               \n",
      "[33] \"month.jun\"                     \"euribor3m\"                    \n",
      "[35] \"month.dec\"                     \"job.self_employed\"            \n",
      "[37] \"month.oct\"                     \"day_of_week.fri\"              \n",
      "[39] \"job.unknown\"                   \"marital.married\"              \n",
      "[41] \"education.basic.9y\"            \"job.blue_collar\"              \n",
      "[43] \"job.management\"                \"job.entrepreneur\"             \n",
      "[45] \"education.unknown\"             \"campaign\"                     \n",
      "[47] \"loan.no\"                       \"loan.yes\"                     \n",
      "[49] \"age\"                           \"month.apr\"                    \n",
      "[51] \"month.jul\"                     \"previous\"                     \n",
      "[53] \"education.basic.4y\"            \"education.university.degree\"  \n",
      "[55] \"job.admin.\"                    \"marital.single\"               \n",
      "[57] \"marital.unknown\"               \"job.housemaid\"                \n",
      "[59] \"job.technician\"                \"day_of_week.thu\"              \n",
      "[61] \"day_of_week.wed\"              \n"
     ]
    },
    {
     "name": "stderr",
     "output_type": "stream",
     "text": [
      "Warning message in predict.lm(object, newdata, se.fit, scale = 1, type = if (type == :\n",
      "\"prediction from a rank-deficient fit may be misleading\"Warning message in predict.lm(object, newdata, se.fit, scale = 1, type = if (type == :\n",
      "\"prediction from a rank-deficient fit may be misleading\"Setting levels: control = 0, case = 1\n",
      "Setting direction: controls < cases\n",
      "Setting levels: control = 0, case = 1\n",
      "Setting direction: controls < cases\n"
     ]
    },
    {
     "data": {
      "image/png": "[encoded data removed]",
      "text/plain": [
       "Plot with title \"AUC\""
      ]
     },
     "metadata": {},
     "output_type": "display_data"
    }
   ],
   "source": [
    "#installation pROC package to compute AUC\n",
    "if (!require(\"pROC\")) install.packages(\"pROC\")\n",
    "library(pROC)\n",
    "# All variables:\n",
    "variables = colnames(train_glm1)[2:(ncol(train_glm1)-1)]\n",
    "variablesorder = c()\n",
    "\n",
    "# Construct a logistic regression model with no variables\n",
    "model_glm = glm(subscribe ~ 1,data=train_glm1,family=binomial(link='logit'))\n",
    "\n",
    "# Construct a formula with all the variables\n",
    "formula=formula(paste(\"subscribe\",\"~\",paste(variables,collapse=\"+\")))\n",
    "\n",
    "#Loop over the steps\n",
    "for(i in c(1:length(variables))){\n",
    "  #calculate AIC of each model\n",
    "  info = add1(model_glm,scope=formula,data=train_glm1)\n",
    "  #get variable with highest AIC\n",
    "  orderedvariables = rownames(info[order(info$AIC),])\n",
    "  v = orderedvariables[orderedvariables!=\"<none>\"][1]\n",
    "  #add variable to formula\n",
    "  variablesorder = append(variablesorder,v)\n",
    "  formulanew = formula(paste(\"subscribe\",\"~\",paste(variablesorder,collapse = \"+\")))\n",
    "  model_glm = glm(formulanew,data=train_glm1,family=binomial(link='logit'))\n",
    "  print(v)\n",
    "}\n",
    "\n",
    "auctrain = rep(0,length(variablesorder)-1)\n",
    "auctest = rep(0,length(variablesorder)-1)\n",
    "\n",
    "for(i in c(1:(length(variablesorder)-1))){\n",
    "  vars = variablesorder[0:i+1]\n",
    "  print(vars)\n",
    "  formula<-paste(\"subscribe\",\"~\",paste(vars,collapse=\"+\"))\n",
    "  model_glm<-glm(formula,data=train_glm1,family=binomial(link='logit'))\n",
    "  predicttrain<-predict(model_glm,newdata=train_glm1,type=\"response\")\n",
    "  predicttest<-predict(model_glm,newdata=test_glm1,type=\"response\")\n",
    "  auctrain[i] = auc(train_glm1$subscribe,predicttrain)\n",
    "  auctest[i] = auc(test_glm1$subscribe,predicttest)\n",
    "} \n",
    "\n",
    "#Plot AUC Test and Train\n",
    "plot(auctrain, main=\"AUC\", col=\"red\",ylim= c(0.7, 0.99), ylab = \" \")\n",
    "lines(auctest,col=\"blue\", type=\"p\")\n",
    "\n",
    "legend(\"bottom\", legend=c(\"Train\",\"Test\"), ncol=2,bty=\"n\",\n",
    "       col=c(\"red\", \"blue\"), lwd = 2)"
   ]
  },
  {
   "cell_type": "code",
   "execution_count": 33,
   "metadata": {},
   "outputs": [
    {
     "name": "stderr",
     "output_type": "stream",
     "text": [
      "Warning message in predict.lm(object, newdata, se.fit, scale = 1, type = if (type == :\n",
      "\"prediction from a rank-deficient fit may be misleading\"Warning message in predict.lm(object, newdata, se.fit, scale = 1, type = if (type == :\n",
      "\"prediction from a rank-deficient fit may be misleading\"Setting levels: control = 0, case = 1\n",
      "Setting direction: controls < cases\n",
      "Setting levels: control = 0, case = 1\n",
      "Setting direction: controls < cases\n"
     ]
    }
   ],
   "source": [
    "#Select the model with optimal number of variables which will be 30 in this case \n",
    "finalvariables = variablesorder[c(0:30)]\n",
    "formula<-paste(\"subscribe\",\"~\",paste(finalvariables,collapse=\"+\"))\n",
    "model_glm<-glm(formula,data=train_glm1,family=binomial(link='logit'))\n",
    "predicttrain<-predict(model_glm,newdata=train_glm1,type=\"response\")\n",
    "predicttest<-predict(model_glm,newdata=test_glm1,type=\"response\")\n",
    "#Calculating the auctrain and auctest with our selected variables\n",
    "auctrain <- auc(train_glm1$subscribe,predicttrain)\n",
    "auctest <- auc(test_glm1$subscribe,predicttest)"
   ]
  },
  {
   "cell_type": "code",
   "execution_count": 36,
   "metadata": {},
   "outputs": [
    {
     "name": "stdout",
     "output_type": "stream",
     "text": [
      "Area under the curve: 0.7856\n"
     ]
    }
   ],
   "source": [
    "print(auctest)"
   ]
  },
  {
   "cell_type": "code",
   "execution_count": 41,
   "metadata": {},
   "outputs": [],
   "source": [
    "#add columns of zeros for column education.illiterate\n",
    "test_glm$education.illiterate <- 0"
   ]
  },
  {
   "cell_type": "code",
   "execution_count": 42,
   "metadata": {},
   "outputs": [
    {
     "name": "stderr",
     "output_type": "stream",
     "text": [
      "Warning message in predict.lm(object, newdata, se.fit, scale = 1, type = if (type == :\n",
      "\"prediction from a rank-deficient fit may be misleading\""
     ]
    }
   ],
   "source": [
    "#predict in the submission dataset for kaggle\n",
    "glm.submission <- predict(model_glm,newdata=test_glm, type = \"response\")\n",
    "glm.submission <- data.frame(glm.submission)\n",
    "write.csv(glm.submission ,\"glmkaggle.csv\", row.names = FALSE)"
   ]
  },
  {
   "cell_type": "markdown",
   "metadata": {},
   "source": [
    "## Support Vector Machine "
   ]
  },
  {
   "cell_type": "code",
   "execution_count": null,
   "metadata": {},
   "outputs": [],
   "source": [
    "#train dummy \n",
    "train_svm<-dummy.data.frame(bank_train,sep=\".\")\n",
    "names(train_svm)"
   ]
  },
  {
   "cell_type": "code",
   "execution_count": null,
   "metadata": {},
   "outputs": [],
   "source": [
    "#test_dummy\n",
    "test_svm <- dummy.data.frame(bank_test,sep=\".\")\n",
    "names(test_svm)"
   ]
  },
  {
   "cell_type": "code",
   "execution_count": null,
   "metadata": {},
   "outputs": [],
   "source": [
    "#thje first column is client_id and the last one is the target(subscribe)\n",
    "dim(train_svm)"
   ]
  },
  {
   "cell_type": "code",
   "execution_count": null,
   "metadata": {},
   "outputs": [],
   "source": [
    "#feature selection by doing a correlation matrix without primary and target vaiable\n",
    "correlationMatrix <- cor(train_svm[,2:62])\n",
    "print(correlationMatrix)"
   ]
  },
  {
   "cell_type": "code",
   "execution_count": null,
   "metadata": {},
   "outputs": [],
   "source": [
    "correlationMatrix[34]"
   ]
  },
  {
   "cell_type": "code",
   "execution_count": null,
   "metadata": {},
   "outputs": [],
   "source": [
    "#we establish a threshold of 0.5 of correlation\n",
    "cor_relevant <- findCorrelation(correlationMatrix, cutoff=0.5)"
   ]
  },
  {
   "cell_type": "code",
   "execution_count": null,
   "metadata": {},
   "outputs": [],
   "source": [
    "print(cor_relevant)\n"
   ]
  },
  {
   "cell_type": "code",
   "execution_count": null,
   "metadata": {},
   "outputs": [],
   "source": [
    "colnames(train_svm[c(cor_relevant)])"
   ]
  },
  {
   "cell_type": "code",
   "execution_count": null,
   "metadata": {},
   "outputs": [],
   "source": [
    "#training scheme \n",
    "control <- trainControl(method=\"cv\", number=5)"
   ]
  },
  {
   "cell_type": "code",
   "execution_count": null,
   "metadata": {},
   "outputs": [],
   "source": [
    "#train and test set to see accuracy and then predict\n",
    "set.seed(213)\n",
    "smp_size <- floor(0.75 * nrow(bank_train))\n",
    "\n",
    "# set the seed to make your partition reproducible\n",
    "set.seed(12)\n",
    "train_ind_svm <- sample(seq_len(nrow(bank_train)), size = smp_size)\n",
    "\n",
    "train_svm1 <- train_svm[train_ind_svm, ]\n",
    "test_svm1<- train_svm[-train_ind_svm, ]"
   ]
  },
  {
   "cell_type": "code",
   "execution_count": null,
   "metadata": {},
   "outputs": [],
   "source": [
    "if (!require(\"kernlab\")) install.packages(\"kernlab\")\n",
    "library(kernlab)\n",
    "model_svm <- train(subscribe~cons.conf.idx+poutcome.success+euribor3m+emp.var.rate+loan.yes+poutcome.failure+pdays+campaign+education.unknown + marital.married +housing.unknown+housing.yes+loan.no, data=train_svm, method=\"svmRadial\", preProcess=\"scale\", trControl=control)"
   ]
  },
  {
   "cell_type": "code",
   "execution_count": null,
   "metadata": {},
   "outputs": [],
   "source": [
    "model_test_svm <- predict(model_svm,test_svm1)"
   ]
  },
  {
   "cell_type": "code",
   "execution_count": null,
   "metadata": {},
   "outputs": [],
   "source": [
    "#see the performance using AUC\n",
    "library(ROCR)\n",
    "pred <- prediction(model_test_svm, test_svm1$subscribe)\n",
    "perf <- performance(pred, measure = \"tpr\", x.measure = \"fpr\")\n",
    "plot(perf)\n",
    "\n",
    "auc <- performance(pred, measure = \"auc\")\n",
    "auc <- auc@y.values[[1]]\n",
    "auc"
   ]
  },
  {
   "cell_type": "code",
   "execution_count": null,
   "metadata": {},
   "outputs": [],
   "source": [
    "#predict svm submission\n",
    "svm.sub <- predict(model_svm,newdata=test_svm, type = \"raw\")\n",
    "svm.sub <- data.frame(svm.sub)\n",
    "write.csv(glm.submission ,\"svmkaggle.csv\", row.names = FALSE)"
   ]
  },
  {
   "cell_type": "markdown",
   "metadata": {},
   "source": [
    "## LDA"
   ]
  },
  {
   "cell_type": "code",
   "execution_count": null,
   "metadata": {},
   "outputs": [],
   "source": [
    "# Dummifying the categorical variables \n",
    "train_lda<-dummy.data.frame(bank_train,sep=\".\")\n",
    "names(train_lda)"
   ]
  },
  {
   "cell_type": "code",
   "execution_count": null,
   "metadata": {},
   "outputs": [],
   "source": [
    "# PCA\n",
    "if (!require(\"dplyr\")) install.packages(\"dplyr\")\n",
    "library(dplyr)\n",
    "pca_trainset = train_lda %>% select( -subscribe, -client_id, -education.illiterate)\n",
    "pca_testset = subs_dummy \n",
    "pca = prcomp( pca_trainset, scale = T )\n",
    "\n",
    "# variance\n",
    "pr_var = ( pca$sdev )^2 \n",
    "\n",
    "# % of variance\n",
    "prop_varex = pr_var / sum( pr_var )\n",
    "\n",
    "# Plot\n",
    "plot( prop_varex, xlab = \"Principal Component\", \n",
    "                  ylab = \"Proportion of Variance Explained\", type = \"b\" )\n",
    "\n",
    "#According to this graph we should choose up to the first 37 components\n",
    "\n",
    "#According to this graph we should choose up to the first 37 components"
   ]
  },
  {
   "cell_type": "code",
   "execution_count": null,
   "metadata": {},
   "outputs": [],
   "source": [
    "# Scree Plot\n",
    "#With respect to the cumulative variance most of it is explained by the 46 first components\n",
    "plot( cumsum( prop_varex ), xlab = \"Principal Component\", \n",
    "                            ylab = \"Cumulative Proportion of Variance Explained\", type = \"b\" )"
   ]
  },
  {
   "cell_type": "code",
   "execution_count": null,
   "metadata": {},
   "outputs": [],
   "source": [
    "# Creating a new dataset\n",
    "train = data.frame( class = train_lda$subscribe, pca$x )\n",
    "t = as.data.frame( predict( pca, newdata = pca_testset ) )\n",
    "\n",
    "trainset_pca = train[, 1:46]\n",
    "testset_pca =  t[, 1:45]"
   ]
  },
  {
   "cell_type": "code",
   "execution_count": null,
   "metadata": {},
   "outputs": [],
   "source": [
    "head(trainset_pca)"
   ]
  },
  {
   "cell_type": "code",
   "execution_count": null,
   "metadata": {},
   "outputs": [],
   "source": [
    "#LDA model \n",
    "#divide trainset_pca into train and validation\n",
    "set.seed(143)\n",
    "smp_size <- floor(0.75 * nrow(trainset_pca))\n",
    "\n",
    "# set the seed to make your partition reproducible\n",
    "set.seed(123)\n",
    "pca_ind <- sample(seq_len(nrow(trainset_pca)), size = smp_size)\n",
    "\n",
    "train_pca1 <- trainset_pca[pca_ind, ]\n",
    "validation_pca1 <- trainset_pca[-pca_ind, ]"
   ]
  },
  {
   "cell_type": "code",
   "execution_count": null,
   "metadata": {},
   "outputs": [],
   "source": [
    "if (!require(\"MASS\")) install.packages(\"MASS\")\n",
    "library(MASS)\n",
    "lda.fit <- lda(class~.,data=train_pca1)"
   ]
  },
  {
   "cell_type": "code",
   "execution_count": null,
   "metadata": {},
   "outputs": [],
   "source": [
    "#predict in validation set \n",
    "lda.pred<- predict(lda.fit,validation_pca1,type=\"raw\")\n",
    "names(lda.pred)"
   ]
  },
  {
   "cell_type": "code",
   "execution_count": null,
   "metadata": {},
   "outputs": [],
   "source": [
    "#see the performance using AUC\n",
    "library(ROCR)\n",
    "pred <- prediction(lda.pred$x, validation_pca1$class)\n",
    "perf <- performance(pred, measure = \"tpr\", x.measure = \"fpr\")\n",
    "plot(perf)\n",
    "\n",
    "auc <- performance(pred, measure = \"auc\")\n",
    "auc <- auc@y.values[[1]]\n",
    "auc"
   ]
  },
  {
   "cell_type": "code",
   "execution_count": null,
   "metadata": {},
   "outputs": [],
   "source": [
    "#now predict in submission dataset\n",
    "lda.sub <- predict(lda.fit,testset_pca,type=\"raw\")\n",
    "lda.sub <- data.frame(lda.sub)\n",
    "write.csv(lda.sub ,\"ldakaggle.csv\", row.names = FALSE)"
   ]
  },
  {
   "cell_type": "code",
   "execution_count": null,
   "metadata": {},
   "outputs": [],
   "source": [
    "#https://towardsdatascience.com/dimensionality-reduction-does-pca-really-improve-classification-outcome-6e9ba21f0a32"
   ]
  }
 ],
 "metadata": {
  "kernelspec": {
   "display_name": "R",
   "language": "R",
   "name": "ir"
  },
  "language_info": {
   "codemirror_mode": "r",
   "file_extension": ".r",
   "mimetype": "text/x-r-source",
   "name": "R",
   "pygments_lexer": "r",
   "version": "3.6.0"
  }
 },
 "nbformat": 4,
 "nbformat_minor": 2
}
